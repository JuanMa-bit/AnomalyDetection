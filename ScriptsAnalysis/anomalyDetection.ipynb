{
 "cells": [
  {
   "cell_type": "code",
   "execution_count": 1,
   "id": "5beeb55a",
   "metadata": {},
   "outputs": [],
   "source": [
    "import pandas as pd \n",
    "from pycaret.anomaly import *"
   ]
  },
  {
   "cell_type": "code",
   "execution_count": 6,
   "id": "1306c3b3",
   "metadata": {},
   "outputs": [],
   "source": [
    "pathModels=r'C:\\Users\\ext_jmcampor\\Desktop\\Falabella\\virtualEnvs\\ProyectoAnomalyDetection\\Models'\n",
    "pathDatos=r'C:\\Users\\ext_jmcampor\\Desktop\\Falabella\\virtualEnvs\\ProyectoAnomalyDetection\\Datos'\n",
    "nameFile='\\dfAnomaly.csv'\n",
    "dfAnomaly=pd.read_csv(pathDatos+nameFile)"
   ]
  },
  {
   "cell_type": "code",
   "execution_count": 3,
   "id": "cfcd5b3e",
   "metadata": {},
   "outputs": [],
   "source": [
    "dfAnomaly1=dfAnomaly[['Cantidad boletas','TotalUnidades','TotalCompraPesos','PromoDay','Si','TotalPromos']].drop_duplicates()"
   ]
  },
  {
   "cell_type": "code",
   "execution_count": 14,
   "id": "db9e3a80",
   "metadata": {},
   "outputs": [],
   "source": [
    "dfAnomaly2=dfAnomaly[['Cantidad boletas','TotalUnidades','TotalCompraPesos','PromoDay','Si']].drop_duplicates()"
   ]
  },
  {
   "cell_type": "code",
   "execution_count": 4,
   "id": "d2d5731f",
   "metadata": {},
   "outputs": [
    {
     "data": {
      "text/plain": [
       "1212"
      ]
     },
     "execution_count": 4,
     "metadata": {},
     "output_type": "execute_result"
    }
   ],
   "source": [
    "len(dfAnomaly1)"
   ]
  },
  {
   "cell_type": "code",
   "execution_count": 5,
   "id": "edebeb83",
   "metadata": {},
   "outputs": [
    {
     "data": {
      "text/html": [
       "<style type=\"text/css\">\n",
       "#T_f7014_row11_col1, #T_f7014_row21_col1 {\n",
       "  background-color: lightgreen;\n",
       "}\n",
       "</style>\n",
       "<table id=\"T_f7014\">\n",
       "  <thead>\n",
       "    <tr>\n",
       "      <th class=\"blank level0\" >&nbsp;</th>\n",
       "      <th id=\"T_f7014_level0_col0\" class=\"col_heading level0 col0\" >Description</th>\n",
       "      <th id=\"T_f7014_level0_col1\" class=\"col_heading level0 col1\" >Value</th>\n",
       "    </tr>\n",
       "  </thead>\n",
       "  <tbody>\n",
       "    <tr>\n",
       "      <th id=\"T_f7014_level0_row0\" class=\"row_heading level0 row0\" >0</th>\n",
       "      <td id=\"T_f7014_row0_col0\" class=\"data row0 col0\" >session_id</td>\n",
       "      <td id=\"T_f7014_row0_col1\" class=\"data row0 col1\" >8734</td>\n",
       "    </tr>\n",
       "    <tr>\n",
       "      <th id=\"T_f7014_level0_row1\" class=\"row_heading level0 row1\" >1</th>\n",
       "      <td id=\"T_f7014_row1_col0\" class=\"data row1 col0\" >Original Data</td>\n",
       "      <td id=\"T_f7014_row1_col1\" class=\"data row1 col1\" >(1212, 6)</td>\n",
       "    </tr>\n",
       "    <tr>\n",
       "      <th id=\"T_f7014_level0_row2\" class=\"row_heading level0 row2\" >2</th>\n",
       "      <td id=\"T_f7014_row2_col0\" class=\"data row2 col0\" >Missing Values</td>\n",
       "      <td id=\"T_f7014_row2_col1\" class=\"data row2 col1\" >False</td>\n",
       "    </tr>\n",
       "    <tr>\n",
       "      <th id=\"T_f7014_level0_row3\" class=\"row_heading level0 row3\" >3</th>\n",
       "      <td id=\"T_f7014_row3_col0\" class=\"data row3 col0\" >Numeric Features</td>\n",
       "      <td id=\"T_f7014_row3_col1\" class=\"data row3 col1\" >6</td>\n",
       "    </tr>\n",
       "    <tr>\n",
       "      <th id=\"T_f7014_level0_row4\" class=\"row_heading level0 row4\" >4</th>\n",
       "      <td id=\"T_f7014_row4_col0\" class=\"data row4 col0\" >Categorical Features</td>\n",
       "      <td id=\"T_f7014_row4_col1\" class=\"data row4 col1\" >0</td>\n",
       "    </tr>\n",
       "    <tr>\n",
       "      <th id=\"T_f7014_level0_row5\" class=\"row_heading level0 row5\" >5</th>\n",
       "      <td id=\"T_f7014_row5_col0\" class=\"data row5 col0\" >Ordinal Features</td>\n",
       "      <td id=\"T_f7014_row5_col1\" class=\"data row5 col1\" >False</td>\n",
       "    </tr>\n",
       "    <tr>\n",
       "      <th id=\"T_f7014_level0_row6\" class=\"row_heading level0 row6\" >6</th>\n",
       "      <td id=\"T_f7014_row6_col0\" class=\"data row6 col0\" >High Cardinality Features</td>\n",
       "      <td id=\"T_f7014_row6_col1\" class=\"data row6 col1\" >False</td>\n",
       "    </tr>\n",
       "    <tr>\n",
       "      <th id=\"T_f7014_level0_row7\" class=\"row_heading level0 row7\" >7</th>\n",
       "      <td id=\"T_f7014_row7_col0\" class=\"data row7 col0\" >High Cardinality Method</td>\n",
       "      <td id=\"T_f7014_row7_col1\" class=\"data row7 col1\" >None</td>\n",
       "    </tr>\n",
       "    <tr>\n",
       "      <th id=\"T_f7014_level0_row8\" class=\"row_heading level0 row8\" >8</th>\n",
       "      <td id=\"T_f7014_row8_col0\" class=\"data row8 col0\" >Transformed Data</td>\n",
       "      <td id=\"T_f7014_row8_col1\" class=\"data row8 col1\" >(1212, 6)</td>\n",
       "    </tr>\n",
       "    <tr>\n",
       "      <th id=\"T_f7014_level0_row9\" class=\"row_heading level0 row9\" >9</th>\n",
       "      <td id=\"T_f7014_row9_col0\" class=\"data row9 col0\" >CPU Jobs</td>\n",
       "      <td id=\"T_f7014_row9_col1\" class=\"data row9 col1\" >-1</td>\n",
       "    </tr>\n",
       "    <tr>\n",
       "      <th id=\"T_f7014_level0_row10\" class=\"row_heading level0 row10\" >10</th>\n",
       "      <td id=\"T_f7014_row10_col0\" class=\"data row10 col0\" >Use GPU</td>\n",
       "      <td id=\"T_f7014_row10_col1\" class=\"data row10 col1\" >False</td>\n",
       "    </tr>\n",
       "    <tr>\n",
       "      <th id=\"T_f7014_level0_row11\" class=\"row_heading level0 row11\" >11</th>\n",
       "      <td id=\"T_f7014_row11_col0\" class=\"data row11 col0\" >Log Experiment</td>\n",
       "      <td id=\"T_f7014_row11_col1\" class=\"data row11 col1\" >True</td>\n",
       "    </tr>\n",
       "    <tr>\n",
       "      <th id=\"T_f7014_level0_row12\" class=\"row_heading level0 row12\" >12</th>\n",
       "      <td id=\"T_f7014_row12_col0\" class=\"data row12 col0\" >Experiment Name</td>\n",
       "      <td id=\"T_f7014_row12_col1\" class=\"data row12 col1\" >AnomaliasV1</td>\n",
       "    </tr>\n",
       "    <tr>\n",
       "      <th id=\"T_f7014_level0_row13\" class=\"row_heading level0 row13\" >13</th>\n",
       "      <td id=\"T_f7014_row13_col0\" class=\"data row13 col0\" >USI</td>\n",
       "      <td id=\"T_f7014_row13_col1\" class=\"data row13 col1\" >9a31</td>\n",
       "    </tr>\n",
       "    <tr>\n",
       "      <th id=\"T_f7014_level0_row14\" class=\"row_heading level0 row14\" >14</th>\n",
       "      <td id=\"T_f7014_row14_col0\" class=\"data row14 col0\" >Imputation Type</td>\n",
       "      <td id=\"T_f7014_row14_col1\" class=\"data row14 col1\" >simple</td>\n",
       "    </tr>\n",
       "    <tr>\n",
       "      <th id=\"T_f7014_level0_row15\" class=\"row_heading level0 row15\" >15</th>\n",
       "      <td id=\"T_f7014_row15_col0\" class=\"data row15 col0\" >Iterative Imputation Iteration</td>\n",
       "      <td id=\"T_f7014_row15_col1\" class=\"data row15 col1\" >None</td>\n",
       "    </tr>\n",
       "    <tr>\n",
       "      <th id=\"T_f7014_level0_row16\" class=\"row_heading level0 row16\" >16</th>\n",
       "      <td id=\"T_f7014_row16_col0\" class=\"data row16 col0\" >Numeric Imputer</td>\n",
       "      <td id=\"T_f7014_row16_col1\" class=\"data row16 col1\" >mean</td>\n",
       "    </tr>\n",
       "    <tr>\n",
       "      <th id=\"T_f7014_level0_row17\" class=\"row_heading level0 row17\" >17</th>\n",
       "      <td id=\"T_f7014_row17_col0\" class=\"data row17 col0\" >Iterative Imputation Numeric Model</td>\n",
       "      <td id=\"T_f7014_row17_col1\" class=\"data row17 col1\" >None</td>\n",
       "    </tr>\n",
       "    <tr>\n",
       "      <th id=\"T_f7014_level0_row18\" class=\"row_heading level0 row18\" >18</th>\n",
       "      <td id=\"T_f7014_row18_col0\" class=\"data row18 col0\" >Categorical Imputer</td>\n",
       "      <td id=\"T_f7014_row18_col1\" class=\"data row18 col1\" >mode</td>\n",
       "    </tr>\n",
       "    <tr>\n",
       "      <th id=\"T_f7014_level0_row19\" class=\"row_heading level0 row19\" >19</th>\n",
       "      <td id=\"T_f7014_row19_col0\" class=\"data row19 col0\" >Iterative Imputation Categorical Model</td>\n",
       "      <td id=\"T_f7014_row19_col1\" class=\"data row19 col1\" >None</td>\n",
       "    </tr>\n",
       "    <tr>\n",
       "      <th id=\"T_f7014_level0_row20\" class=\"row_heading level0 row20\" >20</th>\n",
       "      <td id=\"T_f7014_row20_col0\" class=\"data row20 col0\" >Unknown Categoricals Handling</td>\n",
       "      <td id=\"T_f7014_row20_col1\" class=\"data row20 col1\" >least_frequent</td>\n",
       "    </tr>\n",
       "    <tr>\n",
       "      <th id=\"T_f7014_level0_row21\" class=\"row_heading level0 row21\" >21</th>\n",
       "      <td id=\"T_f7014_row21_col0\" class=\"data row21 col0\" >Normalize</td>\n",
       "      <td id=\"T_f7014_row21_col1\" class=\"data row21 col1\" >True</td>\n",
       "    </tr>\n",
       "    <tr>\n",
       "      <th id=\"T_f7014_level0_row22\" class=\"row_heading level0 row22\" >22</th>\n",
       "      <td id=\"T_f7014_row22_col0\" class=\"data row22 col0\" >Normalize Method</td>\n",
       "      <td id=\"T_f7014_row22_col1\" class=\"data row22 col1\" >zscore</td>\n",
       "    </tr>\n",
       "    <tr>\n",
       "      <th id=\"T_f7014_level0_row23\" class=\"row_heading level0 row23\" >23</th>\n",
       "      <td id=\"T_f7014_row23_col0\" class=\"data row23 col0\" >Transformation</td>\n",
       "      <td id=\"T_f7014_row23_col1\" class=\"data row23 col1\" >False</td>\n",
       "    </tr>\n",
       "    <tr>\n",
       "      <th id=\"T_f7014_level0_row24\" class=\"row_heading level0 row24\" >24</th>\n",
       "      <td id=\"T_f7014_row24_col0\" class=\"data row24 col0\" >Transformation Method</td>\n",
       "      <td id=\"T_f7014_row24_col1\" class=\"data row24 col1\" >None</td>\n",
       "    </tr>\n",
       "    <tr>\n",
       "      <th id=\"T_f7014_level0_row25\" class=\"row_heading level0 row25\" >25</th>\n",
       "      <td id=\"T_f7014_row25_col0\" class=\"data row25 col0\" >PCA</td>\n",
       "      <td id=\"T_f7014_row25_col1\" class=\"data row25 col1\" >False</td>\n",
       "    </tr>\n",
       "    <tr>\n",
       "      <th id=\"T_f7014_level0_row26\" class=\"row_heading level0 row26\" >26</th>\n",
       "      <td id=\"T_f7014_row26_col0\" class=\"data row26 col0\" >PCA Method</td>\n",
       "      <td id=\"T_f7014_row26_col1\" class=\"data row26 col1\" >None</td>\n",
       "    </tr>\n",
       "    <tr>\n",
       "      <th id=\"T_f7014_level0_row27\" class=\"row_heading level0 row27\" >27</th>\n",
       "      <td id=\"T_f7014_row27_col0\" class=\"data row27 col0\" >PCA Components</td>\n",
       "      <td id=\"T_f7014_row27_col1\" class=\"data row27 col1\" >None</td>\n",
       "    </tr>\n",
       "    <tr>\n",
       "      <th id=\"T_f7014_level0_row28\" class=\"row_heading level0 row28\" >28</th>\n",
       "      <td id=\"T_f7014_row28_col0\" class=\"data row28 col0\" >Ignore Low Variance</td>\n",
       "      <td id=\"T_f7014_row28_col1\" class=\"data row28 col1\" >False</td>\n",
       "    </tr>\n",
       "    <tr>\n",
       "      <th id=\"T_f7014_level0_row29\" class=\"row_heading level0 row29\" >29</th>\n",
       "      <td id=\"T_f7014_row29_col0\" class=\"data row29 col0\" >Combine Rare Levels</td>\n",
       "      <td id=\"T_f7014_row29_col1\" class=\"data row29 col1\" >False</td>\n",
       "    </tr>\n",
       "    <tr>\n",
       "      <th id=\"T_f7014_level0_row30\" class=\"row_heading level0 row30\" >30</th>\n",
       "      <td id=\"T_f7014_row30_col0\" class=\"data row30 col0\" >Rare Level Threshold</td>\n",
       "      <td id=\"T_f7014_row30_col1\" class=\"data row30 col1\" >None</td>\n",
       "    </tr>\n",
       "    <tr>\n",
       "      <th id=\"T_f7014_level0_row31\" class=\"row_heading level0 row31\" >31</th>\n",
       "      <td id=\"T_f7014_row31_col0\" class=\"data row31 col0\" >Numeric Binning</td>\n",
       "      <td id=\"T_f7014_row31_col1\" class=\"data row31 col1\" >False</td>\n",
       "    </tr>\n",
       "    <tr>\n",
       "      <th id=\"T_f7014_level0_row32\" class=\"row_heading level0 row32\" >32</th>\n",
       "      <td id=\"T_f7014_row32_col0\" class=\"data row32 col0\" >Remove Outliers</td>\n",
       "      <td id=\"T_f7014_row32_col1\" class=\"data row32 col1\" >False</td>\n",
       "    </tr>\n",
       "    <tr>\n",
       "      <th id=\"T_f7014_level0_row33\" class=\"row_heading level0 row33\" >33</th>\n",
       "      <td id=\"T_f7014_row33_col0\" class=\"data row33 col0\" >Outliers Threshold</td>\n",
       "      <td id=\"T_f7014_row33_col1\" class=\"data row33 col1\" >None</td>\n",
       "    </tr>\n",
       "    <tr>\n",
       "      <th id=\"T_f7014_level0_row34\" class=\"row_heading level0 row34\" >34</th>\n",
       "      <td id=\"T_f7014_row34_col0\" class=\"data row34 col0\" >Remove Multicollinearity</td>\n",
       "      <td id=\"T_f7014_row34_col1\" class=\"data row34 col1\" >False</td>\n",
       "    </tr>\n",
       "    <tr>\n",
       "      <th id=\"T_f7014_level0_row35\" class=\"row_heading level0 row35\" >35</th>\n",
       "      <td id=\"T_f7014_row35_col0\" class=\"data row35 col0\" >Multicollinearity Threshold</td>\n",
       "      <td id=\"T_f7014_row35_col1\" class=\"data row35 col1\" >None</td>\n",
       "    </tr>\n",
       "    <tr>\n",
       "      <th id=\"T_f7014_level0_row36\" class=\"row_heading level0 row36\" >36</th>\n",
       "      <td id=\"T_f7014_row36_col0\" class=\"data row36 col0\" >Remove Perfect Collinearity</td>\n",
       "      <td id=\"T_f7014_row36_col1\" class=\"data row36 col1\" >False</td>\n",
       "    </tr>\n",
       "    <tr>\n",
       "      <th id=\"T_f7014_level0_row37\" class=\"row_heading level0 row37\" >37</th>\n",
       "      <td id=\"T_f7014_row37_col0\" class=\"data row37 col0\" >Clustering</td>\n",
       "      <td id=\"T_f7014_row37_col1\" class=\"data row37 col1\" >False</td>\n",
       "    </tr>\n",
       "    <tr>\n",
       "      <th id=\"T_f7014_level0_row38\" class=\"row_heading level0 row38\" >38</th>\n",
       "      <td id=\"T_f7014_row38_col0\" class=\"data row38 col0\" >Clustering Iteration</td>\n",
       "      <td id=\"T_f7014_row38_col1\" class=\"data row38 col1\" >None</td>\n",
       "    </tr>\n",
       "    <tr>\n",
       "      <th id=\"T_f7014_level0_row39\" class=\"row_heading level0 row39\" >39</th>\n",
       "      <td id=\"T_f7014_row39_col0\" class=\"data row39 col0\" >Polynomial Features</td>\n",
       "      <td id=\"T_f7014_row39_col1\" class=\"data row39 col1\" >False</td>\n",
       "    </tr>\n",
       "    <tr>\n",
       "      <th id=\"T_f7014_level0_row40\" class=\"row_heading level0 row40\" >40</th>\n",
       "      <td id=\"T_f7014_row40_col0\" class=\"data row40 col0\" >Polynomial Degree</td>\n",
       "      <td id=\"T_f7014_row40_col1\" class=\"data row40 col1\" >None</td>\n",
       "    </tr>\n",
       "    <tr>\n",
       "      <th id=\"T_f7014_level0_row41\" class=\"row_heading level0 row41\" >41</th>\n",
       "      <td id=\"T_f7014_row41_col0\" class=\"data row41 col0\" >Trignometry Features</td>\n",
       "      <td id=\"T_f7014_row41_col1\" class=\"data row41 col1\" >False</td>\n",
       "    </tr>\n",
       "    <tr>\n",
       "      <th id=\"T_f7014_level0_row42\" class=\"row_heading level0 row42\" >42</th>\n",
       "      <td id=\"T_f7014_row42_col0\" class=\"data row42 col0\" >Polynomial Threshold</td>\n",
       "      <td id=\"T_f7014_row42_col1\" class=\"data row42 col1\" >None</td>\n",
       "    </tr>\n",
       "    <tr>\n",
       "      <th id=\"T_f7014_level0_row43\" class=\"row_heading level0 row43\" >43</th>\n",
       "      <td id=\"T_f7014_row43_col0\" class=\"data row43 col0\" >Group Features</td>\n",
       "      <td id=\"T_f7014_row43_col1\" class=\"data row43 col1\" >False</td>\n",
       "    </tr>\n",
       "    <tr>\n",
       "      <th id=\"T_f7014_level0_row44\" class=\"row_heading level0 row44\" >44</th>\n",
       "      <td id=\"T_f7014_row44_col0\" class=\"data row44 col0\" >Feature Selection</td>\n",
       "      <td id=\"T_f7014_row44_col1\" class=\"data row44 col1\" >False</td>\n",
       "    </tr>\n",
       "    <tr>\n",
       "      <th id=\"T_f7014_level0_row45\" class=\"row_heading level0 row45\" >45</th>\n",
       "      <td id=\"T_f7014_row45_col0\" class=\"data row45 col0\" >Feature Selection Method</td>\n",
       "      <td id=\"T_f7014_row45_col1\" class=\"data row45 col1\" >classic</td>\n",
       "    </tr>\n",
       "    <tr>\n",
       "      <th id=\"T_f7014_level0_row46\" class=\"row_heading level0 row46\" >46</th>\n",
       "      <td id=\"T_f7014_row46_col0\" class=\"data row46 col0\" >Features Selection Threshold</td>\n",
       "      <td id=\"T_f7014_row46_col1\" class=\"data row46 col1\" >None</td>\n",
       "    </tr>\n",
       "    <tr>\n",
       "      <th id=\"T_f7014_level0_row47\" class=\"row_heading level0 row47\" >47</th>\n",
       "      <td id=\"T_f7014_row47_col0\" class=\"data row47 col0\" >Feature Interaction</td>\n",
       "      <td id=\"T_f7014_row47_col1\" class=\"data row47 col1\" >False</td>\n",
       "    </tr>\n",
       "    <tr>\n",
       "      <th id=\"T_f7014_level0_row48\" class=\"row_heading level0 row48\" >48</th>\n",
       "      <td id=\"T_f7014_row48_col0\" class=\"data row48 col0\" >Feature Ratio</td>\n",
       "      <td id=\"T_f7014_row48_col1\" class=\"data row48 col1\" >False</td>\n",
       "    </tr>\n",
       "    <tr>\n",
       "      <th id=\"T_f7014_level0_row49\" class=\"row_heading level0 row49\" >49</th>\n",
       "      <td id=\"T_f7014_row49_col0\" class=\"data row49 col0\" >Interaction Threshold</td>\n",
       "      <td id=\"T_f7014_row49_col1\" class=\"data row49 col1\" >None</td>\n",
       "    </tr>\n",
       "  </tbody>\n",
       "</table>\n"
      ],
      "text/plain": [
       "<pandas.io.formats.style.Styler at 0x1d885f558b0>"
      ]
     },
     "metadata": {},
     "output_type": "display_data"
    },
    {
     "name": "stderr",
     "output_type": "stream",
     "text": [
      "2022/12/12 17:45:33 INFO mlflow.tracking.fluent: Experiment with name 'AnomaliasV1' does not exist. Creating a new experiment.\n",
      "2022/12/12 17:45:33 WARNING mlflow.utils.git_utils: Failed to import Git (the Git executable is probably not on your PATH), so Git SHA is not available. Error: Failed to initialize: Bad git executable.\n",
      "The git executable must be specified in one of the following ways:\n",
      "    - be included in your $PATH\n",
      "    - be set via $GIT_PYTHON_GIT_EXECUTABLE\n",
      "    - explicitly set via git.refresh()\n",
      "\n",
      "All git commands will error until this is rectified.\n",
      "\n",
      "This initial warning can be silenced or aggravated in the future by setting the\n",
      "$GIT_PYTHON_REFRESH environment variable. Use one of the following values:\n",
      "    - quiet|q|silence|s|none|n|0: for no warning or exception\n",
      "    - warn|w|warning|1: for a printed warning\n",
      "    - error|e|raise|r|2: for a raised exception\n",
      "\n",
      "Example:\n",
      "    export GIT_PYTHON_REFRESH=quiet\n",
      "\n"
     ]
    }
   ],
   "source": [
    "dataV1 = setup(dfAnomaly1, normalize = True, numeric_features=['Cantidad boletas','PromoDay'],\n",
    "                   log_experiment = True, experiment_name = 'AnomaliasV1'\n",
    "                   )\n"
   ]
  },
  {
   "cell_type": "code",
   "execution_count": 15,
   "id": "d0eb01e1",
   "metadata": {},
   "outputs": [
    {
     "data": {
      "text/html": [
       "<style type=\"text/css\">\n",
       "#T_c6ceb_row11_col1, #T_c6ceb_row21_col1 {\n",
       "  background-color: lightgreen;\n",
       "}\n",
       "</style>\n",
       "<table id=\"T_c6ceb\">\n",
       "  <thead>\n",
       "    <tr>\n",
       "      <th class=\"blank level0\" >&nbsp;</th>\n",
       "      <th id=\"T_c6ceb_level0_col0\" class=\"col_heading level0 col0\" >Description</th>\n",
       "      <th id=\"T_c6ceb_level0_col1\" class=\"col_heading level0 col1\" >Value</th>\n",
       "    </tr>\n",
       "  </thead>\n",
       "  <tbody>\n",
       "    <tr>\n",
       "      <th id=\"T_c6ceb_level0_row0\" class=\"row_heading level0 row0\" >0</th>\n",
       "      <td id=\"T_c6ceb_row0_col0\" class=\"data row0 col0\" >session_id</td>\n",
       "      <td id=\"T_c6ceb_row0_col1\" class=\"data row0 col1\" >4386</td>\n",
       "    </tr>\n",
       "    <tr>\n",
       "      <th id=\"T_c6ceb_level0_row1\" class=\"row_heading level0 row1\" >1</th>\n",
       "      <td id=\"T_c6ceb_row1_col0\" class=\"data row1 col0\" >Original Data</td>\n",
       "      <td id=\"T_c6ceb_row1_col1\" class=\"data row1 col1\" >(1212, 5)</td>\n",
       "    </tr>\n",
       "    <tr>\n",
       "      <th id=\"T_c6ceb_level0_row2\" class=\"row_heading level0 row2\" >2</th>\n",
       "      <td id=\"T_c6ceb_row2_col0\" class=\"data row2 col0\" >Missing Values</td>\n",
       "      <td id=\"T_c6ceb_row2_col1\" class=\"data row2 col1\" >False</td>\n",
       "    </tr>\n",
       "    <tr>\n",
       "      <th id=\"T_c6ceb_level0_row3\" class=\"row_heading level0 row3\" >3</th>\n",
       "      <td id=\"T_c6ceb_row3_col0\" class=\"data row3 col0\" >Numeric Features</td>\n",
       "      <td id=\"T_c6ceb_row3_col1\" class=\"data row3 col1\" >5</td>\n",
       "    </tr>\n",
       "    <tr>\n",
       "      <th id=\"T_c6ceb_level0_row4\" class=\"row_heading level0 row4\" >4</th>\n",
       "      <td id=\"T_c6ceb_row4_col0\" class=\"data row4 col0\" >Categorical Features</td>\n",
       "      <td id=\"T_c6ceb_row4_col1\" class=\"data row4 col1\" >0</td>\n",
       "    </tr>\n",
       "    <tr>\n",
       "      <th id=\"T_c6ceb_level0_row5\" class=\"row_heading level0 row5\" >5</th>\n",
       "      <td id=\"T_c6ceb_row5_col0\" class=\"data row5 col0\" >Ordinal Features</td>\n",
       "      <td id=\"T_c6ceb_row5_col1\" class=\"data row5 col1\" >False</td>\n",
       "    </tr>\n",
       "    <tr>\n",
       "      <th id=\"T_c6ceb_level0_row6\" class=\"row_heading level0 row6\" >6</th>\n",
       "      <td id=\"T_c6ceb_row6_col0\" class=\"data row6 col0\" >High Cardinality Features</td>\n",
       "      <td id=\"T_c6ceb_row6_col1\" class=\"data row6 col1\" >False</td>\n",
       "    </tr>\n",
       "    <tr>\n",
       "      <th id=\"T_c6ceb_level0_row7\" class=\"row_heading level0 row7\" >7</th>\n",
       "      <td id=\"T_c6ceb_row7_col0\" class=\"data row7 col0\" >High Cardinality Method</td>\n",
       "      <td id=\"T_c6ceb_row7_col1\" class=\"data row7 col1\" >None</td>\n",
       "    </tr>\n",
       "    <tr>\n",
       "      <th id=\"T_c6ceb_level0_row8\" class=\"row_heading level0 row8\" >8</th>\n",
       "      <td id=\"T_c6ceb_row8_col0\" class=\"data row8 col0\" >Transformed Data</td>\n",
       "      <td id=\"T_c6ceb_row8_col1\" class=\"data row8 col1\" >(1212, 5)</td>\n",
       "    </tr>\n",
       "    <tr>\n",
       "      <th id=\"T_c6ceb_level0_row9\" class=\"row_heading level0 row9\" >9</th>\n",
       "      <td id=\"T_c6ceb_row9_col0\" class=\"data row9 col0\" >CPU Jobs</td>\n",
       "      <td id=\"T_c6ceb_row9_col1\" class=\"data row9 col1\" >-1</td>\n",
       "    </tr>\n",
       "    <tr>\n",
       "      <th id=\"T_c6ceb_level0_row10\" class=\"row_heading level0 row10\" >10</th>\n",
       "      <td id=\"T_c6ceb_row10_col0\" class=\"data row10 col0\" >Use GPU</td>\n",
       "      <td id=\"T_c6ceb_row10_col1\" class=\"data row10 col1\" >False</td>\n",
       "    </tr>\n",
       "    <tr>\n",
       "      <th id=\"T_c6ceb_level0_row11\" class=\"row_heading level0 row11\" >11</th>\n",
       "      <td id=\"T_c6ceb_row11_col0\" class=\"data row11 col0\" >Log Experiment</td>\n",
       "      <td id=\"T_c6ceb_row11_col1\" class=\"data row11 col1\" >True</td>\n",
       "    </tr>\n",
       "    <tr>\n",
       "      <th id=\"T_c6ceb_level0_row12\" class=\"row_heading level0 row12\" >12</th>\n",
       "      <td id=\"T_c6ceb_row12_col0\" class=\"data row12 col0\" >Experiment Name</td>\n",
       "      <td id=\"T_c6ceb_row12_col1\" class=\"data row12 col1\" >AnomaliasV1</td>\n",
       "    </tr>\n",
       "    <tr>\n",
       "      <th id=\"T_c6ceb_level0_row13\" class=\"row_heading level0 row13\" >13</th>\n",
       "      <td id=\"T_c6ceb_row13_col0\" class=\"data row13 col0\" >USI</td>\n",
       "      <td id=\"T_c6ceb_row13_col1\" class=\"data row13 col1\" >446e</td>\n",
       "    </tr>\n",
       "    <tr>\n",
       "      <th id=\"T_c6ceb_level0_row14\" class=\"row_heading level0 row14\" >14</th>\n",
       "      <td id=\"T_c6ceb_row14_col0\" class=\"data row14 col0\" >Imputation Type</td>\n",
       "      <td id=\"T_c6ceb_row14_col1\" class=\"data row14 col1\" >simple</td>\n",
       "    </tr>\n",
       "    <tr>\n",
       "      <th id=\"T_c6ceb_level0_row15\" class=\"row_heading level0 row15\" >15</th>\n",
       "      <td id=\"T_c6ceb_row15_col0\" class=\"data row15 col0\" >Iterative Imputation Iteration</td>\n",
       "      <td id=\"T_c6ceb_row15_col1\" class=\"data row15 col1\" >None</td>\n",
       "    </tr>\n",
       "    <tr>\n",
       "      <th id=\"T_c6ceb_level0_row16\" class=\"row_heading level0 row16\" >16</th>\n",
       "      <td id=\"T_c6ceb_row16_col0\" class=\"data row16 col0\" >Numeric Imputer</td>\n",
       "      <td id=\"T_c6ceb_row16_col1\" class=\"data row16 col1\" >mean</td>\n",
       "    </tr>\n",
       "    <tr>\n",
       "      <th id=\"T_c6ceb_level0_row17\" class=\"row_heading level0 row17\" >17</th>\n",
       "      <td id=\"T_c6ceb_row17_col0\" class=\"data row17 col0\" >Iterative Imputation Numeric Model</td>\n",
       "      <td id=\"T_c6ceb_row17_col1\" class=\"data row17 col1\" >None</td>\n",
       "    </tr>\n",
       "    <tr>\n",
       "      <th id=\"T_c6ceb_level0_row18\" class=\"row_heading level0 row18\" >18</th>\n",
       "      <td id=\"T_c6ceb_row18_col0\" class=\"data row18 col0\" >Categorical Imputer</td>\n",
       "      <td id=\"T_c6ceb_row18_col1\" class=\"data row18 col1\" >mode</td>\n",
       "    </tr>\n",
       "    <tr>\n",
       "      <th id=\"T_c6ceb_level0_row19\" class=\"row_heading level0 row19\" >19</th>\n",
       "      <td id=\"T_c6ceb_row19_col0\" class=\"data row19 col0\" >Iterative Imputation Categorical Model</td>\n",
       "      <td id=\"T_c6ceb_row19_col1\" class=\"data row19 col1\" >None</td>\n",
       "    </tr>\n",
       "    <tr>\n",
       "      <th id=\"T_c6ceb_level0_row20\" class=\"row_heading level0 row20\" >20</th>\n",
       "      <td id=\"T_c6ceb_row20_col0\" class=\"data row20 col0\" >Unknown Categoricals Handling</td>\n",
       "      <td id=\"T_c6ceb_row20_col1\" class=\"data row20 col1\" >least_frequent</td>\n",
       "    </tr>\n",
       "    <tr>\n",
       "      <th id=\"T_c6ceb_level0_row21\" class=\"row_heading level0 row21\" >21</th>\n",
       "      <td id=\"T_c6ceb_row21_col0\" class=\"data row21 col0\" >Normalize</td>\n",
       "      <td id=\"T_c6ceb_row21_col1\" class=\"data row21 col1\" >True</td>\n",
       "    </tr>\n",
       "    <tr>\n",
       "      <th id=\"T_c6ceb_level0_row22\" class=\"row_heading level0 row22\" >22</th>\n",
       "      <td id=\"T_c6ceb_row22_col0\" class=\"data row22 col0\" >Normalize Method</td>\n",
       "      <td id=\"T_c6ceb_row22_col1\" class=\"data row22 col1\" >zscore</td>\n",
       "    </tr>\n",
       "    <tr>\n",
       "      <th id=\"T_c6ceb_level0_row23\" class=\"row_heading level0 row23\" >23</th>\n",
       "      <td id=\"T_c6ceb_row23_col0\" class=\"data row23 col0\" >Transformation</td>\n",
       "      <td id=\"T_c6ceb_row23_col1\" class=\"data row23 col1\" >False</td>\n",
       "    </tr>\n",
       "    <tr>\n",
       "      <th id=\"T_c6ceb_level0_row24\" class=\"row_heading level0 row24\" >24</th>\n",
       "      <td id=\"T_c6ceb_row24_col0\" class=\"data row24 col0\" >Transformation Method</td>\n",
       "      <td id=\"T_c6ceb_row24_col1\" class=\"data row24 col1\" >None</td>\n",
       "    </tr>\n",
       "    <tr>\n",
       "      <th id=\"T_c6ceb_level0_row25\" class=\"row_heading level0 row25\" >25</th>\n",
       "      <td id=\"T_c6ceb_row25_col0\" class=\"data row25 col0\" >PCA</td>\n",
       "      <td id=\"T_c6ceb_row25_col1\" class=\"data row25 col1\" >False</td>\n",
       "    </tr>\n",
       "    <tr>\n",
       "      <th id=\"T_c6ceb_level0_row26\" class=\"row_heading level0 row26\" >26</th>\n",
       "      <td id=\"T_c6ceb_row26_col0\" class=\"data row26 col0\" >PCA Method</td>\n",
       "      <td id=\"T_c6ceb_row26_col1\" class=\"data row26 col1\" >None</td>\n",
       "    </tr>\n",
       "    <tr>\n",
       "      <th id=\"T_c6ceb_level0_row27\" class=\"row_heading level0 row27\" >27</th>\n",
       "      <td id=\"T_c6ceb_row27_col0\" class=\"data row27 col0\" >PCA Components</td>\n",
       "      <td id=\"T_c6ceb_row27_col1\" class=\"data row27 col1\" >None</td>\n",
       "    </tr>\n",
       "    <tr>\n",
       "      <th id=\"T_c6ceb_level0_row28\" class=\"row_heading level0 row28\" >28</th>\n",
       "      <td id=\"T_c6ceb_row28_col0\" class=\"data row28 col0\" >Ignore Low Variance</td>\n",
       "      <td id=\"T_c6ceb_row28_col1\" class=\"data row28 col1\" >False</td>\n",
       "    </tr>\n",
       "    <tr>\n",
       "      <th id=\"T_c6ceb_level0_row29\" class=\"row_heading level0 row29\" >29</th>\n",
       "      <td id=\"T_c6ceb_row29_col0\" class=\"data row29 col0\" >Combine Rare Levels</td>\n",
       "      <td id=\"T_c6ceb_row29_col1\" class=\"data row29 col1\" >False</td>\n",
       "    </tr>\n",
       "    <tr>\n",
       "      <th id=\"T_c6ceb_level0_row30\" class=\"row_heading level0 row30\" >30</th>\n",
       "      <td id=\"T_c6ceb_row30_col0\" class=\"data row30 col0\" >Rare Level Threshold</td>\n",
       "      <td id=\"T_c6ceb_row30_col1\" class=\"data row30 col1\" >None</td>\n",
       "    </tr>\n",
       "    <tr>\n",
       "      <th id=\"T_c6ceb_level0_row31\" class=\"row_heading level0 row31\" >31</th>\n",
       "      <td id=\"T_c6ceb_row31_col0\" class=\"data row31 col0\" >Numeric Binning</td>\n",
       "      <td id=\"T_c6ceb_row31_col1\" class=\"data row31 col1\" >False</td>\n",
       "    </tr>\n",
       "    <tr>\n",
       "      <th id=\"T_c6ceb_level0_row32\" class=\"row_heading level0 row32\" >32</th>\n",
       "      <td id=\"T_c6ceb_row32_col0\" class=\"data row32 col0\" >Remove Outliers</td>\n",
       "      <td id=\"T_c6ceb_row32_col1\" class=\"data row32 col1\" >False</td>\n",
       "    </tr>\n",
       "    <tr>\n",
       "      <th id=\"T_c6ceb_level0_row33\" class=\"row_heading level0 row33\" >33</th>\n",
       "      <td id=\"T_c6ceb_row33_col0\" class=\"data row33 col0\" >Outliers Threshold</td>\n",
       "      <td id=\"T_c6ceb_row33_col1\" class=\"data row33 col1\" >None</td>\n",
       "    </tr>\n",
       "    <tr>\n",
       "      <th id=\"T_c6ceb_level0_row34\" class=\"row_heading level0 row34\" >34</th>\n",
       "      <td id=\"T_c6ceb_row34_col0\" class=\"data row34 col0\" >Remove Multicollinearity</td>\n",
       "      <td id=\"T_c6ceb_row34_col1\" class=\"data row34 col1\" >False</td>\n",
       "    </tr>\n",
       "    <tr>\n",
       "      <th id=\"T_c6ceb_level0_row35\" class=\"row_heading level0 row35\" >35</th>\n",
       "      <td id=\"T_c6ceb_row35_col0\" class=\"data row35 col0\" >Multicollinearity Threshold</td>\n",
       "      <td id=\"T_c6ceb_row35_col1\" class=\"data row35 col1\" >None</td>\n",
       "    </tr>\n",
       "    <tr>\n",
       "      <th id=\"T_c6ceb_level0_row36\" class=\"row_heading level0 row36\" >36</th>\n",
       "      <td id=\"T_c6ceb_row36_col0\" class=\"data row36 col0\" >Remove Perfect Collinearity</td>\n",
       "      <td id=\"T_c6ceb_row36_col1\" class=\"data row36 col1\" >False</td>\n",
       "    </tr>\n",
       "    <tr>\n",
       "      <th id=\"T_c6ceb_level0_row37\" class=\"row_heading level0 row37\" >37</th>\n",
       "      <td id=\"T_c6ceb_row37_col0\" class=\"data row37 col0\" >Clustering</td>\n",
       "      <td id=\"T_c6ceb_row37_col1\" class=\"data row37 col1\" >False</td>\n",
       "    </tr>\n",
       "    <tr>\n",
       "      <th id=\"T_c6ceb_level0_row38\" class=\"row_heading level0 row38\" >38</th>\n",
       "      <td id=\"T_c6ceb_row38_col0\" class=\"data row38 col0\" >Clustering Iteration</td>\n",
       "      <td id=\"T_c6ceb_row38_col1\" class=\"data row38 col1\" >None</td>\n",
       "    </tr>\n",
       "    <tr>\n",
       "      <th id=\"T_c6ceb_level0_row39\" class=\"row_heading level0 row39\" >39</th>\n",
       "      <td id=\"T_c6ceb_row39_col0\" class=\"data row39 col0\" >Polynomial Features</td>\n",
       "      <td id=\"T_c6ceb_row39_col1\" class=\"data row39 col1\" >False</td>\n",
       "    </tr>\n",
       "    <tr>\n",
       "      <th id=\"T_c6ceb_level0_row40\" class=\"row_heading level0 row40\" >40</th>\n",
       "      <td id=\"T_c6ceb_row40_col0\" class=\"data row40 col0\" >Polynomial Degree</td>\n",
       "      <td id=\"T_c6ceb_row40_col1\" class=\"data row40 col1\" >None</td>\n",
       "    </tr>\n",
       "    <tr>\n",
       "      <th id=\"T_c6ceb_level0_row41\" class=\"row_heading level0 row41\" >41</th>\n",
       "      <td id=\"T_c6ceb_row41_col0\" class=\"data row41 col0\" >Trignometry Features</td>\n",
       "      <td id=\"T_c6ceb_row41_col1\" class=\"data row41 col1\" >False</td>\n",
       "    </tr>\n",
       "    <tr>\n",
       "      <th id=\"T_c6ceb_level0_row42\" class=\"row_heading level0 row42\" >42</th>\n",
       "      <td id=\"T_c6ceb_row42_col0\" class=\"data row42 col0\" >Polynomial Threshold</td>\n",
       "      <td id=\"T_c6ceb_row42_col1\" class=\"data row42 col1\" >None</td>\n",
       "    </tr>\n",
       "    <tr>\n",
       "      <th id=\"T_c6ceb_level0_row43\" class=\"row_heading level0 row43\" >43</th>\n",
       "      <td id=\"T_c6ceb_row43_col0\" class=\"data row43 col0\" >Group Features</td>\n",
       "      <td id=\"T_c6ceb_row43_col1\" class=\"data row43 col1\" >False</td>\n",
       "    </tr>\n",
       "    <tr>\n",
       "      <th id=\"T_c6ceb_level0_row44\" class=\"row_heading level0 row44\" >44</th>\n",
       "      <td id=\"T_c6ceb_row44_col0\" class=\"data row44 col0\" >Feature Selection</td>\n",
       "      <td id=\"T_c6ceb_row44_col1\" class=\"data row44 col1\" >False</td>\n",
       "    </tr>\n",
       "    <tr>\n",
       "      <th id=\"T_c6ceb_level0_row45\" class=\"row_heading level0 row45\" >45</th>\n",
       "      <td id=\"T_c6ceb_row45_col0\" class=\"data row45 col0\" >Feature Selection Method</td>\n",
       "      <td id=\"T_c6ceb_row45_col1\" class=\"data row45 col1\" >classic</td>\n",
       "    </tr>\n",
       "    <tr>\n",
       "      <th id=\"T_c6ceb_level0_row46\" class=\"row_heading level0 row46\" >46</th>\n",
       "      <td id=\"T_c6ceb_row46_col0\" class=\"data row46 col0\" >Features Selection Threshold</td>\n",
       "      <td id=\"T_c6ceb_row46_col1\" class=\"data row46 col1\" >None</td>\n",
       "    </tr>\n",
       "    <tr>\n",
       "      <th id=\"T_c6ceb_level0_row47\" class=\"row_heading level0 row47\" >47</th>\n",
       "      <td id=\"T_c6ceb_row47_col0\" class=\"data row47 col0\" >Feature Interaction</td>\n",
       "      <td id=\"T_c6ceb_row47_col1\" class=\"data row47 col1\" >False</td>\n",
       "    </tr>\n",
       "    <tr>\n",
       "      <th id=\"T_c6ceb_level0_row48\" class=\"row_heading level0 row48\" >48</th>\n",
       "      <td id=\"T_c6ceb_row48_col0\" class=\"data row48 col0\" >Feature Ratio</td>\n",
       "      <td id=\"T_c6ceb_row48_col1\" class=\"data row48 col1\" >False</td>\n",
       "    </tr>\n",
       "    <tr>\n",
       "      <th id=\"T_c6ceb_level0_row49\" class=\"row_heading level0 row49\" >49</th>\n",
       "      <td id=\"T_c6ceb_row49_col0\" class=\"data row49 col0\" >Interaction Threshold</td>\n",
       "      <td id=\"T_c6ceb_row49_col1\" class=\"data row49 col1\" >None</td>\n",
       "    </tr>\n",
       "  </tbody>\n",
       "</table>\n"
      ],
      "text/plain": [
       "<pandas.io.formats.style.Styler at 0x1d889c2fc10>"
      ]
     },
     "metadata": {},
     "output_type": "display_data"
    }
   ],
   "source": [
    "dataV2 = setup(dfAnomaly2, normalize = True, numeric_features=['Cantidad boletas','PromoDay'],\n",
    "                   log_experiment = True, experiment_name = 'AnomaliasV1'\n",
    "                   )"
   ]
  },
  {
   "cell_type": "code",
   "execution_count": 19,
   "id": "0b61e2fe",
   "metadata": {},
   "outputs": [
    {
     "data": {
      "text/html": [
       "<div>\n",
       "<style scoped>\n",
       "    .dataframe tbody tr th:only-of-type {\n",
       "        vertical-align: middle;\n",
       "    }\n",
       "\n",
       "    .dataframe tbody tr th {\n",
       "        vertical-align: top;\n",
       "    }\n",
       "\n",
       "    .dataframe thead th {\n",
       "        text-align: right;\n",
       "    }\n",
       "</style>\n",
       "<table border=\"1\" class=\"dataframe\">\n",
       "  <thead>\n",
       "    <tr style=\"text-align: right;\">\n",
       "      <th></th>\n",
       "      <th>Name</th>\n",
       "      <th>Reference</th>\n",
       "    </tr>\n",
       "    <tr>\n",
       "      <th>ID</th>\n",
       "      <th></th>\n",
       "      <th></th>\n",
       "    </tr>\n",
       "  </thead>\n",
       "  <tbody>\n",
       "    <tr>\n",
       "      <th>abod</th>\n",
       "      <td>Angle-base Outlier Detection</td>\n",
       "      <td>pyod.models.abod.ABOD</td>\n",
       "    </tr>\n",
       "    <tr>\n",
       "      <th>cluster</th>\n",
       "      <td>Clustering-Based Local Outlier</td>\n",
       "      <td>pyod.models.cblof.CBLOF</td>\n",
       "    </tr>\n",
       "    <tr>\n",
       "      <th>cof</th>\n",
       "      <td>Connectivity-Based Local Outlier</td>\n",
       "      <td>pyod.models.cof.COF</td>\n",
       "    </tr>\n",
       "    <tr>\n",
       "      <th>iforest</th>\n",
       "      <td>Isolation Forest</td>\n",
       "      <td>pyod.models.iforest.IForest</td>\n",
       "    </tr>\n",
       "    <tr>\n",
       "      <th>histogram</th>\n",
       "      <td>Histogram-based Outlier Detection</td>\n",
       "      <td>pyod.models.hbos.HBOS</td>\n",
       "    </tr>\n",
       "    <tr>\n",
       "      <th>knn</th>\n",
       "      <td>K-Nearest Neighbors Detector</td>\n",
       "      <td>pyod.models.knn.KNN</td>\n",
       "    </tr>\n",
       "    <tr>\n",
       "      <th>lof</th>\n",
       "      <td>Local Outlier Factor</td>\n",
       "      <td>pyod.models.lof.LOF</td>\n",
       "    </tr>\n",
       "    <tr>\n",
       "      <th>svm</th>\n",
       "      <td>One-class SVM detector</td>\n",
       "      <td>pyod.models.ocsvm.OCSVM</td>\n",
       "    </tr>\n",
       "    <tr>\n",
       "      <th>pca</th>\n",
       "      <td>Principal Component Analysis</td>\n",
       "      <td>pyod.models.pca.PCA</td>\n",
       "    </tr>\n",
       "    <tr>\n",
       "      <th>mcd</th>\n",
       "      <td>Minimum Covariance Determinant</td>\n",
       "      <td>pyod.models.mcd.MCD</td>\n",
       "    </tr>\n",
       "    <tr>\n",
       "      <th>sod</th>\n",
       "      <td>Subspace Outlier Detection</td>\n",
       "      <td>pyod.models.sod.SOD</td>\n",
       "    </tr>\n",
       "    <tr>\n",
       "      <th>sos</th>\n",
       "      <td>Stochastic Outlier Selection</td>\n",
       "      <td>pyod.models.sos.SOS</td>\n",
       "    </tr>\n",
       "  </tbody>\n",
       "</table>\n",
       "</div>"
      ],
      "text/plain": [
       "                                        Name                    Reference\n",
       "ID                                                                       \n",
       "abod            Angle-base Outlier Detection        pyod.models.abod.ABOD\n",
       "cluster       Clustering-Based Local Outlier      pyod.models.cblof.CBLOF\n",
       "cof         Connectivity-Based Local Outlier          pyod.models.cof.COF\n",
       "iforest                     Isolation Forest  pyod.models.iforest.IForest\n",
       "histogram  Histogram-based Outlier Detection        pyod.models.hbos.HBOS\n",
       "knn             K-Nearest Neighbors Detector          pyod.models.knn.KNN\n",
       "lof                     Local Outlier Factor          pyod.models.lof.LOF\n",
       "svm                   One-class SVM detector      pyod.models.ocsvm.OCSVM\n",
       "pca             Principal Component Analysis          pyod.models.pca.PCA\n",
       "mcd           Minimum Covariance Determinant          pyod.models.mcd.MCD\n",
       "sod               Subspace Outlier Detection          pyod.models.sod.SOD\n",
       "sos             Stochastic Outlier Selection          pyod.models.sos.SOS"
      ]
     },
     "execution_count": 19,
     "metadata": {},
     "output_type": "execute_result"
    }
   ],
   "source": [
    "models()"
   ]
  },
  {
   "cell_type": "code",
   "execution_count": 16,
   "id": "1006db4e",
   "metadata": {},
   "outputs": [
    {
     "data": {
      "text/html": [
       "<div>\n",
       "<style scoped>\n",
       "    .dataframe tbody tr th:only-of-type {\n",
       "        vertical-align: middle;\n",
       "    }\n",
       "\n",
       "    .dataframe tbody tr th {\n",
       "        vertical-align: top;\n",
       "    }\n",
       "\n",
       "    .dataframe thead th {\n",
       "        text-align: right;\n",
       "    }\n",
       "</style>\n",
       "<table border=\"1\" class=\"dataframe\">\n",
       "  <thead>\n",
       "    <tr style=\"text-align: right;\">\n",
       "      <th></th>\n",
       "      <th>Cantidad boletas</th>\n",
       "      <th>TotalUnidades</th>\n",
       "      <th>TotalCompraPesos</th>\n",
       "      <th>PromoDay</th>\n",
       "      <th>Si</th>\n",
       "      <th>Anomaly</th>\n",
       "      <th>Anomaly_Score</th>\n",
       "    </tr>\n",
       "  </thead>\n",
       "  <tbody>\n",
       "    <tr>\n",
       "      <th>0</th>\n",
       "      <td>3</td>\n",
       "      <td>10</td>\n",
       "      <td>286860</td>\n",
       "      <td>2</td>\n",
       "      <td>2</td>\n",
       "      <td>0</td>\n",
       "      <td>-0.120153</td>\n",
       "    </tr>\n",
       "    <tr>\n",
       "      <th>2</th>\n",
       "      <td>5</td>\n",
       "      <td>48</td>\n",
       "      <td>3911119</td>\n",
       "      <td>4</td>\n",
       "      <td>16</td>\n",
       "      <td>1</td>\n",
       "      <td>0.097202</td>\n",
       "    </tr>\n",
       "    <tr>\n",
       "      <th>4</th>\n",
       "      <td>3</td>\n",
       "      <td>15</td>\n",
       "      <td>919191</td>\n",
       "      <td>1</td>\n",
       "      <td>6</td>\n",
       "      <td>0</td>\n",
       "      <td>-0.154042</td>\n",
       "    </tr>\n",
       "    <tr>\n",
       "      <th>5</th>\n",
       "      <td>3</td>\n",
       "      <td>4</td>\n",
       "      <td>837822</td>\n",
       "      <td>2</td>\n",
       "      <td>2</td>\n",
       "      <td>0</td>\n",
       "      <td>-0.106964</td>\n",
       "    </tr>\n",
       "    <tr>\n",
       "      <th>7</th>\n",
       "      <td>1</td>\n",
       "      <td>15</td>\n",
       "      <td>1885951</td>\n",
       "      <td>3</td>\n",
       "      <td>4</td>\n",
       "      <td>0</td>\n",
       "      <td>-0.079951</td>\n",
       "    </tr>\n",
       "  </tbody>\n",
       "</table>\n",
       "</div>"
      ],
      "text/plain": [
       "   Cantidad boletas  TotalUnidades  TotalCompraPesos  PromoDay  Si  Anomaly  \\\n",
       "0                 3             10            286860         2   2        0   \n",
       "2                 5             48           3911119         4  16        1   \n",
       "4                 3             15            919191         1   6        0   \n",
       "5                 3              4            837822         2   2        0   \n",
       "7                 1             15           1885951         3   4        0   \n",
       "\n",
       "   Anomaly_Score  \n",
       "0      -0.120153  \n",
       "2       0.097202  \n",
       "4      -0.154042  \n",
       "5      -0.106964  \n",
       "7      -0.079951  "
      ]
     },
     "execution_count": 16,
     "metadata": {},
     "output_type": "execute_result"
    }
   ],
   "source": [
    "iforest = create_model('iforest')\n",
    "iforest_results = assign_model(iforest)\n",
    "iforest_results.head()"
   ]
  },
  {
   "cell_type": "code",
   "execution_count": 18,
   "id": "ab1fd781",
   "metadata": {},
   "outputs": [
    {
     "data": {
      "text/html": [
       "<div>\n",
       "<style scoped>\n",
       "    .dataframe tbody tr th:only-of-type {\n",
       "        vertical-align: middle;\n",
       "    }\n",
       "\n",
       "    .dataframe tbody tr th {\n",
       "        vertical-align: top;\n",
       "    }\n",
       "\n",
       "    .dataframe thead th {\n",
       "        text-align: right;\n",
       "    }\n",
       "</style>\n",
       "<table border=\"1\" class=\"dataframe\">\n",
       "  <thead>\n",
       "    <tr style=\"text-align: right;\">\n",
       "      <th></th>\n",
       "      <th>Cantidad boletas</th>\n",
       "      <th>TotalUnidades</th>\n",
       "      <th>TotalCompraPesos</th>\n",
       "      <th>PromoDay</th>\n",
       "      <th>Si</th>\n",
       "      <th>Anomaly</th>\n",
       "      <th>Anomaly_Score</th>\n",
       "    </tr>\n",
       "  </thead>\n",
       "  <tbody>\n",
       "    <tr>\n",
       "      <th>2</th>\n",
       "      <td>5</td>\n",
       "      <td>48</td>\n",
       "      <td>3911119</td>\n",
       "      <td>4</td>\n",
       "      <td>16</td>\n",
       "      <td>1</td>\n",
       "      <td>0.097202</td>\n",
       "    </tr>\n",
       "    <tr>\n",
       "      <th>15</th>\n",
       "      <td>5</td>\n",
       "      <td>124</td>\n",
       "      <td>8028021</td>\n",
       "      <td>10</td>\n",
       "      <td>31</td>\n",
       "      <td>1</td>\n",
       "      <td>0.234750</td>\n",
       "    </tr>\n",
       "    <tr>\n",
       "      <th>22</th>\n",
       "      <td>79</td>\n",
       "      <td>216</td>\n",
       "      <td>10784342</td>\n",
       "      <td>91</td>\n",
       "      <td>2</td>\n",
       "      <td>1</td>\n",
       "      <td>0.295311</td>\n",
       "    </tr>\n",
       "    <tr>\n",
       "      <th>23</th>\n",
       "      <td>5</td>\n",
       "      <td>36</td>\n",
       "      <td>2170831</td>\n",
       "      <td>5</td>\n",
       "      <td>12</td>\n",
       "      <td>1</td>\n",
       "      <td>0.006261</td>\n",
       "    </tr>\n",
       "    <tr>\n",
       "      <th>133</th>\n",
       "      <td>5</td>\n",
       "      <td>47</td>\n",
       "      <td>2106687</td>\n",
       "      <td>6</td>\n",
       "      <td>12</td>\n",
       "      <td>1</td>\n",
       "      <td>0.040955</td>\n",
       "    </tr>\n",
       "    <tr>\n",
       "      <th>...</th>\n",
       "      <td>...</td>\n",
       "      <td>...</td>\n",
       "      <td>...</td>\n",
       "      <td>...</td>\n",
       "      <td>...</td>\n",
       "      <td>...</td>\n",
       "      <td>...</td>\n",
       "    </tr>\n",
       "    <tr>\n",
       "      <th>4688</th>\n",
       "      <td>4</td>\n",
       "      <td>46</td>\n",
       "      <td>2688276</td>\n",
       "      <td>2</td>\n",
       "      <td>9</td>\n",
       "      <td>1</td>\n",
       "      <td>0.008396</td>\n",
       "    </tr>\n",
       "    <tr>\n",
       "      <th>4689</th>\n",
       "      <td>59</td>\n",
       "      <td>137</td>\n",
       "      <td>9026958</td>\n",
       "      <td>62</td>\n",
       "      <td>2</td>\n",
       "      <td>1</td>\n",
       "      <td>0.282580</td>\n",
       "    </tr>\n",
       "    <tr>\n",
       "      <th>4708</th>\n",
       "      <td>1</td>\n",
       "      <td>48</td>\n",
       "      <td>3242359</td>\n",
       "      <td>1</td>\n",
       "      <td>8</td>\n",
       "      <td>1</td>\n",
       "      <td>0.040175</td>\n",
       "    </tr>\n",
       "    <tr>\n",
       "      <th>4748</th>\n",
       "      <td>5</td>\n",
       "      <td>57</td>\n",
       "      <td>3533471</td>\n",
       "      <td>3</td>\n",
       "      <td>9</td>\n",
       "      <td>1</td>\n",
       "      <td>0.073596</td>\n",
       "    </tr>\n",
       "    <tr>\n",
       "      <th>4874</th>\n",
       "      <td>1</td>\n",
       "      <td>51</td>\n",
       "      <td>2616915</td>\n",
       "      <td>0</td>\n",
       "      <td>8</td>\n",
       "      <td>1</td>\n",
       "      <td>0.032414</td>\n",
       "    </tr>\n",
       "  </tbody>\n",
       "</table>\n",
       "<p>61 rows × 7 columns</p>\n",
       "</div>"
      ],
      "text/plain": [
       "      Cantidad boletas  TotalUnidades  TotalCompraPesos  PromoDay  Si  \\\n",
       "2                    5             48           3911119         4  16   \n",
       "15                   5            124           8028021        10  31   \n",
       "22                  79            216          10784342        91   2   \n",
       "23                   5             36           2170831         5  12   \n",
       "133                  5             47           2106687         6  12   \n",
       "...                ...            ...               ...       ...  ..   \n",
       "4688                 4             46           2688276         2   9   \n",
       "4689                59            137           9026958        62   2   \n",
       "4708                 1             48           3242359         1   8   \n",
       "4748                 5             57           3533471         3   9   \n",
       "4874                 1             51           2616915         0   8   \n",
       "\n",
       "      Anomaly  Anomaly_Score  \n",
       "2           1       0.097202  \n",
       "15          1       0.234750  \n",
       "22          1       0.295311  \n",
       "23          1       0.006261  \n",
       "133         1       0.040955  \n",
       "...       ...            ...  \n",
       "4688        1       0.008396  \n",
       "4689        1       0.282580  \n",
       "4708        1       0.040175  \n",
       "4748        1       0.073596  \n",
       "4874        1       0.032414  \n",
       "\n",
       "[61 rows x 7 columns]"
      ]
     },
     "execution_count": 18,
     "metadata": {},
     "output_type": "execute_result"
    }
   ],
   "source": [
    "iforest_results[iforest_results['Anomaly']!=0]"
   ]
  },
  {
   "cell_type": "code",
   "execution_count": 22,
   "id": "24df713c",
   "metadata": {},
   "outputs": [
    {
     "data": {
      "application/vnd.plotly.v1+json": {
       "config": {
        "plotlyServerURL": "https://plot.ly"
       },
       "data": [
        {
         "customdata": [
          [
           3
          ],
          [
           null
          ],
          [
           5
          ],
          [
           null
          ],
          [
           3
          ],
          [
           3
          ],
          [
           null
          ],
          [
           1
          ],
          [
           1
          ],
          [
           2
          ],
          [
           1
          ],
          [
           1
          ],
          [
           2
          ],
          [
           1
          ],
          [
           3
          ],
          [
           5
          ],
          [
           3
          ],
          [
           2
          ],
          [
           1
          ],
          [
           null
          ],
          [
           5
          ],
          [
           null
          ],
          [
           79
          ],
          [
           5
          ],
          [
           2
          ],
          [
           null
          ],
          [
           null
          ],
          [
           null
          ],
          [
           null
          ],
          [
           null
          ],
          [
           null
          ],
          [
           null
          ],
          [
           null
          ],
          [
           null
          ],
          [
           1
          ],
          [
           null
          ],
          [
           2
          ],
          [
           null
          ],
          [
           null
          ],
          [
           null
          ],
          [
           null
          ],
          [
           null
          ],
          [
           null
          ],
          [
           null
          ],
          [
           null
          ],
          [
           null
          ],
          [
           null
          ],
          [
           null
          ],
          [
           null
          ],
          [
           null
          ],
          [
           null
          ],
          [
           4
          ],
          [
           1
          ],
          [
           null
          ],
          [
           null
          ],
          [
           1
          ],
          [
           null
          ],
          [
           1
          ],
          [
           null
          ],
          [
           null
          ],
          [
           null
          ],
          [
           2
          ],
          [
           null
          ],
          [
           null
          ],
          [
           null
          ],
          [
           null
          ],
          [
           5
          ],
          [
           null
          ],
          [
           null
          ],
          [
           null
          ],
          [
           null
          ],
          [
           null
          ],
          [
           null
          ],
          [
           null
          ],
          [
           null
          ],
          [
           null
          ],
          [
           null
          ],
          [
           1
          ],
          [
           null
          ],
          [
           null
          ],
          [
           null
          ],
          [
           null
          ],
          [
           4
          ],
          [
           null
          ],
          [
           null
          ],
          [
           null
          ],
          [
           null
          ],
          [
           null
          ],
          [
           null
          ],
          [
           1
          ],
          [
           null
          ],
          [
           null
          ],
          [
           null
          ],
          [
           null
          ],
          [
           null
          ],
          [
           null
          ],
          [
           3
          ],
          [
           null
          ],
          [
           null
          ],
          [
           null
          ],
          [
           null
          ],
          [
           null
          ],
          [
           null
          ],
          [
           null
          ],
          [
           null
          ],
          [
           2
          ],
          [
           null
          ],
          [
           null
          ],
          [
           null
          ],
          [
           null
          ],
          [
           null
          ],
          [
           null
          ],
          [
           null
          ],
          [
           null
          ],
          [
           null
          ],
          [
           null
          ],
          [
           null
          ],
          [
           null
          ],
          [
           null
          ],
          [
           null
          ],
          [
           null
          ],
          [
           null
          ],
          [
           2
          ],
          [
           null
          ],
          [
           null
          ],
          [
           null
          ],
          [
           null
          ],
          [
           null
          ],
          [
           null
          ],
          [
           null
          ],
          [
           null
          ],
          [
           2
          ],
          [
           null
          ],
          [
           5
          ],
          [
           null
          ],
          [
           null
          ],
          [
           null
          ],
          [
           null
          ],
          [
           null
          ],
          [
           8
          ],
          [
           null
          ],
          [
           null
          ],
          [
           null
          ],
          [
           2
          ],
          [
           null
          ],
          [
           null
          ],
          [
           1
          ],
          [
           null
          ],
          [
           null
          ],
          [
           2
          ],
          [
           2
          ],
          [
           2
          ],
          [
           null
          ],
          [
           null
          ],
          [
           null
          ],
          [
           null
          ],
          [
           null
          ],
          [
           2
          ],
          [
           null
          ],
          [
           null
          ],
          [
           null
          ],
          [
           null
          ],
          [
           null
          ],
          [
           null
          ],
          [
           null
          ],
          [
           null
          ],
          [
           null
          ],
          [
           null
          ],
          [
           null
          ],
          [
           null
          ],
          [
           null
          ],
          [
           null
          ],
          [
           null
          ],
          [
           null
          ],
          [
           null
          ],
          [
           null
          ],
          [
           null
          ],
          [
           null
          ],
          [
           null
          ],
          [
           null
          ],
          [
           null
          ],
          [
           null
          ],
          [
           null
          ],
          [
           null
          ],
          [
           null
          ],
          [
           null
          ],
          [
           null
          ],
          [
           null
          ],
          [
           null
          ],
          [
           1
          ],
          [
           null
          ],
          [
           null
          ],
          [
           null
          ],
          [
           null
          ],
          [
           1
          ],
          [
           null
          ],
          [
           null
          ],
          [
           null
          ],
          [
           19
          ],
          [
           3
          ],
          [
           null
          ],
          [
           null
          ],
          [
           null
          ],
          [
           null
          ],
          [
           null
          ],
          [
           null
          ],
          [
           null
          ],
          [
           null
          ],
          [
           null
          ],
          [
           null
          ],
          [
           null
          ],
          [
           null
          ],
          [
           null
          ],
          [
           null
          ],
          [
           null
          ],
          [
           null
          ],
          [
           null
          ],
          [
           null
          ],
          [
           null
          ],
          [
           null
          ],
          [
           null
          ],
          [
           null
          ],
          [
           null
          ],
          [
           null
          ],
          [
           null
          ],
          [
           2
          ],
          [
           null
          ],
          [
           null
          ],
          [
           null
          ],
          [
           null
          ],
          [
           null
          ],
          [
           null
          ],
          [
           null
          ],
          [
           null
          ],
          [
           null
          ],
          [
           null
          ],
          [
           1
          ],
          [
           2
          ],
          [
           null
          ],
          [
           null
          ],
          [
           null
          ],
          [
           null
          ],
          [
           null
          ],
          [
           1
          ],
          [
           null
          ],
          [
           null
          ],
          [
           null
          ],
          [
           null
          ],
          [
           null
          ],
          [
           null
          ],
          [
           null
          ],
          [
           null
          ],
          [
           null
          ],
          [
           null
          ],
          [
           null
          ],
          [
           null
          ],
          [
           null
          ],
          [
           null
          ],
          [
           null
          ],
          [
           null
          ],
          [
           null
          ],
          [
           null
          ],
          [
           null
          ],
          [
           1
          ],
          [
           null
          ],
          [
           2
          ],
          [
           1
          ],
          [
           null
          ],
          [
           null
          ],
          [
           null
          ],
          [
           null
          ],
          [
           null
          ],
          [
           null
          ],
          [
           null
          ],
          [
           null
          ],
          [
           null
          ],
          [
           2
          ],
          [
           null
          ],
          [
           null
          ],
          [
           null
          ],
          [
           null
          ],
          [
           null
          ],
          [
           null
          ],
          [
           null
          ],
          [
           null
          ],
          [
           null
          ],
          [
           null
          ],
          [
           1
          ],
          [
           null
          ],
          [
           null
          ],
          [
           null
          ],
          [
           null
          ],
          [
           null
          ],
          [
           null
          ],
          [
           null
          ],
          [
           null
          ],
          [
           null
          ],
          [
           null
          ],
          [
           null
          ],
          [
           1
          ],
          [
           null
          ],
          [
           null
          ],
          [
           null
          ],
          [
           null
          ],
          [
           null
          ],
          [
           null
          ],
          [
           null
          ],
          [
           null
          ],
          [
           null
          ],
          [
           null
          ],
          [
           null
          ],
          [
           1
          ],
          [
           1
          ],
          [
           null
          ],
          [
           null
          ],
          [
           null
          ],
          [
           1
          ],
          [
           null
          ],
          [
           null
          ],
          [
           null
          ],
          [
           null
          ],
          [
           null
          ],
          [
           null
          ],
          [
           null
          ],
          [
           null
          ],
          [
           null
          ],
          [
           null
          ],
          [
           null
          ],
          [
           null
          ],
          [
           null
          ],
          [
           null
          ],
          [
           null
          ],
          [
           null
          ],
          [
           null
          ],
          [
           null
          ],
          [
           null
          ],
          [
           null
          ],
          [
           null
          ],
          [
           null
          ],
          [
           null
          ],
          [
           1
          ],
          [
           null
          ],
          [
           1
          ],
          [
           2
          ],
          [
           null
          ],
          [
           null
          ],
          [
           null
          ],
          [
           null
          ],
          [
           null
          ],
          [
           2
          ],
          [
           null
          ],
          [
           null
          ],
          [
           null
          ],
          [
           null
          ],
          [
           null
          ],
          [
           null
          ],
          [
           null
          ],
          [
           null
          ],
          [
           null
          ],
          [
           null
          ],
          [
           null
          ],
          [
           null
          ],
          [
           null
          ],
          [
           null
          ],
          [
           null
          ],
          [
           null
          ],
          [
           1
          ],
          [
           null
          ],
          [
           null
          ],
          [
           null
          ],
          [
           null
          ],
          [
           null
          ],
          [
           null
          ],
          [
           null
          ],
          [
           null
          ],
          [
           null
          ],
          [
           1
          ],
          [
           null
          ],
          [
           null
          ],
          [
           null
          ],
          [
           null
          ],
          [
           null
          ],
          [
           null
          ],
          [
           null
          ],
          [
           null
          ],
          [
           null
          ],
          [
           null
          ],
          [
           null
          ],
          [
           null
          ],
          [
           null
          ],
          [
           null
          ],
          [
           null
          ],
          [
           null
          ],
          [
           null
          ],
          [
           null
          ],
          [
           null
          ],
          [
           null
          ],
          [
           null
          ],
          [
           null
          ],
          [
           null
          ],
          [
           null
          ],
          [
           null
          ],
          [
           null
          ],
          [
           null
          ],
          [
           null
          ],
          [
           null
          ],
          [
           null
          ],
          [
           null
          ],
          [
           1
          ],
          [
           null
          ],
          [
           1
          ],
          [
           null
          ],
          [
           null
          ],
          [
           null
          ],
          [
           2
          ],
          [
           2
          ],
          [
           1
          ],
          [
           3
          ],
          [
           2
          ],
          [
           3
          ],
          [
           1
          ],
          [
           1
          ],
          [
           2
          ],
          [
           4
          ],
          [
           1
          ],
          [
           2
          ],
          [
           null
          ],
          [
           6
          ],
          [
           null
          ],
          [
           null
          ],
          [
           2
          ],
          [
           null
          ],
          [
           1
          ],
          [
           1
          ],
          [
           4
          ],
          [
           1
          ],
          [
           null
          ],
          [
           1
          ],
          [
           null
          ],
          [
           2
          ],
          [
           1
          ],
          [
           1
          ],
          [
           null
          ],
          [
           null
          ],
          [
           null
          ],
          [
           null
          ],
          [
           1
          ],
          [
           null
          ],
          [
           1
          ],
          [
           1
          ],
          [
           1
          ],
          [
           null
          ],
          [
           null
          ],
          [
           1
          ],
          [
           1
          ],
          [
           null
          ],
          [
           null
          ],
          [
           null
          ],
          [
           null
          ],
          [
           null
          ],
          [
           null
          ],
          [
           null
          ],
          [
           null
          ],
          [
           2
          ],
          [
           null
          ],
          [
           2
          ],
          [
           1
          ],
          [
           2
          ],
          [
           null
          ],
          [
           null
          ],
          [
           null
          ],
          [
           null
          ],
          [
           null
          ],
          [
           null
          ],
          [
           1
          ],
          [
           1
          ],
          [
           null
          ],
          [
           null
          ],
          [
           null
          ],
          [
           null
          ],
          [
           null
          ],
          [
           null
          ],
          [
           1
          ],
          [
           null
          ],
          [
           null
          ],
          [
           null
          ],
          [
           1
          ],
          [
           null
          ],
          [
           null
          ],
          [
           4
          ],
          [
           null
          ],
          [
           null
          ],
          [
           null
          ],
          [
           null
          ],
          [
           null
          ],
          [
           null
          ],
          [
           null
          ],
          [
           null
          ],
          [
           null
          ],
          [
           null
          ],
          [
           null
          ],
          [
           null
          ],
          [
           null
          ],
          [
           null
          ],
          [
           null
          ],
          [
           null
          ],
          [
           null
          ],
          [
           null
          ],
          [
           null
          ],
          [
           null
          ],
          [
           null
          ],
          [
           null
          ],
          [
           null
          ],
          [
           1
          ],
          [
           null
          ],
          [
           1
          ],
          [
           null
          ],
          [
           null
          ],
          [
           null
          ],
          [
           null
          ],
          [
           null
          ],
          [
           null
          ],
          [
           4
          ],
          [
           null
          ],
          [
           null
          ],
          [
           null
          ],
          [
           null
          ],
          [
           null
          ],
          [
           null
          ],
          [
           null
          ],
          [
           null
          ],
          [
           null
          ],
          [
           null
          ],
          [
           1
          ],
          [
           null
          ],
          [
           null
          ],
          [
           1
          ],
          [
           null
          ],
          [
           null
          ],
          [
           null
          ],
          [
           null
          ],
          [
           null
          ],
          [
           null
          ],
          [
           null
          ],
          [
           null
          ],
          [
           1
          ],
          [
           null
          ],
          [
           null
          ],
          [
           null
          ],
          [
           null
          ],
          [
           null
          ],
          [
           null
          ],
          [
           null
          ],
          [
           null
          ],
          [
           null
          ],
          [
           null
          ],
          [
           null
          ],
          [
           null
          ],
          [
           null
          ],
          [
           null
          ],
          [
           null
          ],
          [
           null
          ],
          [
           null
          ],
          [
           null
          ],
          [
           null
          ],
          [
           null
          ],
          [
           null
          ],
          [
           2
          ],
          [
           null
          ],
          [
           null
          ],
          [
           null
          ],
          [
           null
          ],
          [
           null
          ],
          [
           null
          ],
          [
           1
          ],
          [
           null
          ],
          [
           null
          ],
          [
           null
          ],
          [
           1
          ],
          [
           null
          ],
          [
           null
          ],
          [
           null
          ],
          [
           null
          ],
          [
           null
          ],
          [
           null
          ],
          [
           null
          ],
          [
           null
          ],
          [
           null
          ],
          [
           null
          ],
          [
           null
          ],
          [
           null
          ],
          [
           1
          ],
          [
           2
          ],
          [
           null
          ],
          [
           1
          ],
          [
           2
          ],
          [
           1
          ],
          [
           6
          ],
          [
           null
          ],
          [
           1
          ],
          [
           3
          ],
          [
           2
          ],
          [
           2
          ],
          [
           2
          ],
          [
           2
          ],
          [
           null
          ],
          [
           1
          ],
          [
           null
          ],
          [
           null
          ],
          [
           null
          ],
          [
           null
          ],
          [
           3
          ],
          [
           1
          ],
          [
           1
          ],
          [
           2
          ],
          [
           null
          ],
          [
           null
          ],
          [
           null
          ],
          [
           null
          ],
          [
           1
          ],
          [
           null
          ],
          [
           6
          ],
          [
           null
          ],
          [
           null
          ],
          [
           1
          ],
          [
           null
          ],
          [
           null
          ],
          [
           null
          ],
          [
           1
          ],
          [
           1
          ],
          [
           1
          ],
          [
           null
          ],
          [
           1
          ],
          [
           null
          ],
          [
           null
          ],
          [
           1
          ],
          [
           null
          ],
          [
           1
          ],
          [
           1
          ],
          [
           null
          ],
          [
           null
          ],
          [
           null
          ],
          [
           null
          ],
          [
           null
          ],
          [
           null
          ],
          [
           2
          ],
          [
           null
          ],
          [
           null
          ],
          [
           1
          ],
          [
           1
          ],
          [
           null
          ],
          [
           null
          ],
          [
           1
          ],
          [
           null
          ],
          [
           null
          ],
          [
           null
          ],
          [
           null
          ],
          [
           null
          ],
          [
           null
          ],
          [
           1
          ],
          [
           2
          ],
          [
           2
          ],
          [
           null
          ],
          [
           null
          ],
          [
           null
          ],
          [
           null
          ],
          [
           null
          ],
          [
           1
          ],
          [
           null
          ],
          [
           null
          ],
          [
           null
          ],
          [
           1
          ],
          [
           null
          ],
          [
           null
          ],
          [
           null
          ],
          [
           null
          ],
          [
           null
          ],
          [
           null
          ],
          [
           null
          ],
          [
           null
          ],
          [
           1
          ],
          [
           null
          ],
          [
           null
          ],
          [
           null
          ],
          [
           null
          ],
          [
           null
          ],
          [
           null
          ],
          [
           null
          ],
          [
           null
          ],
          [
           null
          ],
          [
           null
          ],
          [
           null
          ],
          [
           null
          ],
          [
           null
          ],
          [
           null
          ],
          [
           null
          ],
          [
           null
          ],
          [
           null
          ],
          [
           null
          ],
          [
           null
          ],
          [
           1
          ],
          [
           null
          ],
          [
           null
          ],
          [
           null
          ],
          [
           null
          ],
          [
           null
          ],
          [
           null
          ],
          [
           null
          ],
          [
           null
          ],
          [
           null
          ],
          [
           null
          ],
          [
           null
          ],
          [
           1
          ],
          [
           1
          ],
          [
           null
          ],
          [
           1
          ],
          [
           null
          ],
          [
           1
          ],
          [
           2
          ],
          [
           null
          ],
          [
           12
          ],
          [
           2
          ],
          [
           2
          ],
          [
           3
          ],
          [
           1
          ],
          [
           76
          ],
          [
           null
          ],
          [
           null
          ],
          [
           null
          ],
          [
           null
          ],
          [
           null
          ],
          [
           null
          ],
          [
           null
          ],
          [
           null
          ],
          [
           null
          ],
          [
           null
          ],
          [
           null
          ],
          [
           null
          ],
          [
           null
          ],
          [
           null
          ],
          [
           null
          ],
          [
           null
          ],
          [
           null
          ],
          [
           null
          ],
          [
           1
          ],
          [
           1
          ],
          [
           3
          ],
          [
           null
          ],
          [
           null
          ],
          [
           null
          ],
          [
           null
          ],
          [
           null
          ],
          [
           null
          ],
          [
           null
          ],
          [
           null
          ],
          [
           null
          ],
          [
           3
          ],
          [
           null
          ],
          [
           null
          ],
          [
           null
          ],
          [
           null
          ],
          [
           null
          ],
          [
           null
          ],
          [
           null
          ],
          [
           1
          ],
          [
           null
          ],
          [
           null
          ],
          [
           null
          ],
          [
           1
          ],
          [
           null
          ],
          [
           null
          ],
          [
           null
          ],
          [
           null
          ],
          [
           null
          ],
          [
           null
          ],
          [
           null
          ],
          [
           null
          ],
          [
           null
          ],
          [
           null
          ],
          [
           null
          ],
          [
           null
          ],
          [
           null
          ],
          [
           null
          ],
          [
           null
          ],
          [
           null
          ],
          [
           null
          ],
          [
           2
          ],
          [
           null
          ],
          [
           null
          ],
          [
           null
          ],
          [
           null
          ],
          [
           null
          ],
          [
           null
          ],
          [
           null
          ],
          [
           null
          ],
          [
           null
          ],
          [
           null
          ],
          [
           null
          ],
          [
           1
          ],
          [
           null
          ],
          [
           null
          ],
          [
           null
          ],
          [
           null
          ],
          [
           null
          ],
          [
           null
          ],
          [
           null
          ],
          [
           null
          ],
          [
           null
          ],
          [
           null
          ],
          [
           null
          ],
          [
           null
          ],
          [
           1
          ],
          [
           4
          ],
          [
           null
          ],
          [
           7
          ],
          [
           null
          ],
          [
           null
          ],
          [
           1
          ],
          [
           null
          ],
          [
           null
          ],
          [
           1
          ],
          [
           1
          ],
          [
           1
          ],
          [
           null
          ],
          [
           1
          ],
          [
           null
          ],
          [
           3
          ],
          [
           null
          ],
          [
           null
          ],
          [
           null
          ],
          [
           1
          ],
          [
           null
          ],
          [
           null
          ],
          [
           null
          ],
          [
           null
          ],
          [
           1
          ],
          [
           null
          ],
          [
           null
          ],
          [
           null
          ],
          [
           4
          ],
          [
           null
          ],
          [
           null
          ],
          [
           null
          ],
          [
           null
          ],
          [
           null
          ],
          [
           null
          ],
          [
           null
          ],
          [
           null
          ],
          [
           null
          ],
          [
           null
          ],
          [
           null
          ],
          [
           null
          ],
          [
           null
          ],
          [
           2
          ],
          [
           null
          ],
          [
           2
          ],
          [
           null
          ],
          [
           null
          ],
          [
           null
          ],
          [
           1
          ],
          [
           null
          ],
          [
           null
          ],
          [
           null
          ],
          [
           null
          ],
          [
           null
          ],
          [
           null
          ],
          [
           null
          ],
          [
           null
          ],
          [
           3
          ],
          [
           null
          ],
          [
           null
          ],
          [
           2
          ],
          [
           3
          ],
          [
           null
          ],
          [
           null
          ],
          [
           null
          ],
          [
           null
          ],
          [
           null
          ],
          [
           null
          ],
          [
           null
          ],
          [
           1
          ],
          [
           null
          ],
          [
           null
          ],
          [
           null
          ],
          [
           null
          ],
          [
           null
          ],
          [
           null
          ],
          [
           null
          ],
          [
           1
          ],
          [
           null
          ],
          [
           null
          ],
          [
           null
          ],
          [
           null
          ],
          [
           null
          ],
          [
           null
          ],
          [
           null
          ],
          [
           null
          ],
          [
           null
          ],
          [
           null
          ],
          [
           null
          ],
          [
           null
          ],
          [
           1
          ],
          [
           null
          ],
          [
           null
          ],
          [
           null
          ],
          [
           null
          ],
          [
           null
          ],
          [
           null
          ],
          [
           null
          ],
          [
           null
          ],
          [
           null
          ],
          [
           null
          ],
          [
           null
          ],
          [
           null
          ],
          [
           null
          ],
          [
           null
          ],
          [
           null
          ],
          [
           null
          ],
          [
           null
          ],
          [
           null
          ],
          [
           null
          ],
          [
           null
          ],
          [
           null
          ],
          [
           null
          ],
          [
           1
          ],
          [
           null
          ],
          [
           null
          ],
          [
           null
          ],
          [
           null
          ],
          [
           null
          ],
          [
           1
          ],
          [
           null
          ],
          [
           null
          ],
          [
           null
          ],
          [
           null
          ],
          [
           null
          ],
          [
           null
          ],
          [
           null
          ],
          [
           null
          ],
          [
           null
          ],
          [
           null
          ],
          [
           null
          ],
          [
           null
          ],
          [
           null
          ],
          [
           null
          ],
          [
           null
          ],
          [
           null
          ],
          [
           null
          ],
          [
           null
          ],
          [
           null
          ],
          [
           null
          ],
          [
           10
          ],
          [
           null
          ],
          [
           1
          ],
          [
           null
          ],
          [
           null
          ],
          [
           null
          ],
          [
           null
          ],
          [
           null
          ],
          [
           null
          ],
          [
           null
          ],
          [
           null
          ],
          [
           null
          ],
          [
           null
          ],
          [
           null
          ],
          [
           null
          ],
          [
           null
          ],
          [
           null
          ],
          [
           1
          ],
          [
           null
          ],
          [
           null
          ],
          [
           null
          ],
          [
           null
          ],
          [
           null
          ],
          [
           null
          ],
          [
           2
          ],
          [
           1
          ],
          [
           1
          ],
          [
           3
          ],
          [
           3
          ],
          [
           4
          ],
          [
           2
          ],
          [
           4
          ],
          [
           2
          ],
          [
           9
          ],
          [
           5
          ],
          [
           null
          ],
          [
           2
          ],
          [
           2
          ],
          [
           5
          ],
          [
           2
          ],
          [
           1
          ],
          [
           3
          ],
          [
           null
          ],
          [
           6
          ],
          [
           1
          ],
          [
           3
          ],
          [
           null
          ],
          [
           null
          ],
          [
           2
          ],
          [
           5
          ],
          [
           null
          ],
          [
           3
          ],
          [
           3
          ],
          [
           2
          ],
          [
           null
          ],
          [
           null
          ],
          [
           1
          ],
          [
           1
          ],
          [
           null
          ],
          [
           null
          ],
          [
           4
          ],
          [
           null
          ],
          [
           null
          ],
          [
           null
          ],
          [
           null
          ],
          [
           null
          ],
          [
           null
          ],
          [
           null
          ],
          [
           6
          ],
          [
           4
          ],
          [
           3
          ],
          [
           3
          ],
          [
           null
          ],
          [
           null
          ],
          [
           null
          ],
          [
           1
          ],
          [
           null
          ],
          [
           null
          ],
          [
           1
          ],
          [
           null
          ],
          [
           null
          ],
          [
           null
          ],
          [
           null
          ],
          [
           null
          ],
          [
           null
          ],
          [
           null
          ],
          [
           3
          ],
          [
           6
          ],
          [
           null
          ],
          [
           null
          ],
          [
           null
          ],
          [
           null
          ],
          [
           1
          ],
          [
           null
          ],
          [
           4
          ],
          [
           3
          ],
          [
           null
          ],
          [
           null
          ],
          [
           null
          ],
          [
           2
          ],
          [
           1
          ],
          [
           1
          ],
          [
           null
          ],
          [
           2
          ],
          [
           null
          ],
          [
           1
          ],
          [
           null
          ],
          [
           null
          ],
          [
           null
          ],
          [
           null
          ],
          [
           null
          ],
          [
           null
          ],
          [
           null
          ],
          [
           null
          ],
          [
           null
          ],
          [
           null
          ],
          [
           null
          ],
          [
           null
          ],
          [
           null
          ],
          [
           null
          ],
          [
           null
          ],
          [
           3
          ],
          [
           1
          ],
          [
           null
          ],
          [
           null
          ],
          [
           null
          ],
          [
           null
          ],
          [
           null
          ],
          [
           null
          ],
          [
           null
          ],
          [
           null
          ],
          [
           2
          ],
          [
           4
          ],
          [
           null
          ],
          [
           null
          ],
          [
           null
          ],
          [
           null
          ],
          [
           null
          ],
          [
           null
          ],
          [
           null
          ],
          [
           null
          ],
          [
           null
          ],
          [
           null
          ],
          [
           null
          ],
          [
           2
          ],
          [
           null
          ],
          [
           null
          ],
          [
           null
          ],
          [
           null
          ],
          [
           null
          ],
          [
           null
          ],
          [
           null
          ],
          [
           null
          ],
          [
           2
          ],
          [
           6
          ],
          [
           null
          ],
          [
           null
          ],
          [
           1
          ],
          [
           null
          ],
          [
           null
          ],
          [
           null
          ],
          [
           null
          ],
          [
           1
          ],
          [
           null
          ],
          [
           8
          ],
          [
           null
          ],
          [
           null
          ],
          [
           null
          ],
          [
           2
          ],
          [
           1
          ],
          [
           null
          ],
          [
           null
          ],
          [
           null
          ],
          [
           null
          ],
          [
           null
          ],
          [
           1
          ],
          [
           null
          ],
          [
           3
          ],
          [
           null
          ],
          [
           null
          ],
          [
           null
          ],
          [
           null
          ],
          [
           null
          ],
          [
           null
          ],
          [
           null
          ],
          [
           null
          ],
          [
           null
          ],
          [
           null
          ],
          [
           null
          ],
          [
           null
          ],
          [
           null
          ],
          [
           null
          ],
          [
           null
          ],
          [
           null
          ],
          [
           null
          ],
          [
           null
          ],
          [
           null
          ],
          [
           null
          ],
          [
           null
          ],
          [
           null
          ],
          [
           null
          ],
          [
           null
          ],
          [
           null
          ],
          [
           null
          ],
          [
           null
          ],
          [
           null
          ],
          [
           null
          ],
          [
           null
          ],
          [
           null
          ],
          [
           null
          ],
          [
           null
          ],
          [
           null
          ],
          [
           3
          ],
          [
           null
          ],
          [
           null
          ],
          [
           null
          ],
          [
           null
          ],
          [
           null
          ],
          [
           null
          ],
          [
           null
          ],
          [
           null
          ],
          [
           3
          ],
          [
           null
          ],
          [
           null
          ],
          [
           2
          ],
          [
           null
          ],
          [
           null
          ],
          [
           null
          ],
          [
           null
          ],
          [
           null
          ],
          [
           null
          ],
          [
           null
          ],
          [
           null
          ],
          [
           null
          ],
          [
           2
          ],
          [
           1
          ],
          [
           null
          ],
          [
           null
          ],
          [
           null
          ],
          [
           null
          ],
          [
           null
          ],
          [
           null
          ],
          [
           null
          ],
          [
           null
          ],
          [
           null
          ],
          [
           null
          ],
          [
           null
          ],
          [
           1
          ],
          [
           null
          ],
          [
           2
          ],
          [
           1
          ],
          [
           null
          ],
          [
           null
          ],
          [
           null
          ],
          [
           null
          ],
          [
           null
          ],
          [
           null
          ],
          [
           null
          ],
          [
           1
          ],
          [
           null
          ],
          [
           null
          ]
         ],
         "hovertemplate": "0=%{x}<br>1=%{y}<br>2=%{z}<br>Feature=%{customdata[0]}<br>Anomaly=%{marker.color}<extra></extra>",
         "legendgroup": "",
         "marker": {
          "color": [
           0,
           1,
           0,
           0,
           0,
           0,
           0,
           0,
           0,
           0,
           0,
           1,
           1,
           0,
           0,
           0,
           0,
           1,
           1,
           0,
           0,
           0,
           0,
           0,
           0,
           0,
           0,
           0,
           0,
           0,
           0,
           0,
           0,
           0,
           0,
           1,
           1,
           0,
           0,
           0,
           0,
           0,
           0,
           0,
           0,
           1,
           1,
           0,
           0,
           0,
           0,
           0,
           0,
           0,
           0,
           0,
           0,
           0,
           0,
           0,
           0,
           0,
           0,
           0,
           0,
           0,
           0,
           0,
           0,
           0,
           0,
           0,
           0,
           0,
           0,
           0,
           0,
           1,
           0,
           0,
           0,
           0,
           0,
           0,
           0,
           0,
           0,
           0,
           0,
           0,
           0,
           0,
           0,
           0,
           0,
           0,
           0,
           0,
           0,
           0,
           0,
           0,
           0,
           0,
           0,
           0,
           0,
           0,
           0,
           0,
           0,
           0,
           0,
           0,
           0,
           0,
           0,
           0,
           0,
           1,
           0,
           0,
           0,
           0,
           0,
           0,
           0,
           1,
           0,
           0,
           0,
           0,
           1,
           0,
           0,
           0,
           0,
           0,
           0,
           0,
           0,
           0,
           0,
           0,
           0,
           0,
           0,
           0,
           0,
           0,
           0,
           0,
           0,
           0,
           0,
           0,
           0,
           1,
           0,
           0,
           0,
           0,
           1,
           0,
           0,
           0,
           0,
           0,
           0,
           0,
           0,
           0,
           0,
           1,
           0,
           0,
           0,
           0,
           0,
           1,
           0,
           0,
           0,
           0,
           0,
           0,
           0,
           0,
           0,
           0,
           0,
           0,
           0,
           0,
           1,
           0,
           0,
           0,
           0,
           0,
           0,
           0,
           0,
           0,
           0,
           0,
           1,
           1,
           0,
           0,
           1,
           0,
           0,
           0,
           0,
           0,
           0,
           0,
           1,
           0,
           0,
           0,
           0,
           0,
           0,
           1,
           0,
           0,
           0,
           0,
           0,
           0,
           1,
           0,
           0,
           0,
           0,
           0,
           0,
           0,
           0,
           0,
           0,
           0,
           0,
           0,
           0,
           0,
           0,
           0,
           1,
           0,
           0,
           0,
           0,
           0,
           0,
           0,
           0,
           0,
           0,
           0,
           0,
           0,
           0,
           0,
           0,
           0,
           0,
           0,
           0,
           0,
           0,
           0,
           0,
           0,
           0,
           0,
           0,
           0,
           0,
           0,
           0,
           0,
           0,
           0,
           0,
           0,
           0,
           0,
           0,
           0,
           0,
           0,
           0,
           0,
           0,
           0,
           0,
           0,
           0,
           0,
           0,
           0,
           0,
           0,
           0,
           0,
           0,
           0,
           0,
           0,
           0,
           0,
           1,
           0,
           0,
           0,
           0,
           0,
           0,
           0,
           0,
           0,
           0,
           0,
           0,
           0,
           0,
           0,
           0,
           0,
           0,
           0,
           0,
           0,
           0,
           0,
           0,
           0,
           0,
           0,
           0,
           0,
           0,
           0,
           0,
           0,
           0,
           1,
           0,
           0,
           1,
           0,
           0,
           0,
           0,
           0,
           0,
           0,
           0,
           0,
           0,
           0,
           0,
           0,
           0,
           0,
           0,
           0,
           0,
           0,
           0,
           0,
           0,
           0,
           0,
           0,
           0,
           0,
           0,
           0,
           0,
           0,
           0,
           0,
           0,
           0,
           0,
           0,
           0,
           0,
           0,
           0,
           0,
           0,
           0,
           0,
           0,
           0,
           0,
           0,
           0,
           0,
           0,
           0,
           0,
           0,
           0,
           0,
           0,
           0,
           0,
           0,
           0,
           0,
           0,
           0,
           0,
           0,
           0,
           0,
           0,
           0,
           0,
           0,
           0,
           0,
           0,
           0,
           0,
           0,
           0,
           0,
           0,
           0,
           0,
           0,
           0,
           0,
           0,
           0,
           0,
           0,
           0,
           0,
           0,
           0,
           0,
           0,
           0,
           0,
           0,
           0,
           0,
           0,
           0,
           0,
           0,
           0,
           0,
           0,
           0,
           0,
           0,
           0,
           0,
           0,
           0,
           0,
           0,
           0,
           0,
           0,
           0,
           0,
           0,
           0,
           0,
           0,
           0,
           0,
           0,
           0,
           0,
           0,
           0,
           0,
           0,
           1,
           0,
           0,
           0,
           0,
           0,
           0,
           0,
           0,
           0,
           0,
           0,
           0,
           0,
           0,
           0,
           0,
           0,
           1,
           0,
           0,
           1,
           0,
           0,
           0,
           0,
           0,
           0,
           0,
           0,
           0,
           0,
           0,
           0,
           0,
           0,
           0,
           0,
           1,
           0,
           0,
           0,
           0,
           0,
           0,
           0,
           0,
           0,
           0,
           0,
           0,
           0,
           0,
           0,
           0,
           0,
           0,
           0,
           0,
           0,
           0,
           0,
           0,
           0,
           0,
           0,
           0,
           0,
           0,
           0,
           0,
           0,
           0,
           0,
           0,
           0,
           0,
           0,
           0,
           0,
           0,
           0,
           0,
           0,
           0,
           0,
           0,
           0,
           0,
           0,
           0,
           0,
           0,
           0,
           0,
           0,
           0,
           0,
           0,
           0,
           0,
           0,
           0,
           0,
           0,
           0,
           0,
           0,
           0,
           0,
           0,
           0,
           0,
           0,
           0,
           0,
           0,
           1,
           0,
           0,
           0,
           0,
           0,
           0,
           0,
           0,
           0,
           0,
           0,
           0,
           0,
           0,
           0,
           0,
           0,
           0,
           0,
           0,
           0,
           0,
           0,
           0,
           0,
           0,
           0,
           0,
           0,
           0,
           0,
           0,
           0,
           0,
           0,
           0,
           0,
           0,
           0,
           0,
           0,
           0,
           0,
           0,
           0,
           0,
           0,
           0,
           0,
           0,
           0,
           0,
           0,
           0,
           1,
           0,
           0,
           0,
           0,
           0,
           0,
           0,
           0,
           0,
           0,
           0,
           0,
           1,
           0,
           0,
           0,
           0,
           0,
           0,
           0,
           0,
           0,
           0,
           0,
           0,
           0,
           0,
           0,
           0,
           0,
           0,
           0,
           0,
           0,
           0,
           0,
           0,
           0,
           0,
           0,
           0,
           0,
           1,
           0,
           0,
           0,
           0,
           0,
           0,
           0,
           0,
           0,
           0,
           0,
           0,
           0,
           0,
           0,
           0,
           0,
           0,
           0,
           0,
           1,
           0,
           0,
           0,
           0,
           0,
           0,
           0,
           0,
           0,
           0,
           0,
           0,
           0,
           0,
           1,
           0,
           0,
           0,
           0,
           0,
           0,
           0,
           0,
           0,
           0,
           1,
           0,
           0,
           0,
           0,
           0,
           0,
           0,
           0,
           0,
           0,
           0,
           0,
           0,
           0,
           0,
           1,
           0,
           0,
           0,
           0,
           0,
           0,
           0,
           0,
           0,
           1,
           0,
           0,
           0,
           0,
           0,
           0,
           0,
           0,
           0,
           0,
           0,
           0,
           1,
           0,
           0,
           0,
           0,
           0,
           0,
           0,
           0,
           0,
           0,
           0,
           0,
           0,
           0,
           0,
           0,
           0,
           0,
           0,
           0,
           0,
           0,
           0,
           1,
           0,
           0,
           0,
           0,
           0,
           0,
           0,
           0,
           0,
           0,
           0,
           0,
           0,
           0,
           0,
           0,
           0,
           0,
           0,
           0,
           0,
           0,
           0,
           0,
           0,
           0,
           0,
           0,
           0,
           0,
           0,
           0,
           0,
           0,
           0,
           0,
           0,
           0,
           0,
           0,
           0,
           0,
           0,
           0,
           0,
           0,
           0,
           0,
           0,
           0,
           0,
           0,
           0,
           0,
           0,
           0,
           0,
           0,
           0,
           0,
           0,
           0,
           0,
           0,
           0,
           0,
           0,
           0,
           0,
           0,
           0,
           0,
           0,
           0,
           0,
           0,
           0,
           0,
           0,
           0,
           0,
           0,
           0,
           0,
           0,
           0,
           0,
           0,
           0,
           0,
           0,
           0,
           0,
           0,
           0,
           0,
           0,
           0,
           0,
           0,
           1,
           0,
           1,
           0,
           0,
           0,
           0,
           0,
           0,
           0,
           0,
           0,
           0,
           0,
           0,
           0,
           0,
           0,
           0,
           0,
           0,
           0,
           0,
           0,
           0,
           0,
           0,
           0,
           0,
           0,
           0,
           0,
           0,
           0,
           0,
           0,
           0,
           0,
           0,
           0,
           0,
           0,
           0,
           0,
           0,
           0,
           0,
           0,
           0,
           0,
           0,
           1,
           0,
           1,
           0,
           0,
           0,
           0,
           0,
           1,
           0,
           1,
           0,
           0,
           0,
           0,
           0,
           0,
           0,
           0,
           0,
           0,
           0,
           0,
           0,
           0,
           0,
           0,
           0,
           0,
           0,
           0,
           0,
           0,
           0,
           0,
           0,
           0,
           0,
           0,
           0,
           0,
           0,
           0,
           0,
           0,
           0,
           0,
           0,
           0,
           1,
           0,
           0,
           0,
           0,
           0,
           0,
           0,
           0,
           0,
           0,
           0,
           0,
           0,
           0,
           0,
           0,
           0,
           0,
           0,
           0,
           0,
           0,
           0,
           1,
           0,
           0,
           0,
           0,
           0,
           0,
           1,
           1,
           0,
           0,
           0,
           0,
           0,
           0,
           0,
           0,
           0,
           0,
           0,
           0,
           0,
           0,
           1,
           1,
           0,
           0,
           0,
           0,
           0,
           1,
           0,
           1,
           0,
           0,
           0,
           0,
           0,
           0,
           0,
           0,
           0,
           0,
           0,
           1,
           0,
           0,
           0,
           0,
           0,
           0,
           0,
           0,
           0,
           0,
           1,
           0,
           0,
           0,
           0,
           0,
           0,
           0,
           1,
           0,
           0,
           0,
           0,
           0,
           0,
           0,
           0,
           0,
           0,
           0,
           0,
           0,
           0,
           0,
           0,
           0,
           0,
           0,
           0,
           0,
           1,
           0,
           0,
           0,
           0,
           0,
           0,
           0,
           0,
           0,
           0,
           0,
           0,
           0,
           0,
           0,
           0,
           0,
           0,
           0,
           0,
           0,
           0,
           0,
           0,
           0,
           0,
           0,
           0,
           0,
           0,
           0,
           0,
           0,
           0,
           0,
           0,
           0,
           0,
           0,
           0,
           0,
           0,
           0,
           0,
           0,
           0,
           0,
           0,
           0,
           0,
           0,
           0,
           0,
           0,
           0,
           0,
           0,
           0,
           0,
           0,
           0,
           0,
           0,
           0,
           0,
           0,
           0,
           0,
           0,
           0,
           0,
           0,
           0,
           0,
           0,
           0,
           0,
           0,
           0,
           0,
           0,
           0,
           0,
           0,
           0,
           0,
           0
          ],
          "coloraxis": "coloraxis",
          "opacity": 0.7,
          "symbol": "circle"
         },
         "mode": "markers",
         "name": "",
         "scene": "scene",
         "showlegend": false,
         "type": "scatter3d",
         "x": [
          -2.5519487857818604,
          6.2892165184021,
          0.3739320635795593,
          -1.2959494590759277,
          0.7919220924377441,
          -12.338541030883789,
          -2.122046947479248,
          -8.057714462280273,
          -4.1990437507629395,
          -9.12576675415039,
          -3.0777347087860107,
          4.469531059265137,
          7.0519537925720215,
          1.6780407428741455,
          -1.5418448448181152,
          0.30737656354904175,
          3.615692138671875,
          4.671701431274414,
          4.581004619598389,
          1.9784295558929443,
          -4.847546577453613,
          1.8434972763061523,
          1.0092217922210693,
          -15.433900833129883,
          -5.963728904724121,
          1.065172553062439,
          -0.4233139157295227,
          3.994891405105591,
          -0.6591506600379944,
          -3.2775871753692627,
          -4.037511825561523,
          -1.7041455507278442,
          -3.2421188354492188,
          1.079074740409851,
          -2.0481481552124023,
          5.1480231285095215,
          6.754622459411621,
          0.4539569914340973,
          -1.979111909866333,
          5.247716426849365,
          -0.5415416955947876,
          1.7516188621520996,
          1.6164817810058594,
          8.80008316040039,
          -4.043839454650879,
          7.050808429718018,
          5.830862998962402,
          4.201287269592285,
          0.2543153762817383,
          -0.38660523295402527,
          -0.4576603174209595,
          -0.8770716190338135,
          -2.67604398727417,
          -0.3685215413570404,
          0.8202123641967773,
          -0.03824705630540848,
          0.16887305676937103,
          0.08792208880186081,
          0.42851710319519043,
          0.8694764971733093,
          0.7859590649604797,
          3.4859189987182617,
          -0.5751034021377563,
          -1.8868671655654907,
          3.7632322311401367,
          6.511085033416748,
          1.7918612957000732,
          -16.494211196899414,
          -1.2703253030776978,
          -4.517972946166992,
          -9.979389190673828,
          2.891745090484619,
          2.852721929550171,
          -2.50632381439209,
          -9.546576499938965,
          -3.5789523124694824,
          3.7310984134674072,
          5.218080520629883,
          -4.343542575836182,
          -2.3327455520629883,
          0.6982775926589966,
          -2.2751574516296387,
          -1.359696388244629,
          -1.8673676252365112,
          -0.7785831093788147,
          -1.841660976409912,
          2.948289632797241,
          -3.1382014751434326,
          2.4953885078430176,
          2.445141553878784,
          0.4042859971523285,
          -0.25953739881515503,
          1.378767728805542,
          6.529214859008789,
          0.1703353375196457,
          -1.6428959369659424,
          -3.223679542541504,
          -3.0185422897338867,
          9.555689811706543,
          -0.11693059653043747,
          -2.664928674697876,
          7.514948844909668,
          7.556687355041504,
          2.21089243888855,
          2.45169997215271,
          1.3463852405548096,
          5.329021453857422,
          1.9660131931304932,
          2.5075912475585938,
          6.754049777984619,
          4.197341442108154,
          2.2049622535705566,
          0.7614338994026184,
          -0.8882959485054016,
          -15.288496017456055,
          -9.059433937072754,
          -5.903486728668213,
          -5.927889823913574,
          -14.1619234085083,
          5.586215496063232,
          0.8617579936981201,
          -1.0113112926483154,
          -6.527046203613281,
          -6.578815460205078,
          -3.0874667167663574,
          -5.19834041595459,
          3.7881832122802734,
          5.701836109161377,
          -4.238412380218506,
          -1.7553553581237793,
          5.137308120727539,
          -1.4446355104446411,
          5.952449321746826,
          1.647544503211975,
          2.900770425796509,
          6.560680866241455,
          7.758060455322266,
          6.574648857116699,
          6.627470016479492,
          -1.0282968282699585,
          8.91348934173584,
          -2.3167691230773926,
          0.9871705174446106,
          5.3233256340026855,
          0.056785255670547485,
          -0.8139233589172363,
          3.6044676303863525,
          0.196639746427536,
          0.3931531608104706,
          0.6364865303039551,
          -0.36728864908218384,
          4.1323957443237305,
          -0.6445019841194153,
          0.1729186475276947,
          6.484923362731934,
          -3.9353084564208984,
          -2.012040853500366,
          6.996989727020264,
          3.2770137786865234,
          -2.947301149368286,
          -2.5038905143737793,
          2.227229356765747,
          4.670078754425049,
          -4.125926494598389,
          -12.842181205749512,
          -3.606505870819092,
          1.9064525365829468,
          -0.06808176636695862,
          -4.12895393371582,
          0.8276761174201965,
          -4.379022598266602,
          8.364819526672363,
          3.130549907684326,
          4.185336589813232,
          9.511499404907227,
          -0.6965347528457642,
          5.298530578613281,
          4.226444721221924,
          -0.33381229639053345,
          5.549289703369141,
          5.237255096435547,
          -2.8251516819000244,
          2.8791744709014893,
          1.5688974857330322,
          -1.9700134992599487,
          -0.5285189151763916,
          0.34811607003211975,
          0.29186713695526123,
          0.3673853278160095,
          5.811005115509033,
          -3.5499048233032227,
          0.5613307356834412,
          -0.38964924216270447,
          8.862982749938965,
          3.89949369430542,
          0.1691453456878662,
          -15.945063591003418,
          -0.4581317901611328,
          0.4823376536369324,
          -1.1891988515853882,
          2.3428146839141846,
          -0.6997107267379761,
          3.9683306217193604,
          -6.125244617462158,
          -3.2762176990509033,
          -2.860640048980713,
          3.358474016189575,
          5.645235538482666,
          3.9334094524383545,
          2.388648271560669,
          -3.6377828121185303,
          -3.6759748458862305,
          -1.5719048976898193,
          0.005673420149832964,
          -1.6687945127487183,
          -9.822813987731934,
          -2.3823740482330322,
          1.8834387063980103,
          5.187953948974609,
          -0.9623886942863464,
          5.186855792999268,
          -4.9936652183532715,
          -4.150918006896973,
          -13.308655738830566,
          5.152759552001953,
          5.447861194610596,
          1.928156852722168,
          -0.41111722588539124,
          1.1200345754623413,
          -15.840851783752441,
          5.8440985679626465,
          -0.7447285056114197,
          4.094840049743652,
          6.325652599334717,
          1.0216457843780518,
          -0.8062357306480408,
          -5.453345775604248,
          6.550836086273193,
          8.041152000427246,
          0.1504088193178177,
          1.9160000085830688,
          -0.18736302852630615,
          0.5108482241630554,
          0.5574647784233093,
          2.414255142211914,
          0.0719786062836647,
          -1.8203262090682983,
          -3.260692834854126,
          4.947185516357422,
          2.1123483180999756,
          4.748490333557129,
          -1.5453342199325562,
          2.02294659614563,
          0.559330940246582,
          2.7920477390289307,
          -0.407959520816803,
          0.8298260569572449,
          1.9086015224456787,
          -1.692223072052002,
          1.514175295829773,
          0.8153272867202759,
          -4.3576812744140625,
          -0.38258299231529236,
          0.30890464782714844,
          -4.265625953674316,
          3.8887741565704346,
          0.4620348811149597,
          1.0971934795379639,
          0.1740283966064453,
          -15.022640228271484,
          -13.226027488708496,
          -16.785810470581055,
          -16.506349563598633,
          -14.553828239440918,
          -9.440176010131836,
          -14.795762062072754,
          -13.229833602905273,
          -16.769725799560547,
          -0.6691664457321167,
          2.9653940200805664,
          2.7188992500305176,
          -4.0657124519348145,
          -3.4909002780914307,
          2.763261079788208,
          -4.119274139404297,
          -7.927332401275635,
          -14.606817245483398,
          -3.1285576820373535,
          1.826520562171936,
          -2.7877211570739746,
          -2.493598461151123,
          -4.723862171173096,
          -7.9769697189331055,
          -3.9011735916137695,
          2.5164906978607178,
          -15.641271591186523,
          -4.187949180603027,
          -14.357335090637207,
          -1.6218559741973877,
          -0.07145482301712036,
          -2.1963460445404053,
          -0.1633775234222412,
          1.931838035583496,
          5.731888771057129,
          2.3874621391296387,
          6.889552116394043,
          3.098754644393921,
          -1.3496638536453247,
          -1.7621921300888062,
          2.936405658721924,
          3.3884615898132324,
          9.472518920898438,
          0.008102715015411377,
          4.32296895980835,
          3.1163604259490967,
          2.4536757469177246,
          5.408472061157227,
          4.170032501220703,
          3.813408613204956,
          -3.535491943359375,
          -1.3537349700927734,
          5.5951409339904785,
          -3.1421477794647217,
          8.37625503540039,
          4.198376655578613,
          -0.5558762550354004,
          0.6746870875358582,
          1.6185966730117798,
          3.004849910736084,
          -1.2553631067276,
          6.1197309494018555,
          9.018272399902344,
          5.185943126678467,
          -2.559950113296509,
          4.348745346069336,
          -0.03397573158144951,
          3.599308490753174,
          4.211430072784424,
          5.103931903839111,
          4.530367374420166,
          -0.5398265719413757,
          1.7860527038574219,
          -0.06584089994430542,
          2.755561590194702,
          -2.8731210231781006,
          -2.623445510864258,
          -3.3020265102386475,
          1.156205177307129,
          -2.246432065963745,
          6.835610866546631,
          -3.835970163345337,
          -4.153030872344971,
          4.675222396850586,
          -1.9594922065734863,
          -4.314895153045654,
          -1.4350913763046265,
          -2.8415720462799072,
          -4.099180698394775,
          -2.354020357131958,
          -3.410015821456909,
          3.6488277912139893,
          -16.062850952148438,
          -0.7023019194602966,
          2.676945447921753,
          -2.2044248580932617,
          -1.926819086074829,
          2.288541078567505,
          9.225871086120605,
          2.278174877166748,
          -0.254812628030777,
          2.8545525074005127,
          1.7971446514129639,
          2.4913628101348877,
          -0.040913451462984085,
          1.1374826431274414,
          1.5914002656936646,
          0.7540168166160583,
          -2.6454734802246094,
          1.9430502653121948,
          3.632565975189209,
          2.218939781188965,
          6.9735541343688965,
          4.875268936157227,
          -0.11901144683361053,
          7.693634986877441,
          -1.8871508836746216,
          -0.5586526989936829,
          -0.8799660801887512,
          3.4910643100738525,
          2.8094215393066406,
          0.822030782699585,
          -13.210268020629883,
          -5.316676616668701,
          -4.391327857971191,
          -3.5254018306732178,
          -2.3746442794799805,
          -0.1367100328207016,
          -5.113846302032471,
          1.276113510131836,
          2.7616543769836426,
          0.25104790925979614,
          -0.3645683228969574,
          -13.38480281829834,
          0.42669644951820374,
          -2.600952386856079,
          -5.963591575622559,
          -1.1012951135635376,
          -16.14143943786621,
          -0.0508764274418354,
          -2.9936747550964355,
          -0.3698868751525879,
          -1.0340430736541748,
          -1.3135124444961548,
          -2.188624382019043,
          1.3669648170471191,
          3.2007861137390137,
          2.4453704357147217,
          5.038837432861328,
          -2.8684544563293457,
          1.5138603448867798,
          2.527047872543335,
          3.1643385887145996,
          4.803183555603027,
          2.2340822219848633,
          -5.07966947555542,
          -1.232818365097046,
          -1.2159204483032227,
          -16.17141342163086,
          -6.040491104125977,
          -16.008636474609375,
          -0.3412899672985077,
          3.3496243953704834,
          -2.937432289123535,
          2.213543653488159,
          2.665847063064575,
          1.1660341024398804,
          3.0907576084136963,
          5.0348052978515625,
          0.6368446946144104,
          1.1994810104370117,
          5.358037948608398,
          6.142367839813232,
          9.148268699645996,
          7.90480899810791,
          4.881660461425781,
          3.9268534183502197,
          0.5887063145637512,
          7.80832576751709,
          0.07176873087882996,
          2.165663719177246,
          6.39640998840332,
          0.6398982405662537,
          -16.376689910888672,
          0.4495328366756439,
          -5.8930182456970215,
          3.712801218032837,
          4.255917072296143,
          -3.2970120906829834,
          1.5757036209106445,
          -1.3450616598129272,
          -3.421506404876709,
          -3.4141881465911865,
          -2.7167961597442627,
          -2.2734034061431885,
          -4.354058742523193,
          -4.229031085968018,
          -14.864119529724121,
          -2.724823474884033,
          1.046610951423645,
          -2.756068706512451,
          -6.008347988128662,
          1.9672682285308838,
          -0.565506100654602,
          -13.924478530883789,
          4.536120414733887,
          5.012726306915283,
          2.1747684478759766,
          -2.0300772190093994,
          4.386004447937012,
          0.6562036275863647,
          1.4480257034301758,
          -2.4821016788482666,
          2.2686567306518555,
          2.1981759071350098,
          2.9574973583221436,
          0.40669187903404236,
          -0.511160671710968,
          1.8151421546936035,
          5.784923076629639,
          2.9358596801757812,
          -2.463783025741577,
          1.2119126319885254,
          -5.397368907928467,
          0.9699209928512573,
          0.3249111771583557,
          -0.09436498582363129,
          4.459436416625977,
          -0.697557806968689,
          -16.038169860839844,
          -0.6881352066993713,
          3.526477098464966,
          6.6167521476745605,
          0.8553258776664734,
          3.63531756401062,
          4.3893280029296875,
          5.754228115081787,
          3.286851406097412,
          7.031151294708252,
          -14.945192337036133,
          -15.492795944213867,
          5.807514667510986,
          -4.684584140777588,
          1.5782800912857056,
          -14.073609352111816,
          -1.2051430940628052,
          -15.561624526977539,
          -0.5374016761779785,
          1.5071276426315308,
          3.3152692317962646,
          -4.31911563873291,
          -2.6178200244903564,
          -2.4841861724853516,
          -4.0068888664245605,
          2.328237771987915,
          2.8434832096099854,
          5.198277950286865,
          1.522120475769043,
          4.054234981536865,
          8.269935607910156,
          6.11558198928833,
          2.2024295330047607,
          3.182147264480591,
          3.444849967956543,
          5.029862880706787,
          1.2550418376922607,
          1.3305883407592773,
          4.726365566253662,
          -2.990480661392212,
          1.3337961435317993,
          -1.0675699710845947,
          -1.1713002920150757,
          -2.514071464538574,
          -2.988921642303467,
          8.48102855682373,
          2.6756503582000732,
          5.094686985015869,
          7.222924709320068,
          4.82140588760376,
          3.6645002365112305,
          9.146690368652344,
          -0.6200833916664124,
          -3.2440526485443115,
          4.677903652191162,
          0.7765085101127625,
          7.472029209136963,
          -0.20527765154838562,
          8.817633628845215,
          0.3648979067802429,
          0.7666501998901367,
          0.6340674161911011,
          8.191981315612793,
          0.5240691900253296,
          -0.3092002272605896,
          0.6712470650672913,
          -4.081009864807129,
          -2.6404428482055664,
          -1.1437267065048218,
          -9.88408374786377,
          -16.482887268066406,
          -4.592945098876953,
          -0.2745419144630432,
          1.7007533311843872,
          -4.4738569259643555,
          -3.543895721435547,
          -0.3327970504760742,
          5.015512466430664,
          2.991413116455078,
          7.333349227905273,
          2.455880641937256,
          -0.5158737301826477,
          4.282479286193848,
          0.4842880964279175,
          2.956425905227661,
          2.667696237564087,
          -12.526265144348145,
          -0.9667243361473083,
          0.12160982936620712,
          1.2920832633972168,
          -0.3934463560581207,
          -4.210592269897461,
          2.053035259246826,
          0.7660756707191467,
          3.934114694595337,
          4.178695201873779,
          6.509586811065674,
          -14.653807640075684,
          -14.408045768737793,
          -14.983277320861816,
          3.0503089427948,
          -1.420119047164917,
          -1.2590899467468262,
          -3.275226593017578,
          1.555609107017517,
          -0.3488234281539917,
          1.2870932817459106,
          -2.8964474201202393,
          6.7867841720581055,
          -2.709106206893921,
          0.43761536478996277,
          -3.270038604736328,
          -4.542605876922607,
          -3.117513418197632,
          0.06296849250793457,
          2.880368709564209,
          -1.819521188735962,
          -0.5493810176849365,
          1.036195993423462,
          -1.691961646080017,
          -2.5394394397735596,
          3.224785804748535,
          4.580893039703369,
          1.8665937185287476,
          0.47610214352607727,
          2.5639724731445312,
          1.6033995151519775,
          0.44709524512290955,
          1.7498235702514648,
          4.526582717895508,
          9.150525093078613,
          2.960930109024048,
          4.589508533477783,
          -2.236119508743286,
          -3.8586173057556152,
          -0.6938592195510864,
          3.6584441661834717,
          -0.10021264106035233,
          6.518664836883545,
          0.926637589931488,
          -0.8861274123191833,
          -0.9129961133003235,
          6.605301380157471,
          5.087512493133545,
          0.05044401064515114,
          5.124859809875488,
          -0.518513023853302,
          0.919704794883728,
          1.1872998476028442,
          0.1860746443271637,
          -0.9022271633148193,
          3.114239454269409,
          0.1731814444065094,
          -0.8221010565757751,
          -15.838635444641113,
          -4.343822002410889,
          -8.047863960266113,
          -3.431790590286255,
          -2.1636171340942383,
          -5.405089855194092,
          -0.11860296130180359,
          5.744720458984375,
          4.191950798034668,
          6.931246757507324,
          -5.401937484741211,
          2.4082281589508057,
          -1.7563012838363647,
          0.262477308511734,
          6.681631088256836,
          1.021101951599121,
          -16.300024032592773,
          -0.2928939163684845,
          0.5507745742797852,
          1.6617200374603271,
          -2.816638946533203,
          0.6267580389976501,
          3.4228131771087646,
          -2.472952365875244,
          -3.9552419185638428,
          -0.7413864135742188,
          -7.982215404510498,
          -9.933259010314941,
          -3.4807393550872803,
          -6.058905124664307,
          -4.930386066436768,
          -3.958132266998291,
          -1.9733219146728516,
          -6.002796173095703,
          -0.7034367918968201,
          -1.8876240253448486,
          -0.03958119824528694,
          3.8316688537597656,
          6.459283351898193,
          1.898279070854187,
          3.2763686180114746,
          3.1319007873535156,
          0.7852099537849426,
          1.9996623992919922,
          2.2869622707366943,
          0.8305310606956482,
          7.459900379180908,
          0.558986246585846,
          6.816120147705078,
          0.1413082331418991,
          -0.16286709904670715,
          -0.3715052604675293,
          -1.2465994358062744,
          -15.980435371398926,
          -3.434192657470703,
          -2.387939214706421,
          6.108498573303223,
          -1.7914586067199707,
          0.8052456378936768,
          6.402410984039307,
          -0.5979152321815491,
          4.338663101196289,
          -2.131469488143921,
          -0.11566358059644699,
          -0.4072480797767639,
          2.5075125694274902,
          -0.7217831015586853,
          2.1663596630096436,
          -2.8911406993865967,
          8.135201454162598,
          4.7054572105407715,
          -2.6620633602142334,
          4.4485931396484375,
          6.256768703460693,
          1.2242610454559326,
          -2.734232187271118,
          0.2616155445575714,
          -4.186668395996094,
          1.642189383506775,
          -3.0479156970977783,
          -0.8263764977455139,
          1.66584312915802,
          1.8515194654464722,
          -3.4026434421539307,
          -2.4619648456573486,
          2.1507461071014404,
          0.7637573480606079,
          4.180239677429199,
          6.700122833251953,
          -15.789381980895996,
          -3.6041316986083984,
          -1.0489336252212524,
          -3.502387523651123,
          -3.198453664779663,
          5.300983428955078,
          -2.5254011154174805,
          -4.263538360595703,
          -2.7147958278656006,
          -6.067131996154785,
          6.058516979217529,
          2.2958719730377197,
          -1.946228265762329,
          -3.226686477661133,
          -2.03599214553833,
          -2.517930030822754,
          -4.53865909576416,
          2.2409744262695312,
          0.8619721531867981,
          -4.6262969970703125,
          1.7760560512542725,
          -2.6071507930755615,
          -2.148773431777954,
          0.3167775273323059,
          -5.088278770446777,
          0.038287851959466934,
          2.401322364807129,
          0.6275060176849365,
          -5.561718940734863,
          5.785661220550537,
          -1.6811672449111938,
          1.9303420782089233,
          -2.072239398956299,
          0.26499804854393005,
          1.039568305015564,
          0.06699374318122864,
          4.8448286056518555,
          2.2241508960723877,
          1.898181676864624,
          -3.0580601692199707,
          -0.9504256248474121,
          3.505620241165161,
          1.783118724822998,
          -1.165726661682129,
          -1.5976688861846924,
          -2.2028398513793945,
          5.3934454917907715,
          1.3096972703933716,
          6.2880539894104,
          4.865110397338867,
          3.40012264251709,
          -2.199120283126831,
          6.302774906158447,
          4.055515289306641,
          4.311800479888916,
          8.334206581115723,
          -1.5868335962295532,
          0.0783173069357872,
          0.9884641766548157,
          -0.38839077949523926,
          -2.2636826038360596,
          0.4859524369239807,
          8.65131950378418,
          2.280287742614746,
          2.3466758728027344,
          1.8858428001403809,
          9.176520347595215,
          6.708306312561035,
          -0.036111339926719666,
          -2.7808170318603516,
          -0.6772858500480652,
          4.398254871368408,
          -0.09846872091293335,
          6.54599142074585,
          6.000113010406494,
          1.3533574342727661,
          -16.720203399658203,
          -12.655757904052734,
          -14.245528221130371,
          1.7675964832305908,
          -0.8279128074645996,
          -1.431520700454712,
          -0.018351232632994652,
          -4.626290321350098,
          -4.712050437927246,
          -1.052625060081482,
          -0.5879238843917847,
          -2.96006178855896,
          8.914045333862305,
          -2.314443588256836,
          5.952334403991699,
          1.4447935819625854,
          8.997170448303223,
          0.1057320088148117,
          4.973160266876221,
          0.3248714506626129,
          4.1941986083984375,
          6.321536540985107,
          5.068882465362549,
          -2.7241921424865723,
          -3.025348424911499,
          4.656129360198975,
          3.6246907711029053,
          -0.11703453958034515,
          2.8896372318267822,
          8.889796257019043,
          0.22742870450019836,
          0.5571750998497009,
          -1.3272426128387451,
          1.2369942665100098,
          9.050248146057129,
          9.553044319152832,
          1.6107208728790283,
          -1.6309049129486084,
          0.48060163855552673,
          0.9142922163009644,
          6.538235187530518,
          3.9377732276916504,
          3.3381733894348145,
          -0.04572251811623573,
          0.7676363587379456,
          -16.269681930541992,
          -16.43556022644043,
          -16.394176483154297,
          -5.225675106048584,
          -5.042984962463379,
          4.178046226501465,
          -5.028755187988281,
          1.4856044054031372,
          -4.714051246643066,
          -1.3393833637237549,
          -1.4939470291137695,
          1.0470314025878906,
          -1.89979088306427,
          -7.969875335693359,
          -3.5233383178710938,
          -2.3376965522766113,
          -1.8537184000015259,
          5.422806739807129,
          7.141201019287109,
          6.9962592124938965,
          4.402321815490723,
          3.3525969982147217,
          3.0871353149414062,
          -0.0928366407752037,
          7.321287155151367,
          -2.3171398639678955,
          0.7305856943130493,
          4.551088333129883,
          1.061733365058899,
          8.240368843078613,
          4.1960015296936035,
          4.3516435623168945,
          0.16564244031906128,
          6.415188312530518,
          -13.018200874328613,
          -3.2266297340393066,
          -14.46354866027832,
          -3.7039687633514404,
          2.26067852973938,
          -3.100670337677002,
          -4.104679584503174,
          -2.0667247772216797,
          8.03052043914795,
          5.770993709564209,
          1.8691562414169312,
          6.31343936920166,
          5.679349422454834,
          5.8407087326049805,
          -3.100545883178711,
          4.909780979156494,
          5.3303141593933105,
          -0.4643934369087219,
          1.1419532299041748,
          6.755618095397949,
          -4.298905849456787,
          5.904662609100342,
          1.1899549961090088,
          4.238251686096191,
          -4.8664069175720215,
          8.730942726135254,
          1.82626211643219,
          -2.134011745452881,
          6.425495147705078,
          2.4811384677886963,
          3.6460912227630615,
          2.054932117462158,
          3.991882562637329,
          -2.0812606811523438,
          -0.34642595052719116,
          8.623980522155762,
          5.573301315307617,
          3.6588010787963867,
          8.637396812438965,
          -0.6889714002609253,
          0.8406984210014343,
          0.8398900628089905,
          -3.276458263397217,
          -5.782926559448242,
          -16.410579681396484,
          -5.427162170410156,
          6.075367450714111,
          2.7969791889190674,
          -2.2854721546173096,
          4.5319318771362305,
          -12.65735149383545,
          0.4660690128803253,
          0.4407758116722107,
          2.502978801727295,
          -0.4200708270072937,
          -0.2773515284061432,
          -0.8392167091369629,
          -0.3458394408226013,
          -1.590646505355835,
          -13.382232666015625,
          -2.5446383953094482,
          -3.5346453189849854,
          7.724704265594482,
          6.088056564331055,
          1.1798450946807861,
          2.200167417526245,
          6.491934776306152,
          5.0224289894104,
          2.942138671875,
          -0.6706529259681702,
          2.2291994094848633,
          1.6944382190704346,
          -4.223783016204834,
          1.1779662370681763,
          -0.7172375321388245,
          -4.05004358291626,
          -1.3366074562072754,
          -3.1654551029205322,
          -1.2312957048416138,
          -0.5030713677406311,
          3.585212469100952,
          -4.187159061431885,
          -2.815973997116089,
          5.407776355743408,
          4.991631031036377,
          -1.2459365129470825,
          -3.3111014366149902,
          -1.3917850255966187,
          2.477733612060547,
          -2.9441213607788086,
          0.3721751272678375,
          8.290228843688965,
          1.6893278360366821,
          5.415062427520752,
          -1.189872145652771,
          -1.1692156791687012,
          3.56864857673645,
          1.9482307434082031,
          -1.829841136932373,
          0.49969789385795593,
          2.8561878204345703,
          -0.4609411954879761,
          -0.47059011459350586,
          -0.9194490909576416,
          0.6739996671676636,
          0.33842527866363525,
          7.858764171600342,
          2.9797556400299072,
          8.478828430175781,
          1.637762188911438,
          9.093812942504883,
          7.770229816436768,
          3.930407762527466,
          4.22905158996582,
          1.1535072326660156,
          -0.6684243083000183,
          1.1055893898010254,
          -2.6005964279174805,
          1.4620559215545654,
          5.387518882751465,
          -3.6720046997070312,
          -2.78183913230896,
          -12.804181098937988,
          -14.231823921203613,
          -1.1592769622802734,
          0.12372872978448868,
          -0.9982864856719971,
          -1.835300087928772,
          6.6356635093688965,
          5.754966735839844,
          1.6352975368499756,
          3.7606959342956543,
          5.062849044799805,
          -0.4370972812175751,
          -0.569301187992096,
          -0.5958022475242615,
          -2.8651838302612305,
          3.6939756870269775,
          0.7460445165634155,
          -0.21244359016418457,
          3.0745625495910645,
          -0.6119949817657471,
          -1.5909881591796875,
          4.76580286026001,
          -1.4185676574707031,
          2.242631673812866,
          -1.9464857578277588,
          -0.22588983178138733,
          -3.581655502319336,
          -0.9975453019142151,
          6.305296421051025,
          6.944342136383057,
          -0.6816606521606445,
          0.5680252909660339,
          0.6251131296157837,
          -5.732017517089844,
          4.205949306488037,
          -0.8977723717689514,
          -4.829355716705322,
          -3.1396825313568115,
          -2.2817978858947754,
          2.349156618118286,
          3.354567527770996,
          -0.017940130084753036,
          -3.684140205383301,
          2.213920831680298,
          4.045713424682617,
          5.842433452606201,
          -2.633023738861084,
          0.4624772369861603,
          -1.4215891361236572,
          -2.3952279090881348,
          3.183262825012207,
          3.998518705368042,
          -0.7625517845153809,
          3.42775821685791,
          -5.681248188018799,
          -5.107425689697266,
          -5.350766181945801,
          3.077312469482422,
          -1.3247849941253662,
          0.9645329713821411,
          -1.0197803974151611,
          3.127143383026123,
          -0.06938159465789795,
          2.0554332733154297,
          5.828186511993408,
          4.675389766693115,
          1.2388652563095093,
          -4.520684242248535,
          -4.1994099617004395,
          -3.011672019958496,
          1.9228204488754272,
          3.7221004962921143,
          -1.6091961860656738,
          -14.665020942687988,
          2.075137138366699,
          -4.2205634117126465,
          6.121619701385498,
          -4.063344955444336,
          -4.22428560256958,
          -4.011224269866943,
          -3.8829634189605713,
          -2.820876359939575,
          -0.5838627815246582,
          1.6717151403427124,
          6.124392509460449,
          0.1533246785402298,
          -2.9057841300964355,
          0.2851070463657379,
          -4.9794206619262695,
          -1.0049166679382324,
          -4.281341552734375,
          0.9073869585990906,
          -4.2050957679748535,
          -0.33067166805267334,
          1.6981449127197266,
          -5.648044586181641,
          -5.2464599609375,
          0.947902500629425,
          0.322765976190567,
          3.60432505607605,
          -0.5554448366165161,
          -1.5579637289047241,
          -4.188310623168945,
          0.9453368782997131,
          0.6177807450294495,
          -14.596441268920898,
          6.071049213409424,
          6.0996575355529785,
          1.6407110691070557,
          2.4183621406555176,
          2.213252305984497,
          0.9969472885131836,
          2.732253313064575,
          -4.199361801147461,
          3.4608287811279297,
          0.07127363979816437,
          -0.3113062083721161,
          9.552397727966309,
          2.1089935302734375,
          1.1583713293075562,
          3.0124669075012207,
          -3.1725285053253174,
          0.9988915324211121,
          8.020103454589844,
          -5.8060479164123535,
          -0.2504131495952606,
          -2.8961517810821533,
          0.7155654430389404,
          -1.4398462772369385,
          5.5864386558532715,
          2.0957984924316406,
          -1.1316320896148682,
          3.7128074169158936,
          1.2317726612091064,
          8.920737266540527,
          6.8944411277771,
          -3.8622567653656006,
          1.1174697875976562,
          1.8233884572982788,
          -3.504375457763672,
          -3.9941887855529785,
          0.3694796860218048,
          -0.06983236968517303,
          3.3369953632354736,
          -2.585531711578369,
          -2.6799490451812744,
          1.24772310256958,
          1.369120717048645,
          2.387054443359375,
          -0.35864970088005066,
          0.9128410816192627,
          -3.5536890029907227,
          2.5920395851135254,
          1.9503616094589233,
          8.482839584350586,
          0.21906791627407074,
          -1.198815107345581,
          0.9777630567550659,
          3.078423023223877,
          1.331831455230713,
          0.19144247472286224,
          1.188644528388977,
          2.4077954292297363,
          3.6216018199920654,
          -3.386550188064575,
          0.8420531153678894,
          4.2585062980651855,
          4.130398273468018,
          0.5079731345176697,
          1.957236886024475,
          -16.263830184936523,
          -13.342947006225586,
          -1.8429888486862183,
          -3.331094264984131,
          -4.3591389656066895,
          -2.0263304710388184,
          3.6068499088287354,
          -5.9634504318237305,
          -1.084027886390686,
          -1.761920690536499,
          0.5663540363311768,
          2.4583871364593506,
          -2.198812246322632,
          -3.8599612712860107,
          -1.3111605644226074,
          3.0805933475494385,
          0.21045680344104767,
          2.103780508041382,
          5.283653259277344,
          -0.0041807969100773335,
          -15.700035095214844,
          -2.8353042602539062,
          5.015741348266602,
          -0.8584644198417664
         ],
         "y": [
          1.7258577346801758,
          -1.9802322387695312,
          6.580113887786865,
          0.4788758456707001,
          -0.09822974354028702,
          -3.4216647148132324,
          4.813526630401611,
          -2.944077968597412,
          -0.6261797547340393,
          -3.9917688369750977,
          9.56255054473877,
          0.13490082323551178,
          -3.6397416591644287,
          3.386089324951172,
          7.664750576019287,
          -3.4038121700286865,
          3.3090739250183105,
          -4.5776047706604,
          -0.7299165725708008,
          1.291552186012268,
          10.23847484588623,
          5.3584513664245605,
          3.138350009918213,
          -4.091711044311523,
          -8.016153335571289,
          -1.8072935342788696,
          3.5484421253204346,
          1.6013474464416504,
          3.4964420795440674,
          3.798724412918091,
          -1.689739465713501,
          8.950236320495605,
          7.320626258850098,
          -0.4047737717628479,
          8.752408981323242,
          -0.8554812669754028,
          -2.0291104316711426,
          10.507406234741211,
          11.936592102050781,
          2.8869526386260986,
          -0.4657110571861267,
          7.328488349914551,
          9.744717597961426,
          -2.447010040283203,
          12.53742504119873,
          -3.9752159118652344,
          0.4628017842769623,
          -1.390149712562561,
          7.370796203613281,
          10.721479415893555,
          -16.534269332885742,
          -17.764522552490234,
          7.353813171386719,
          -19.036714553833008,
          8.438471794128418,
          -20.60831069946289,
          -11.771851539611816,
          -12.216144561767578,
          -11.014872550964355,
          -8.678262710571289,
          -21.42561912536621,
          -9.829936981201172,
          -0.42555245757102966,
          10.410494804382324,
          -13.016264915466309,
          -4.167343616485596,
          -2.155641555786133,
          -2.4693102836608887,
          -0.8218574523925781,
          7.332977294921875,
          -3.630769729614258,
          4.556197643280029,
          3.3365120887756348,
          7.1018900871276855,
          -3.419171094894409,
          -2.8142876625061035,
          3.6819255352020264,
          0.9723525643348694,
          9.471423149108887,
          4.610507965087891,
          4.436769485473633,
          5.155142307281494,
          8.86329174041748,
          12.42741870880127,
          10.543356895446777,
          11.878296852111816,
          6.847988128662109,
          10.477745056152344,
          7.215855598449707,
          3.4399819374084473,
          -21.05953025817871,
          9.938904762268066,
          -23.142009735107422,
          -12.183941841125488,
          9.587881088256836,
          -1.9959144592285156,
          12.58919620513916,
          12.431352615356445,
          -1.0177640914916992,
          10.29834270477295,
          12.46667194366455,
          -3.8947715759277344,
          -1.12831449508667,
          5.957723617553711,
          4.216230869293213,
          -22.545263290405273,
          -3.191481113433838,
          -1.8405804634094238,
          -11.058523178100586,
          -0.6793984174728394,
          -13.630433082580566,
          -0.1971668303012848,
          -9.12047004699707,
          -16.49071502685547,
          -3.961705446243286,
          -3.9692137241363525,
          -8.625534057617188,
          -2.5154170989990234,
          -3.183393955230713,
          -1.4401758909225464,
          3.1206650733947754,
          1.048409342765808,
          -3.079073905944824,
          -2.8123576641082764,
          7.474035263061523,
          -7.438410758972168,
          3.512265205383301,
          0.19484759867191315,
          -2.000300407409668,
          3.9719927310943604,
          2.772368907928467,
          3.9896090030670166,
          -1.3871031999588013,
          9.25843620300293,
          6.439593315124512,
          -12.235688209533691,
          -2.8645074367523193,
          -0.9964454770088196,
          -15.795811653137207,
          -2.0094010829925537,
          -0.5899012684822083,
          4.963892459869385,
          -22.981660842895508,
          -3.193732976913452,
          -19.11857032775879,
          -15.184980392456055,
          -1.0617997646331787,
          7.470749378204346,
          -20.61916732788086,
          -10.050704002380371,
          -17.495357513427734,
          -8.998505592346191,
          -15.073123931884766,
          -19.422460556030273,
          -15.69143295288086,
          -3.6765213012695312,
          6.998644828796387,
          -3.1358580589294434,
          4.443027973175049,
          5.0323286056518555,
          3.4300377368927,
          4.979226112365723,
          -4.576931953430176,
          -0.5536996722221375,
          -3.366719961166382,
          7.098964214324951,
          4.096268653869629,
          4.1665239334106445,
          -0.571629524230957,
          5.455119609832764,
          -7.0221099853515625,
          -2.0131120681762695,
          -0.7404908537864685,
          1.297084093093872,
          -0.28115344047546387,
          11.09111213684082,
          -11.099845886230469,
          4.83410120010376,
          -19.775203704833984,
          0.7696039080619812,
          -14.643486022949219,
          -6.654680252075195,
          0.624914288520813,
          6.131477355957031,
          11.820791244506836,
          -16.12996482849121,
          0.13293755054473877,
          7.4861321449279785,
          0.15263310074806213,
          -8.988203048706055,
          12.544588088989258,
          -10.597426414489746,
          -15.637099266052246,
          -2.342268943786621,
          -1.4805026054382324,
          -5.463853359222412,
          -1.7102248668670654,
          3.1012227535247803,
          -1.9614087343215942,
          9.513214111328125,
          3.0165135860443115,
          1.7788666486740112,
          1.5103920698165894,
          -4.383756637573242,
          3.4508557319641113,
          0.659336507320404,
          -1.4022393226623535,
          -1.4440643787384033,
          0.5284634828567505,
          1.5582094192504883,
          1.3393447399139404,
          5.228667259216309,
          -1.781843900680542,
          -0.039133720099925995,
          0.5088373422622681,
          -3.5653679370880127,
          3.4810216426849365,
          4.516632556915283,
          -1.6303035020828247,
          4.773231506347656,
          1.6356674432754517,
          -7.484009265899658,
          -6.383812427520752,
          -5.76404333114624,
          1.0042203664779663,
          0.31103023886680603,
          2.601132869720459,
          1.6228681802749634,
          1.3225328922271729,
          -2.6074955463409424,
          0.20185823738574982,
          1.8297537565231323,
          -1.3941289186477661,
          -15.605225563049316,
          4.454921245574951,
          8.176580429077148,
          -6.536990165710449,
          -15.730700492858887,
          -0.1194085106253624,
          10.99233341217041,
          4.3073577880859375,
          8.997858047485352,
          9.65881061553955,
          8.20594310760498,
          -1.7725378274917603,
          9.268186569213867,
          11.749662399291992,
          3.108778476715088,
          -3.6955509185791016,
          -10.428553581237793,
          -0.7005163431167603,
          11.57894515991211,
          -8.529730796813965,
          -11.472160339355469,
          2.9543352127075195,
          -0.0235916618257761,
          -0.3245645761489868,
          -1.2622393369674683,
          3.771467447280884,
          0.18861345946788788,
          -9.666526794433594,
          -5.447351932525635,
          -14.726704597473145,
          -6.006766319274902,
          -7.0131402015686035,
          1.2213881015777588,
          -0.9302859306335449,
          -1.9245023727416992,
          -5.626987934112549,
          -1.4439698457717896,
          -3.4751975536346436,
          -1.7259681224822998,
          -2.349330186843872,
          -2.194683313369751,
          -4.225044250488281,
          -1.7553802728652954,
          -2.6321630477905273,
          -1.2167103290557861,
          3.83211612701416,
          3.190716028213501,
          -1.6404987573623657,
          -8.38940143585205,
          1.0869321823120117,
          1.6907469034194946,
          1.5396941900253296,
          -3.2257156372070312,
          -4.790356636047363,
          5.742013454437256,
          4.547027587890625,
          6.724771022796631,
          -2.585059642791748,
          -7.564787864685059,
          -2.8996784687042236,
          -7.680684566497803,
          2.1035001277923584,
          -3.9012255668640137,
          -0.6338855624198914,
          -2.6547718048095703,
          7.8590850830078125,
          9.358809471130371,
          4.933000564575195,
          7.4476237297058105,
          3.813061475753784,
          -11.383981704711914,
          6.379608154296875,
          -0.41488218307495117,
          -1.2063665390014648,
          1.482572078704834,
          11.705527305603027,
          6.816249370574951,
          -5.36985969543457,
          -0.45001551508903503,
          10.607818603515625,
          -7.460865497589111,
          0.4867066442966461,
          4.852274417877197,
          -7.985823631286621,
          1.1437026262283325,
          0.07908951491117477,
          7.650181293487549,
          -0.8881052136421204,
          -15.03456974029541,
          12.200478553771973,
          -1.9917473793029785,
          5.069575786590576,
          9.04109001159668,
          -1.7243163585662842,
          7.212669849395752,
          6.5194244384765625,
          -0.06324824690818787,
          -15.720111846923828,
          -0.14735610783100128,
          -3.260993480682373,
          -3.121042251586914,
          -1.2225172519683838,
          -12.81693172454834,
          0.6656838655471802,
          -9.0333251953125,
          -10.972512245178223,
          -1.1197937726974487,
          -17.806379318237305,
          -22.855937957763672,
          3.151320219039917,
          1.8771113157272339,
          6.708240509033203,
          4.341322422027588,
          5.131162643432617,
          4.071587562561035,
          -2.5639748573303223,
          -2.6711175441741943,
          1.1405010223388672,
          -1.0956904888153076,
          -4.574276924133301,
          3.9857490062713623,
          0.48048120737075806,
          3.999943494796753,
          6.716631889343262,
          5.422591686248779,
          0.5828683972358704,
          7.458410263061523,
          4.4048590660095215,
          -3.1606061458587646,
          -2.184682846069336,
          6.493563175201416,
          8.756343841552734,
          11.914438247680664,
          0.2987343370914459,
          -1.548444151878357,
          7.143567085266113,
          9.945079803466797,
          6.52677059173584,
          5.566891193389893,
          4.910398006439209,
          8.604898452758789,
          9.456467628479004,
          7.4513163566589355,
          5.1064372062683105,
          12.30199146270752,
          6.650372505187988,
          -0.813551127910614,
          4.351179122924805,
          -0.22622281312942505,
          -0.10626095533370972,
          -13.11563491821289,
          -2.915189743041992,
          10.41871166229248,
          -17.432064056396484,
          -16.506309509277344,
          -1.313482403755188,
          -6.411961078643799,
          -21.261497497558594,
          -5.860839366912842,
          -2.686371326446533,
          2.1053972244262695,
          -0.2850792706012726,
          4.825794696807861,
          -0.599534809589386,
          -8.592373847961426,
          -0.6963933706283569,
          0.129156231880188,
          9.610332489013672,
          2.826720714569092,
          -5.697763442993164,
          4.115258693695068,
          0.5687840580940247,
          -4.064617156982422,
          8.836197853088379,
          -2.960951089859009,
          7.793013572692871,
          9.771222114562988,
          4.18812894821167,
          -2.0084357261657715,
          8.279655456542969,
          10.512040138244629,
          -22.274709701538086,
          7.199261665344238,
          3.391608715057373,
          -14.600727081298828,
          10.990547180175781,
          6.973968982696533,
          1.6379274129867554,
          4.7102742195129395,
          1.6853917837142944,
          -1.7968930006027222,
          9.914938926696777,
          8.672150611877441,
          -1.984142780303955,
          -1.7063336372375488,
          -8.628896713256836,
          -3.2502386569976807,
          10.618853569030762,
          -1.826860785484314,
          8.533255577087402,
          4.740911960601807,
          8.328543663024902,
          8.218076705932617,
          4.858763217926025,
          -14.598161697387695,
          8.930309295654297,
          -23.104345321655273,
          -14.787261009216309,
          -10.121377944946289,
          -0.8625909686088562,
          -2.7243168354034424,
          -9.397258758544922,
          -0.2671583294868469,
          9.25163745880127,
          -3.6836111545562744,
          -12.357641220092773,
          -10.52149486541748,
          -11.992562294006348,
          -1.341239333152771,
          -2.753453493118286,
          2.845489025115967,
          -3.2413570880889893,
          1.7601327896118164,
          2.9651622772216797,
          9.559800148010254,
          4.619036674499512,
          -1.9787925481796265,
          -0.24695836007595062,
          5.261983871459961,
          -2.9198596477508545,
          5.702627658843994,
          -2.3887710571289062,
          5.572144508361816,
          -4.641536712646484,
          -6.813025951385498,
          -0.31054338812828064,
          -3.1648244857788086,
          -8.626298904418945,
          4.773728847503662,
          0.3009190857410431,
          -3.8639535903930664,
          3.614628791809082,
          -7.327919006347656,
          6.25248384475708,
          -2.2820591926574707,
          -0.411266028881073,
          7.140477180480957,
          7.923501491546631,
          13.099580764770508,
          8.227869033813477,
          2.8266336917877197,
          -0.7029711604118347,
          -20.490324020385742,
          10.419452667236328,
          5.1259446144104,
          -11.423354148864746,
          -1.694044828414917,
          -2.8833513259887695,
          7.709226608276367,
          -7.407534599304199,
          4.666224002838135,
          8.018159866333008,
          -18.878276824951172,
          1.079496145248413,
          9.756845474243164,
          -3.4369161128997803,
          -14.70579719543457,
          -2.485342264175415,
          -3.5083060264587402,
          -9.763313293457031,
          -2.6417291164398193,
          -10.477747917175293,
          -11.400764465332031,
          -9.673590660095215,
          -3.605010747909546,
          -4.598221778869629,
          -3.4739761352539062,
          -0.3268241286277771,
          -8.529155731201172,
          4.89634370803833,
          -5.187666416168213,
          -2.203476905822754,
          -3.367401361465454,
          6.685779094696045,
          3.8455162048339844,
          1.9552403688430786,
          -5.369889736175537,
          0.6569839715957642,
          -3.1208982467651367,
          -6.3880615234375,
          3.4622702598571777,
          -0.34176620841026306,
          2.907313108444214,
          5.571403503417969,
          1.3953447341918945,
          0.19448719918727875,
          -11.683919906616211,
          8.480438232421875,
          5.315276622772217,
          -0.5303137302398682,
          -14.593791007995605,
          7.472835540771484,
          5.97233772277832,
          -8.333550453186035,
          9.649279594421387,
          6.52910041809082,
          -0.26368623971939087,
          11.120942115783691,
          12.241683959960938,
          12.424705505371094,
          -1.7829922437667847,
          3.862508535385132,
          -14.763833045959473,
          -4.032506942749023,
          -14.375142097473145,
          -12.866539001464844,
          -0.8673543334007263,
          -15.94543170928955,
          12.593172073364258,
          -0.0020097256638109684,
          -21.955190658569336,
          -3.0740838050842285,
          -18.519432067871094,
          -0.9211182594299316,
          -10.869349479675293,
          -9.075543403625488,
          -10.040200233459473,
          -3.3041727542877197,
          -11.64100170135498,
          -13.856731414794922,
          -20.72768211364746,
          3.2665629386901855,
          2.9469153881073,
          -0.4398655891418457,
          -3.58972430229187,
          -1.6179453134536743,
          -7.604152679443359,
          7.521422386169434,
          4.555846691131592,
          -5.482952117919922,
          6.233980178833008,
          9.84993839263916,
          -10.916255950927734,
          -0.6380007863044739,
          -1.513909935951233,
          8.023216247558594,
          -19.186304092407227,
          -7.437864780426025,
          -21.46363639831543,
          -0.7056354880332947,
          2.5297954082489014,
          -3.154439687728882,
          7.956607818603516,
          -20.830299377441406,
          -0.9100704789161682,
          9.839198112487793,
          5.381221771240234,
          -10.317671775817871,
          -10.95553207397461,
          -13.27079963684082,
          -1.1070424318313599,
          -15.382104873657227,
          -4.68515682220459,
          -2.5246710777282715,
          -4.402341365814209,
          0.6834720969200134,
          3.781176805496216,
          -1.6116400957107544,
          5.801182270050049,
          1.3375838994979858,
          2.6723263263702393,
          6.622211933135986,
          0.7058770656585693,
          -2.2537682056427,
          -3.1476616859436035,
          5.71666955947876,
          5.081189155578613,
          9.614601135253906,
          10.164958953857422,
          -0.8983338475227356,
          3.9500865936279297,
          8.633624076843262,
          10.98041820526123,
          8.94296932220459,
          10.323529243469238,
          12.849991798400879,
          6.538136005401611,
          -14.108877182006836,
          8.439723014831543,
          10.607417106628418,
          7.38413667678833,
          7.357643127441406,
          -20.078432083129883,
          6.090139865875244,
          -8.229223251342773,
          -1.7029249668121338,
          7.727015972137451,
          -8.262774467468262,
          7.306276798248291,
          12.83639144897461,
          9.778630256652832,
          -3.1029903888702393,
          8.535038948059082,
          -2.5728542804718018,
          -22.16805648803711,
          8.199156761169434,
          9.853575706481934,
          -15.582758903503418,
          -14.754156112670898,
          9.195037841796875,
          -3.29866361618042,
          -15.216559410095215,
          -8.523014068603516,
          -8.052589416503906,
          -11.246753692626953,
          -15.972760200500488,
          -6.388718605041504,
          -5.6219305992126465,
          -15.720352172851562,
          -2.609715461730957,
          9.661218643188477,
          -3.351886749267578,
          6.588080406188965,
          3.9958484172821045,
          -6.792291164398193,
          9.163442611694336,
          -15.174596786499023,
          3.779165506362915,
          -2.451267957687378,
          -7.103261947631836,
          7.966230869293213,
          10.441590309143066,
          -12.039813995361328,
          -12.491897583007812,
          -22.706308364868164,
          -2.07354736328125,
          -14.759474754333496,
          -11.297050476074219,
          -22.623363494873047,
          4.266068458557129,
          3.185488700866699,
          -0.9137360453605652,
          0.9149928092956543,
          -3.7066972255706787,
          1.1597375869750977,
          -3.2728726863861084,
          -3.6086668968200684,
          7.026208400726318,
          -8.630343437194824,
          -8.56886100769043,
          7.878819465637207,
          8.76551342010498,
          -3.933248996734619,
          6.807253360748291,
          12.693109512329102,
          8.82277774810791,
          3.069467782974243,
          0.3096102774143219,
          3.463502883911133,
          -0.273639976978302,
          6.080479621887207,
          8.044447898864746,
          5.739893436431885,
          0.2955206334590912,
          9.145100593566895,
          -3.0823445320129395,
          8.031867027282715,
          -12.955406188964844,
          7.273322105407715,
          -13.240484237670898,
          -19.670515060424805,
          1.1784433126449585,
          -1.4024169445037842,
          5.769080638885498,
          8.840814590454102,
          -0.3255901336669922,
          11.7186861038208,
          -21.719215393066406,
          0.18815287947654724,
          9.848971366882324,
          -0.43542757630348206,
          10.456511497497559,
          6.813291072845459,
          10.889957427978516,
          8.001476287841797,
          -0.37419235706329346,
          8.79629898071289,
          9.19880485534668,
          -2.4099884033203125,
          -0.21957698464393616,
          4.894005298614502,
          4.044944763183594,
          -1.3453309535980225,
          6.418760776519775,
          2.205254077911377,
          7.529923915863037,
          -0.6314987540245056,
          2.776533603668213,
          7.606812953948975,
          1.8607780933380127,
          1.044738531112671,
          1.2249014377593994,
          -0.26000961661338806,
          7.068883895874023,
          4.467529773712158,
          4.039595603942871,
          3.2785236835479736,
          -2.4776885509490967,
          -3.7519118785858154,
          1.096472978591919,
          3.8946146965026855,
          -6.4264817237854,
          5.445742130279541,
          0.34351846575737,
          2.9172229766845703,
          -1.1170686483383179,
          5.054290771484375,
          -4.196159839630127,
          -0.5312080979347229,
          3.8014075756073,
          5.350910663604736,
          4.967989444732666,
          4.72438383102417,
          -3.119539737701416,
          5.189610958099365,
          3.683720111846924,
          7.154533386230469,
          -8.542303085327148,
          -2.1321041584014893,
          -0.23325015604496002,
          6.343398094177246,
          6.126988887786865,
          -6.827795505523682,
          3.862663507461548,
          -2.1141650676727295,
          8.580355644226074,
          -7.908616542816162,
          0.7408568263053894,
          4.0126824378967285,
          8.39749526977539,
          10.9638090133667,
          7.683094501495361,
          6.683611869812012,
          1.9006314277648926,
          1.6060090065002441,
          6.514775276184082,
          9.837990760803223,
          12.680335998535156,
          12.205774307250977,
          5.229757785797119,
          6.495593547821045,
          -0.10996127128601074,
          11.608996391296387,
          6.488875865936279,
          0.645851731300354,
          9.298762321472168,
          -15.333417892456055,
          0.7358512878417969,
          -5.278863430023193,
          12.587529182434082,
          -10.286925315856934,
          3.5080182552337646,
          1.7551496028900146,
          -3.1421048641204834,
          11.605635643005371,
          -19.891603469848633,
          7.495832443237305,
          9.438899993896484,
          10.537134170532227,
          5.862985134124756,
          -2.7105650901794434,
          1.4633969068527222,
          4.26689338684082,
          6.55940055847168,
          -1.6431570053100586,
          -2.355510950088501,
          -12.819451332092285,
          8.382007598876953,
          -5.616529941558838,
          -10.483831405639648,
          -19.295650482177734,
          -2.0343892574310303,
          -15.404048919677734,
          -8.363484382629395,
          -1.7827510833740234,
          -3.6182641983032227,
          -5.042220592498779,
          3.791171073913574,
          10.658101081848145,
          7.569029331207275,
          7.647305965423584,
          -6.39513635635376,
          -7.051271438598633,
          1.1887173652648926,
          9.575348854064941,
          5.23541259765625,
          -0.5846983194351196,
          -2.887779951095581,
          -11.549745559692383,
          8.93615436553955,
          -0.23380881547927856,
          6.599679946899414,
          -7.307539939880371,
          4.112614154815674,
          -0.5046838521957397,
          -10.31003189086914,
          -8.504182815551758,
          5.369128227233887,
          -2.620180130004883,
          -10.671351432800293,
          -7.013948917388916,
          6.379088878631592,
          -0.46115022897720337,
          -0.6785863041877747,
          -20.307910919189453,
          -21.263721466064453,
          9.953886032104492,
          -21.949995040893555,
          -1.1935731172561646,
          -1.026312232017517,
          -22.845266342163086,
          12.106453895568848,
          8.744903564453125,
          -0.52333664894104,
          -4.167653560638428,
          -13.275779724121094,
          -6.81026029586792,
          -19.681800842285156,
          -22.45639991760254,
          -0.9144499897956848,
          -1.1630550622940063,
          -0.9260509610176086,
          10.03719711303711,
          -6.832733631134033,
          0.459888219833374,
          8.736888885498047,
          -1.0275180339813232,
          8.291619300842285,
          -3.2714946269989014,
          3.9337756633758545,
          2.961822986602783,
          0.9940938949584961,
          -3.264475107192993,
          9.686444282531738,
          -2.5675547122955322,
          9.030919075012207,
          -14.90632438659668,
          0.1331661194562912,
          -0.17276358604431152,
          -1.1840791702270508,
          6.649659156799316,
          7.003600120544434,
          -20.25884246826172,
          -3.9925894737243652,
          12.091323852539062,
          8.191692352294922,
          1.1731948852539062,
          -22.602994918823242,
          -2.2378926277160645,
          -13.628740310668945,
          -13.820537567138672,
          -5.546019554138184,
          -15.792844772338867,
          -3.0683271884918213,
          -2.4804978370666504,
          -2.3889946937561035,
          2.1278436183929443,
          4.151341915130615,
          -2.440981864929199,
          -0.5390747785568237,
          5.299194812774658,
          -0.13633383810520172,
          -9.865314483642578,
          6.549026966094971,
          -15.460933685302734,
          0.04883898049592972,
          -11.463356018066406,
          5.129709243774414,
          -1.6553122997283936,
          -8.647696495056152,
          -18.693944931030273,
          8.370793342590332,
          -2.272730827331543,
          -7.764451503753662,
          -1.275839924812317,
          2.689905881881714,
          4.332706451416016,
          -7.812849998474121,
          -1.1704894304275513,
          9.104446411132812,
          10.370718002319336,
          0.2366061806678772,
          4.600039482116699,
          -0.9903395771980286,
          8.759025573730469,
          -6.461158752441406,
          11.88546085357666,
          -18.25875473022461,
          -1.4468677043914795,
          -8.800875663757324,
          -2.530259609222412,
          -2.734684467315674,
          -18.229143142700195,
          -10.304845809936523,
          -10.317944526672363,
          5.091402053833008,
          -8.626517295837402,
          -1.315487027168274,
          -7.173094272613525,
          -15.352620124816895,
          6.3658623695373535,
          6.477227687835693,
          -7.5732903480529785,
          -3.6161646842956543,
          -19.994140625,
          8.69721508026123,
          5.017427921295166,
          6.780807018280029,
          -17.592857360839844,
          -17.079118728637695,
          -14.030402183532715,
          -6.140092372894287,
          -3.2220346927642822,
          6.575162410736084,
          9.684948921203613,
          -0.7682375311851501,
          -10.073221206665039,
          9.500190734863281,
          8.473369598388672,
          -3.5582263469696045,
          -7.332240581512451,
          -6.51448917388916,
          -17.365488052368164,
          -2.1998040676116943,
          -2.1304609775543213,
          1.3304942846298218,
          3.450223684310913,
          6.814379692077637,
          2.532456874847412,
          1.5023187398910522,
          2.8323466777801514,
          1.1697893142700195,
          5.690331935882568,
          -1.5496891736984253,
          8.068596839904785,
          1.8480374813079834,
          1.36411452293396,
          1.3852331638336182,
          1.4681098461151123,
          5.148656368255615,
          8.809280395507812,
          4.8888654708862305,
          9.425446510314941,
          10.172121047973633,
          0.22015365958213806,
          8.092668533325195,
          -8.698739051818848,
          11.957573890686035,
          8.265527725219727,
          5.757647514343262,
          9.843846321105957,
          11.838358879089355,
          10.721170425415039,
          7.533926486968994,
          11.20585823059082,
          11.175505638122559,
          -17.533573150634766,
          9.36668872833252,
          7.093813896179199,
          -3.6398801803588867,
          6.879213333129883,
          0.4579918384552002,
          -23.260425567626953,
          0.03134573623538017,
          -2.8527722358703613,
          -13.265496253967285,
          -10.360737800598145,
          -1.9323599338531494,
          -17.903175354003906,
          -1.9885289669036865,
          5.559784889221191,
          1.9072283506393433,
          -0.4392493665218353,
          7.226826190948486,
          4.601536750793457,
          -2.968783140182495,
          -2.991608142852783,
          4.22593879699707,
          4.081301212310791,
          -6.040816307067871,
          11.854541778564453,
          -12.381235122680664,
          0.7537329792976379,
          -22.295026779174805,
          0.040255121886730194,
          -8.500362396240234,
          11.301252365112305,
          -16.596826553344727,
          -18.86227798461914,
          11.012460708618164,
          -1.745686411857605,
          -9.495109558105469,
          -13.448908805847168,
          -6.6156415939331055,
          -14.48034381866455,
          -3.251107931137085,
          -0.6775797605514526,
          1.5712708234786987,
          -1.793235421180725,
          9.012282371520996,
          1.3865530490875244,
          2.1111719608306885,
          1.0763472318649292,
          -1.5458803176879883,
          -2.8275372982025146,
          1.69813072681427,
          0.018200181424617767,
          1.2382146120071411,
          -2.8903675079345703,
          3.1172444820404053,
          3.493931531906128,
          -5.93719482421875,
          10.022268295288086,
          -2.3213417530059814,
          0.6552454829216003,
          1.2362607717514038,
          -4.4632415771484375,
          7.761714935302734,
          4.520992279052734,
          -1.1698474884033203,
          -1.4331148862838745,
          5.6057305335998535,
          0.024899788200855255,
          6.80963659286499,
          4.110476970672607,
          -1.1993882656097412,
          -0.5101027488708496,
          1.3748103380203247,
          -1.1843185424804688,
          -3.2113263607025146,
          10.009504318237305,
          8.508660316467285,
          1.682117223739624,
          -2.5231027603149414,
          -0.7160336971282959,
          3.5720574855804443,
          2.042104959487915,
          -4.350718975067139,
          4.189610481262207,
          -0.022848324850201607,
          -4.572358131408691,
          1.2173972129821777,
          -7.760431289672852,
          -4.569417476654053,
          0.32001572847366333,
          0.9644690155982971,
          3.5554723739624023,
          8.94908618927002,
          -4.628236293792725,
          2.741722345352173,
          3.3336403369903564,
          -0.10444026440382004,
          2.5323524475097656,
          3.335850238800049,
          -7.710665225982666,
          7.224269390106201,
          5.239838123321533,
          3.817617416381836,
          4.457335948944092,
          -0.6773101687431335,
          5.698464393615723,
          9.601140022277832,
          1.5708686113357544,
          8.702712059020996,
          6.075929164886475,
          -8.458345413208008,
          -1.3558928966522217,
          -8.436418533325195,
          4.2191548347473145,
          5.446766376495361,
          -6.659805774688721,
          8.418867111206055,
          6.184210300445557,
          1.604580283164978,
          2.9205989837646484,
          4.303502082824707,
          8.612251281738281,
          8.060442924499512,
          5.2573676109313965,
          3.948204278945923,
          -2.1090524196624756,
          0.26107996702194214,
          -10.083816528320312,
          8.059846878051758,
          6.389850616455078,
          3.4404566287994385,
          8.84762954711914,
          6.584692001342773,
          -2.103726863861084,
          -5.433043479919434,
          5.920652389526367,
          9.687729835510254,
          -1.0329848527908325,
          4.413531303405762,
          6.771708011627197,
          -0.6030506491661072,
          12.582982063293457,
          7.507584095001221,
          -2.5764713287353516,
          -7.9625468254089355,
          -20.284927368164062,
          9.11658000946045,
          -2.1048970222473145,
          11.974754333496094,
          -3.971933126449585,
          -0.7945774793624878,
          8.378629684448242,
          5.257800102233887,
          -4.869777679443359,
          -2.225792169570923,
          -4.132599830627441,
          12.564545631408691,
          7.151276588439941,
          6.660223960876465,
          10.483890533447266,
          12.761265754699707,
          8.606184959411621,
          0.31380149722099304,
          -2.0805084705352783,
          11.988807678222656,
          12.397997856140137,
          9.403483390808105,
          -8.397725105285645,
          2.889657735824585,
          -14.050935745239258,
          9.039209365844727,
          12.295059204101562,
          -11.186141967773438,
          8.203396797180176,
          0.4627964198589325,
          -11.542600631713867,
          -5.937458038330078,
          9.297255516052246,
          -8.63168716430664,
          7.8167548179626465,
          7.451061248779297,
          -21.839130401611328,
          -8.795186996459961,
          -1.9445267915725708,
          10.477945327758789,
          -8.803199768066406,
          -10.382726669311523,
          -10.289992332458496,
          -0.4245833158493042,
          -1.1687664985656738,
          -2.265899181365967,
          -3.2917873859405518,
          0.9112612009048462,
          9.718700408935547,
          8.191447257995605,
          8.887402534484863,
          3.2753794193267822,
          -3.226482629776001,
          -0.25857892632484436,
          3.9696033000946045,
          7.256250381469727,
          4.666840076446533,
          8.796126365661621,
          12.46663761138916,
          12.111392974853516,
          5.972765922546387,
          8.445137977600098,
          8.684957504272461,
          -11.084522247314453,
          -0.8028261661529541,
          -3.7047641277313232,
          10.9557466506958,
          -2.950778007507324,
          -5.9583330154418945
         ],
         "z": [
          2.7881968021392822,
          -13.386903762817383,
          -7.730499267578125,
          0.3814474940299988,
          -4.3334503173828125,
          2.3973662853240967,
          -3.21286940574646,
          3.5731306076049805,
          5.6897969245910645,
          4.531996250152588,
          -1.8674675226211548,
          -9.353172302246094,
          -14.699344635009766,
          -11.25347900390625,
          -4.514715194702148,
          0.9476475119590759,
          -12.054064750671387,
          -13.446636199951172,
          -12.815366744995117,
          -10.45738410949707,
          -0.6762123107910156,
          -11.274259567260742,
          -6.894198894500732,
          5.605656623840332,
          1.66371750831604,
          -2.1877806186676025,
          -9.354726791381836,
          -13.010375022888184,
          -6.91403865814209,
          1.200898289680481,
          2.222987651824951,
          -6.061073303222656,
          -5.548731327056885,
          -4.1088433265686035,
          -7.926924228668213,
          -13.149206161499023,
          -15.164971351623535,
          6.373692512512207,
          -4.339062690734863,
          -6.520265579223633,
          7.20087194442749,
          -8.390411376953125,
          -1.6833661794662476,
          9.91688060760498,
          1.311147689819336,
          -14.750066757202148,
          -11.319653511047363,
          10.842164039611816,
          9.337897300720215,
          7.093831539154053,
          -3.638380289077759,
          -3.252890110015869,
          -6.197943210601807,
          -2.458862781524658,
          -9.237386703491211,
          -1.1800487041473389,
          -4.106890678405762,
          -4.069716930389404,
          -3.4862115383148193,
          -2.691687822341919,
          -0.2517278492450714,
          -1.0613179206848145,
          7.1226911544799805,
          1.354532241821289,
          -1.7234511375427246,
          7.552487850189209,
          -3.647988796234131,
          6.248326301574707,
          8.519908905029297,
          -1.9860992431640625,
          3.831207036972046,
          -8.151841163635254,
          -11.887611389160156,
          -5.176978588104248,
          3.5533063411712646,
          0.7215587496757507,
          -7.106506824493408,
          -13.641809463500977,
          -2.3386270999908447,
          -2.314107894897461,
          -12.8535737991333,
          -3.2165327072143555,
          -1.9272252321243286,
          0.08379612863063812,
          -9.400371551513672,
          -0.580521821975708,
          7.937706470489502,
          1.8721911907196045,
          -8.015518188476562,
          0.7600279450416565,
          -0.7315753102302551,
          -3.813577651977539,
          0.8337316513061523,
          1.0131254196166992,
          -5.387587070465088,
          5.754292964935303,
          -5.948487758636475,
          -5.898316383361816,
          10.675910949707031,
          6.572580337524414,
          0.31132879853248596,
          8.371513366699219,
          7.158790111541748,
          6.466917991638184,
          -8.226211547851562,
          1.4463781118392944,
          6.104995250701904,
          -4.707864761352539,
          -2.2748494148254395,
          6.4174370765686035,
          -1.4287062883377075,
          3.6225180625915527,
          -3.0456039905548096,
          -3.9093573093414307,
          5.833310127258301,
          4.553714275360107,
          1.7540431022644043,
          3.443912982940674,
          4.429422855377197,
          -13.796148300170898,
          -1.9711103439331055,
          -3.0499682426452637,
          4.877898216247559,
          5.061525821685791,
          -1.116708755493164,
          4.618743419647217,
          -6.036497116088867,
          -11.89688491821289,
          2.315654754638672,
          6.74384069442749,
          -6.076617240905762,
          6.380852222442627,
          -14.128737449645996,
          10.921411514282227,
          7.101110458374023,
          1.0500340461730957,
          7.556609153747559,
          6.310296535491943,
          1.1108938455581665,
          5.13391637802124,
          9.319087028503418,
          3.872051477432251,
          0.8832056522369385,
          6.102904319763184,
          -1.6942617893218994,
          -4.263111591339111,
          10.094437599182129,
          4.637775897979736,
          -0.39121076464653015,
          -3.3108456134796143,
          -2.9326791763305664,
          0.07585635036230087,
          -3.9576704502105713,
          -1.9058613777160645,
          0.9789751172065735,
          0.32719969749450684,
          -7.369081974029541,
          -14.809175491333008,
          -5.607928276062012,
          4.344123840332031,
          -7.171074390411377,
          -2.611532688140869,
          -13.44621467590332,
          5.610071182250977,
          3.0121657848358154,
          0.8657219409942627,
          -11.812164306640625,
          4.511927127838135,
          5.801475524902344,
          -2.703289747238159,
          1.7315096855163574,
          8.20910930633545,
          -11.614912986755371,
          -14.439539909362793,
          11.065665245056152,
          -4.250295639038086,
          -0.2576709985733032,
          -5.744424343109131,
          -1.3391013145446777,
          -13.592503547668457,
          -0.715828537940979,
          1.5540010929107666,
          -12.124446868896484,
          -4.101372718811035,
          -6.01511287689209,
          -4.129045486450195,
          -6.630132675170898,
          4.610215663909912,
          -6.6429762840271,
          1.8604615926742554,
          0.9136483669281006,
          -3.4136924743652344,
          -4.140432357788086,
          9.996797561645508,
          -13.76051139831543,
          -0.3547614812850952,
          6.149593830108643,
          -8.85385799407959,
          0.8500317335128784,
          -1.6550958156585693,
          -13.160855293273926,
          -5.175612449645996,
          -12.227139472961426,
          4.432069778442383,
          1.0390814542770386,
          3.1177635192871094,
          -13.291352272033691,
          -12.502251625061035,
          -11.88215160369873,
          -10.318123817443848,
          -0.4857308268547058,
          5.034361839294434,
          5.403105735778809,
          -2.707104444503784,
          -3.317443370819092,
          3.7498939037323,
          -7.231609344482422,
          -11.657156944274902,
          -12.795604705810547,
          -3.6836612224578857,
          -7.219665050506592,
          4.617676258087158,
          1.6817588806152344,
          4.4801554679870605,
          -8.287476539611816,
          -8.797036170959473,
          -8.26280403137207,
          -4.561582088470459,
          -2.4538989067077637,
          6.204249382019043,
          5.7452473640441895,
          -4.478100776672363,
          -11.026464462280273,
          0.9978235363960266,
          -2.366913080215454,
          0.8431809544563293,
          4.464529991149902,
          1.0166352987289429,
          7.914658546447754,
          6.894176006317139,
          1.6365858316421509,
          -9.786282539367676,
          -6.806350231170654,
          -0.5470911264419556,
          -9.772536277770996,
          5.938924312591553,
          -6.0285162925720215,
          0.995841920375824,
          6.164973735809326,
          -2.408623456954956,
          -13.926826477050781,
          -5.943565368652344,
          -1.4352835416793823,
          -3.6881158351898193,
          -12.17356014251709,
          -1.2871191501617432,
          -5.44826078414917,
          2.8398118019104004,
          -3.288835287094116,
          -3.1872024536132812,
          -3.404353141784668,
          3.8626275062561035,
          -4.447179317474365,
          -0.613720715045929,
          1.7379497289657593,
          -14.159512519836426,
          -1.2989652156829834,
          -2.091473340988159,
          -0.3988231122493744,
          4.829897880554199,
          3.534219264984131,
          5.892811298370361,
          5.789638996124268,
          4.559613227844238,
          4.662712574005127,
          4.695337295532227,
          3.0410938262939453,
          6.055522441864014,
          6.240787982940674,
          -12.173175811767578,
          -9.739019393920898,
          1.968794345855713,
          -1.1289077997207642,
          -9.372200012207031,
          -1.6820671558380127,
          4.327016353607178,
          5.119275093078613,
          -5.808608055114746,
          -5.8975300788879395,
          -5.401167869567871,
          7.307100296020508,
          4.605148792266846,
          3.54179310798645,
          1.835985541343689,
          -8.589471817016602,
          5.581629753112793,
          5.855626583099365,
          4.481621265411377,
          -4.66145133972168,
          -1.4427094459533691,
          3.740678310394287,
          -7.6168060302734375,
          -0.35902661085128784,
          0.09187129139900208,
          7.535358905792236,
          6.533106803894043,
          3.424717664718628,
          -8.743507385253906,
          -0.7858972549438477,
          -7.8206071853637695,
          2.30361008644104,
          10.97747802734375,
          6.686017036437988,
          1.5132731199264526,
          -12.834186553955078,
          1.8918448686599731,
          2.1397016048431396,
          -13.492889404296875,
          4.179359436035156,
          -0.887868344783783,
          8.622325897216797,
          -0.11429835855960846,
          0.1142587959766388,
          8.22562313079834,
          -7.368431568145752,
          -5.768677711486816,
          0.48070013523101807,
          9.113202095031738,
          7.162595748901367,
          7.67440128326416,
          0.634381115436554,
          9.777194023132324,
          6.054543495178223,
          8.239679336547852,
          11.049416542053223,
          -4.233251571655273,
          3.9125542640686035,
          0.12059859186410904,
          -0.3863244652748108,
          11.257525444030762,
          -3.390333414077759,
          1.0105270147323608,
          -9.702260971069336,
          -9.07903003692627,
          0.08761969208717346,
          -3.9773976802825928,
          4.952180862426758,
          -0.9013494253158569,
          7.054886817932129,
          -13.792153358459473,
          -1.2504171133041382,
          2.1761727333068848,
          -13.449285507202148,
          6.978491306304932,
          4.951060771942139,
          6.34705114364624,
          0.061207640916109085,
          -0.6097056269645691,
          2.590196371078491,
          -4.749436378479004,
          -6.798369884490967,
          5.6714067459106445,
          4.925140857696533,
          7.773708343505859,
          2.130505084991455,
          -4.33144474029541,
          3.8513126373291016,
          10.501419067382812,
          -8.301615715026855,
          -3.8184375762939453,
          -7.993844985961914,
          -4.7228569984436035,
          1.959526538848877,
          -10.176790237426758,
          11.146108627319336,
          -8.437578201293945,
          -12.647968292236328,
          -4.425650596618652,
          0.11959764361381531,
          3.9971940517425537,
          0.9971855282783508,
          6.6309285163879395,
          5.055243968963623,
          -4.272143840789795,
          7.518999099731445,
          1.370609164237976,
          -3.5227181911468506,
          -3.552964687347412,
          9.847872734069824,
          1.21381413936615,
          -0.06681772321462631,
          4.4372076988220215,
          2.848681688308716,
          5.24681282043457,
          4.47109842300415,
          -6.352830410003662,
          1.6913325786590576,
          1.8935115337371826,
          -4.530162334442139,
          -11.960249900817871,
          -5.423734188079834,
          -8.776542663574219,
          4.5165228843688965,
          3.621954917907715,
          6.929560661315918,
          4.456243515014648,
          -4.022137641906738,
          6.26265811920166,
          -7.268259525299072,
          -1.737653136253357,
          4.8440117835998535,
          5.139682769775391,
          -2.210721969604492,
          -7.7055182456970215,
          0.3528078496456146,
          8.325544357299805,
          0.5304766297340393,
          -0.7383831739425659,
          3.773084878921509,
          -0.057968854904174805,
          -2.9605026245117188,
          -8.636598587036133,
          -12.993844985961914,
          -9.656935691833496,
          -1.0552258491516113,
          -4.003765106201172,
          5.324037075042725,
          6.453994274139404,
          1.7220669984817505,
          5.639461040496826,
          -4.929074764251709,
          9.385811805725098,
          3.063735008239746,
          2.276939630508423,
          9.943753242492676,
          -6.734005928039551,
          -8.092609405517578,
          -0.7364135980606079,
          10.885581016540527,
          1.3027721643447876,
          -0.5773312449455261,
          1.4960728883743286,
          10.887528419494629,
          7.660491943359375,
          0.5185765624046326,
          4.297617435455322,
          -1.09401273727417,
          8.660263061523438,
          -4.131032466888428,
          -2.395127058029175,
          0.8491277694702148,
          -1.2651610374450684,
          5.817627429962158,
          -7.084589004516602,
          2.9880990982055664,
          -8.914634704589844,
          -8.03134822845459,
          -1.887335181236267,
          -3.508638381958008,
          5.453835964202881,
          4.231505870819092,
          5.878477096557617,
          8.033920288085938,
          -2.552001476287842,
          2.345031976699829,
          -0.446657657623291,
          5.233628749847412,
          1.5335479974746704,
          -4.0498857498168945,
          8.462348937988281,
          1.7314342260360718,
          -2.953425407409668,
          3.1162075996398926,
          4.345414161682129,
          -7.681532382965088,
          2.250802755355835,
          7.314856052398682,
          6.469551086425781,
          4.708845615386963,
          9.083023071289062,
          9.99577808380127,
          1.2381829023361206,
          4.430189609527588,
          2.3296332359313965,
          8.744107246398926,
          -1.287812352180481,
          6.974985599517822,
          -11.616592407226562,
          0.14530381560325623,
          -11.56318473815918,
          7.760959148406982,
          9.80867862701416,
          4.616032123565674,
          -13.047696113586426,
          -0.31147149205207825,
          -2.394503593444824,
          4.571873188018799,
          6.754308223724365,
          6.041181564331055,
          -4.137037754058838,
          9.3560791015625,
          7.085113525390625,
          -3.4713239669799805,
          9.47381591796875,
          -0.7609598636627197,
          0.11519107967615128,
          -1.1163660287857056,
          -14.806199073791504,
          5.256847858428955,
          6.006349563598633,
          -12.901260375976562,
          2.0094153881073,
          -10.5396089553833,
          4.866761207580566,
          5.609106540679932,
          6.074701309204102,
          -4.254771709442139,
          -2.3018956184387207,
          -8.601118087768555,
          3.8169021606445312,
          2.8626868724823,
          8.170513153076172,
          1.6838167905807495,
          -12.303656578063965,
          8.277623176574707,
          -6.216668128967285,
          -4.963190078735352,
          -14.231372833251953,
          8.32071590423584,
          0.5049782991409302,
          4.724647521972656,
          -8.818367958068848,
          9.896344184875488,
          -0.7381831407546997,
          -11.347476959228516,
          -4.378086566925049,
          1.1529077291488647,
          -5.53267765045166,
          -6.175696849822998,
          7.637362480163574,
          6.399653434753418,
          -4.378080368041992,
          -5.930379390716553,
          8.389592170715332,
          -0.8814292550086975,
          -0.42762139439582825,
          8.117109298706055,
          -0.9194226861000061,
          -1.774031400680542,
          10.887887954711914,
          -3.6811363697052,
          -5.919452667236328,
          -12.06563949584961,
          0.16648750007152557,
          7.402331829071045,
          -2.2725682258605957,
          9.047401428222656,
          -3.849050283432007,
          -3.0113816261291504,
          -3.3123891353607178,
          9.103293418884277,
          -4.037665843963623,
          -4.312188625335693,
          -0.6771778464317322,
          4.967244625091553,
          -2.9873762130737305,
          7.930570125579834,
          3.7764487266540527,
          5.617609977722168,
          4.5902099609375,
          -7.617669582366943,
          -1.4848459959030151,
          1.5936859846115112,
          2.5751078128814697,
          -3.717149257659912,
          -0.4424092769622803,
          8.841915130615234,
          6.954328536987305,
          9.738486289978027,
          -1.8522909879684448,
          1.4986636638641357,
          -0.1761263906955719,
          8.740320205688477,
          2.3808703422546387,
          2.4233486652374268,
          -7.405089855194092,
          -0.5488318204879761,
          0.5952238440513611,
          -9.69949722290039,
          3.3547523021698,
          -2.420652151107788,
          -3.752573013305664,
          -1.6187468767166138,
          10.861980438232422,
          0.6054458618164062,
          5.28758430480957,
          4.502934455871582,
          5.562619209289551,
          -13.526655197143555,
          -6.763421535491943,
          4.90709924697876,
          2.6430585384368896,
          -10.174437522888184,
          -8.003689765930176,
          -10.388776779174805,
          3.2978458404541016,
          -15.062021255493164,
          8.403396606445312,
          -11.777650833129883,
          4.628391742706299,
          -2.0703916549682617,
          -1.434446096420288,
          1.1593111753463745,
          -1.3605868816375732,
          -7.874947547912598,
          7.494664192199707,
          5.375969886779785,
          1.1091196537017822,
          0.8361443877220154,
          6.763552665710449,
          -1.1119059324264526,
          10.201217651367188,
          6.4198713302612305,
          -7.8756537437438965,
          -8.392340660095215,
          -0.8502897024154663,
          -5.741019248962402,
          1.047084093093872,
          10.415844917297363,
          9.170536994934082,
          1.0788097381591797,
          -1.5402867794036865,
          1.8803043365478516,
          6.760346412658691,
          8.929301261901855,
          5.692829132080078,
          6.56809139251709,
          0.9973654747009277,
          6.778090000152588,
          7.027041912078857,
          0.7817506790161133,
          -0.43251916766166687,
          5.914745330810547,
          6.036921977996826,
          -4.401580810546875,
          -2.5011229515075684,
          -1.7692158222198486,
          -3.9236955642700195,
          -3.8513145446777344,
          1.433674693107605,
          -0.3968797028064728,
          -4.182989120483398,
          6.2016425132751465,
          -1.7967090606689453,
          4.444889545440674,
          -6.008133888244629,
          7.3017191886901855,
          4.522240161895752,
          -7.8543782234191895,
          0.08605029433965683,
          -11.980791091918945,
          -15.023175239562988,
          4.575693607330322,
          9.703588485717773,
          1.3545196056365967,
          -4.069730758666992,
          1.1885178089141846,
          1.349611759185791,
          6.4538140296936035,
          -4.185853958129883,
          -4.077957630157471,
          1.3395915031433105,
          -4.8974833488464355,
          -10.445540428161621,
          -10.187294006347656,
          2.9692420959472656,
          0.30707108974456787,
          -8.971951484680176,
          4.455554008483887,
          3.8042359352111816,
          0.7161954045295715,
          1.7183642387390137,
          1.9350732564926147,
          -0.5556975603103638,
          -7.905357360839844,
          3.1292059421539307,
          -4.292185306549072,
          0.4036951959133148,
          -9.773371696472168,
          -12.006905555725098,
          6.2207183837890625,
          -5.335659027099609,
          9.59174633026123,
          -7.872997760772705,
          -9.786420822143555,
          -4.418797492980957,
          3.847942590713501,
          11.00014877319336,
          7.396326065063477,
          -9.661666870117188,
          1.327414631843567,
          -0.8100140690803528,
          -4.286077499389648,
          -1.8424464464187622,
          -10.62238597869873,
          6.079564571380615,
          2.8519723415374756,
          2.116946220397949,
          5.949929714202881,
          -5.9880876541137695,
          0.4186050593852997,
          6.169306755065918,
          -8.619990348815918,
          4.67185115814209,
          -7.726741313934326,
          8.211766242980957,
          -4.2874860763549805,
          3.4566123485565186,
          7.293973445892334,
          10.4847993850708,
          3.124948263168335,
          7.906655788421631,
          4.9403300285339355,
          -5.443978786468506,
          -7.8121490478515625,
          -14.5265474319458,
          -10.445343971252441,
          -2.1375386714935303,
          -9.913278579711914,
          5.850058555603027,
          -8.894089698791504,
          -6.197693347930908,
          -5.137845993041992,
          -11.382223129272461,
          -10.18860149383545,
          4.202948570251465,
          -6.081395626068115,
          -11.914713859558105,
          2.5867271423339844,
          -6.474315643310547,
          -13.402752876281738,
          5.586492538452148,
          -1.0554977655410767,
          -4.918069839477539,
          1.6563096046447754,
          2.630399227142334,
          -12.299429893493652,
          -2.8717048168182373,
          2.306095838546753,
          4.296142578125,
          4.435767650604248,
          -12.93544864654541,
          -11.174233436584473,
          -6.752317428588867,
          4.257780075073242,
          -3.3351259231567383,
          8.201014518737793,
          3.2184605598449707,
          -11.575045585632324,
          -8.509293556213379,
          1.8823697566986084,
          -3.6469035148620605,
          2.5728392601013184,
          -7.124579429626465,
          -4.247825622558594,
          4.507017612457275,
          5.580723762512207,
          -5.106049060821533,
          -9.054040908813477,
          1.7235296964645386,
          -10.103116989135742,
          6.562628269195557,
          10.335005760192871,
          2.4659337997436523,
          4.792369365692139,
          -9.691497802734375,
          -5.848918914794922,
          -13.779862403869629,
          0.16697268187999725,
          -1.8063613176345825,
          0.8036625385284424,
          -7.765664577484131,
          -9.419111251831055,
          7.993964195251465,
          7.600257873535156,
          -5.931753635406494,
          -0.5554951429367065,
          -11.425880432128906,
          5.486606121063232,
          0.8363985419273376,
          -14.522649765014648,
          2.366582155227661,
          0.3540346026420593,
          1.6200882196426392,
          -2.9329781532287598,
          -13.2949857711792,
          9.276188850402832,
          -5.961533546447754,
          -0.8644217848777771,
          9.58258056640625,
          -7.904624938964844,
          -7.7197465896606445,
          -11.95095157623291,
          9.696039199829102,
          -3.108983278274536,
          -0.1347646862268448,
          8.091263771057129,
          10.449593544006348,
          6.628039360046387,
          -4.233558177947998,
          2.8253612518310547,
          0.5740537643432617,
          -0.7577211260795593,
          -1.4356721639633179,
          -14.61623764038086,
          0.6541565656661987,
          -1.9246026277542114,
          6.297558784484863,
          2.9298105239868164,
          4.957086086273193,
          -7.516531467437744,
          -9.732102394104004,
          -4.452346324920654,
          -7.1754984855651855,
          1.6431763172149658,
          1.7088570594787598,
          -10.075822830200195,
          -7.912994861602783,
          2.39190936088562,
          9.324090003967285,
          7.6173624992370605,
          0.32087692618370056,
          10.78342342376709,
          9.670780181884766,
          -1.399317979812622,
          2.2291088104248047,
          4.168301105499268,
          4.55305814743042,
          1.6348785161972046,
          1.3686769008636475,
          1.991046667098999,
          0.9391339421272278,
          -0.6450655460357666,
          1.328315019607544,
          -4.25103759765625,
          8.520378112792969,
          9.242616653442383,
          -1.4936821460723877,
          0.02933606505393982,
          -7.8801727294921875,
          0.8049607872962952,
          10.754396438598633,
          10.673054695129395,
          0.6650261282920837,
          -0.33620384335517883,
          10.769095420837402,
          0.3338596820831299,
          7.572690963745117,
          -1.6160917282104492,
          1.2721703052520752,
          -1.9919946193695068,
          0.736332356929779,
          6.030185699462891,
          6.396566867828369,
          5.887024402618408,
          -0.6982302069664001,
          4.503495693206787,
          -12.095337867736816,
          0.41739174723625183,
          -4.719673156738281,
          -2.574009418487549,
          7.083451747894287,
          6.589537143707275,
          -9.947142601013184,
          2.6812124252319336,
          4.389142990112305,
          -1.7663277387619019,
          7.1447834968566895,
          -6.079589366912842,
          -0.38590681552886963,
          6.873769283294678,
          6.6607818603515625,
          11.115334510803223,
          6.860767364501953,
          8.093179702758789,
          -0.73255455493927,
          8.20428466796875,
          -4.377852439880371,
          10.28892707824707,
          4.631136894226074,
          0.4094010293483734,
          8.03377628326416,
          -1.4297696352005005,
          -1.3114852905273438,
          -0.371690034866333,
          0.6684252619743347,
          3.0480756759643555,
          0.21911592781543732,
          4.524669170379639,
          -2.1862878799438477,
          -8.2655029296875,
          7.4819111824035645,
          5.540101051330566,
          -5.350860595703125,
          7.896212577819824,
          1.1904767751693726,
          8.076089859008789,
          0.3425590395927429,
          5.635341644287109,
          0.20101678371429443,
          4.912292957305908,
          5.360564231872559,
          1.5501110553741455,
          -2.0499937534332275,
          4.985748767852783,
          -14.96035385131836,
          1.781111240386963,
          -14.606475830078125,
          -10.798632621765137,
          -7.587418079376221,
          1.792635440826416,
          8.85315227508545,
          5.255964756011963,
          1.3769806623458862,
          6.189697742462158,
          -2.8513741493225098,
          10.170494079589844,
          4.989947319030762,
          2.026660919189453,
          -6.024892807006836,
          -2.857013702392578,
          8.643159866333008,
          1.7160513401031494,
          9.614535331726074,
          9.672978401184082,
          -2.8984549045562744,
          -3.6888816356658936,
          -3.692993402481079,
          4.681293964385986,
          1.778967261314392,
          5.624229907989502,
          1.627996802330017,
          0.24068893492221832,
          7.030953884124756,
          -0.5144035816192627,
          1.599560022354126,
          2.930579423904419,
          -1.2161592245101929,
          10.734724998474121,
          2.4038174152374268,
          7.994064807891846,
          -3.1885781288146973,
          -3.5161685943603516,
          -4.320472717285156,
          1.6051766872406006,
          3.6047728061676025,
          -0.2478361576795578,
          -1.7667237520217896,
          7.380977153778076,
          1.4516521692276,
          11.167789459228516,
          4.719046115875244,
          7.042357921600342,
          2.2549540996551514,
          1.2230653762817383,
          -2.9059126377105713,
          -4.662486553192139,
          -3.4084548950195312,
          -1.501141905784607,
          -1.6451928615570068,
          -4.231112480163574,
          5.468011856079102,
          -8.881575584411621,
          -3.015796661376953,
          -10.657142639160156,
          -10.254318237304688,
          -13.731890678405762,
          -0.33722615242004395,
          1.6047749519348145,
          -8.284683227539062,
          -7.353663444519043,
          -8.720442771911621,
          5.091904640197754,
          -4.091783046722412,
          1.935075044631958,
          3.422574043273926,
          6.234664440155029,
          8.357996940612793,
          10.211954116821289,
          1.609880805015564,
          -7.0684661865234375,
          -9.663532257080078,
          -6.6598639488220215,
          -1.8541300296783447,
          -0.6305537223815918,
          6.473654747009277,
          8.971529960632324,
          7.630706310272217,
          7.607616424560547,
          -3.0393459796905518,
          5.719575881958008,
          -11.115406036376953,
          8.71435832977295,
          7.963080883026123,
          8.725648880004883,
          1.4612497091293335,
          10.036262512207031,
          7.564995288848877,
          -1.6211674213409424,
          -0.8198411464691162,
          -2.2402641773223877,
          -2.662550926208496,
          -2.124373435974121,
          -2.8749992847442627,
          -7.528179168701172,
          -14.349815368652344,
          -6.175286769866943,
          -4.2382612228393555,
          2.673985719680786,
          4.448065280914307,
          5.706236839294434,
          4.626658916473389,
          -0.3945654034614563,
          -0.6101789474487305,
          1.1365402936935425,
          -10.131362915039062,
          0.9399166107177734,
          4.132798671722412,
          1.3638765811920166,
          7.713980674743652,
          -3.907064914703369,
          -2.274843692779541,
          3.8404996395111084,
          10.059541702270508,
          -3.2634360790252686,
          -4.334856033325195,
          1.2369780540466309,
          -4.405218601226807,
          7.33274507522583,
          -12.602239608764648,
          -2.8863704204559326,
          -9.843365669250488,
          -4.254057884216309,
          -9.663518905639648,
          -2.1652657985687256,
          -4.984799861907959,
          -14.648263931274414,
          -14.709527015686035,
          -5.197053909301758,
          -3.8838932514190674,
          -7.6382222175598145,
          2.9890787601470947,
          -7.558873176574707,
          -7.600154399871826,
          1.5678187608718872,
          -4.625314235687256,
          6.738494873046875,
          -11.83957576751709,
          -9.075071334838867,
          1.5765799283981323,
          -0.7594247460365295,
          -6.86238431930542,
          -11.490458488464355,
          -12.380119323730469,
          -2.8622002601623535,
          -6.900807857513428,
          -7.504069805145264,
          -3.5789387226104736,
          -11.909270286560059,
          -12.669811248779297,
          -8.88455581665039,
          -9.712115287780762,
          3.002021312713623,
          -0.8269652724266052,
          -2.201580286026001,
          -11.238875389099121,
          6.12031364440918,
          -2.894867420196533,
          -6.802526473999023,
          -11.323420524597168,
          1.8372859954833984,
          -10.696239471435547,
          -10.63039493560791,
          -13.44842529296875,
          -2.285615921020508,
          1.9355119466781616,
          1.4770277738571167,
          5.8913421630859375,
          -11.15764331817627,
          -6.0960693359375,
          -6.061803817749023,
          5.373419284820557,
          -13.506925582885742,
          4.406810760498047,
          -10.153007507324219,
          5.443244457244873,
          4.389465808868408,
          1.8486673831939697,
          -5.988663673400879,
          -6.236135482788086,
          -9.228371620178223,
          -1.428586721420288,
          -10.569445610046387,
          -2.564732313156128,
          -5.655710697174072,
          -7.69086217880249,
          0.37749168276786804,
          7.336729526519775,
          1.9813834428787231,
          -2.722431182861328,
          1.9781326055526733,
          4.694431304931641,
          -3.9529759883880615,
          1.500375747680664,
          -2.317472219467163,
          -10.896344184875488,
          -6.119614601135254,
          -12.289328575134277,
          4.822710990905762,
          -2.0724782943725586,
          -0.3364209532737732,
          -12.087883949279785,
          2.418027877807617,
          4.580081462860107,
          -10.096441268920898,
          1.4618747234344482,
          10.166207313537598,
          7.562859535217285,
          -13.120384216308594,
          -8.024837493896484,
          7.802664756774902,
          2.254854917526245,
          2.3122916221618652,
          -2.6229403018951416,
          6.390392303466797,
          10.670190811157227,
          -0.4216792583465576,
          8.525076866149902,
          8.901649475097656,
          -6.0401740074157715,
          9.596390724182129,
          7.7750139236450195,
          1.688411831855774,
          -1.1768258810043335,
          2.936973810195923,
          0.5727234482765198,
          -4.008516311645508,
          6.770578861236572,
          3.2083394527435303,
          1.4897894859313965,
          -6.411045074462891,
          1.4242396354675293,
          10.08344841003418,
          7.847252368927002,
          1.2108604907989502,
          -11.30915641784668,
          0.027444804087281227,
          1.9907983541488647,
          1.7839640378952026,
          10.667963027954102,
          -1.7853000164031982,
          9.219884872436523,
          -0.3740173280239105,
          0.2224862277507782,
          -0.971412718296051,
          -1.9413461685180664,
          0.8449692726135254,
          -4.318150997161865,
          -0.8922895789146423,
          0.514567494392395,
          -2.241338014602661,
          -8.646809577941895,
          8.733146667480469,
          -3.6954634189605713,
          0.9442813992500305,
          11.070697784423828,
          -0.5607398748397827,
          9.909234046936035,
          4.622226715087891,
          0.24548302590847015,
          -1.2753875255584717,
          9.865409851074219,
          1.9411498308181763,
          -2.8319664001464844,
          -0.8087714314460754,
          -0.8532710075378418,
          -0.3753306567668915,
          2.920321226119995,
          5.700925350189209,
          3.589053153991699,
          0.6395840048789978,
          -1.7592960596084595,
          -0.17456796765327454,
          -2.010824680328369,
          -6.174965858459473,
          2.94541072845459,
          7.651764392852783,
          6.758216857910156,
          -9.886353492736816,
          -7.937438011169434,
          1.751425862312317,
          1.0414669513702393,
          -7.114834308624268,
          -8.553275108337402,
          5.401342391967773,
          10.423078536987305,
          -0.2684105336666107,
          1.3688265085220337,
          6.00899076461792,
          3.532543897628784,
          5.8090338706970215,
          -0.36841464042663574
         ]
        }
       ],
       "layout": {
        "coloraxis": {
         "colorbar": {
          "title": {
           "text": "Anomaly"
          }
         },
         "colorscale": [
          [
           0,
           "#0d0887"
          ],
          [
           0.1111111111111111,
           "#46039f"
          ],
          [
           0.2222222222222222,
           "#7201a8"
          ],
          [
           0.3333333333333333,
           "#9c179e"
          ],
          [
           0.4444444444444444,
           "#bd3786"
          ],
          [
           0.5555555555555556,
           "#d8576b"
          ],
          [
           0.6666666666666666,
           "#ed7953"
          ],
          [
           0.7777777777777778,
           "#fb9f3a"
          ],
          [
           0.8888888888888888,
           "#fdca26"
          ],
          [
           1,
           "#f0f921"
          ]
         ]
        },
        "height": 800,
        "legend": {
         "tracegroupgap": 0
        },
        "scene": {
         "domain": {
          "x": [
           0,
           1
          ],
          "y": [
           0,
           1
          ]
         },
         "xaxis": {
          "title": {
           "text": "0"
          }
         },
         "yaxis": {
          "title": {
           "text": "1"
          }
         },
         "zaxis": {
          "title": {
           "text": "2"
          }
         }
        },
        "template": {
         "data": {
          "bar": [
           {
            "error_x": {
             "color": "#2a3f5f"
            },
            "error_y": {
             "color": "#2a3f5f"
            },
            "marker": {
             "line": {
              "color": "#E5ECF6",
              "width": 0.5
             },
             "pattern": {
              "fillmode": "overlay",
              "size": 10,
              "solidity": 0.2
             }
            },
            "type": "bar"
           }
          ],
          "barpolar": [
           {
            "marker": {
             "line": {
              "color": "#E5ECF6",
              "width": 0.5
             },
             "pattern": {
              "fillmode": "overlay",
              "size": 10,
              "solidity": 0.2
             }
            },
            "type": "barpolar"
           }
          ],
          "carpet": [
           {
            "aaxis": {
             "endlinecolor": "#2a3f5f",
             "gridcolor": "white",
             "linecolor": "white",
             "minorgridcolor": "white",
             "startlinecolor": "#2a3f5f"
            },
            "baxis": {
             "endlinecolor": "#2a3f5f",
             "gridcolor": "white",
             "linecolor": "white",
             "minorgridcolor": "white",
             "startlinecolor": "#2a3f5f"
            },
            "type": "carpet"
           }
          ],
          "choropleth": [
           {
            "colorbar": {
             "outlinewidth": 0,
             "ticks": ""
            },
            "type": "choropleth"
           }
          ],
          "contour": [
           {
            "colorbar": {
             "outlinewidth": 0,
             "ticks": ""
            },
            "colorscale": [
             [
              0,
              "#0d0887"
             ],
             [
              0.1111111111111111,
              "#46039f"
             ],
             [
              0.2222222222222222,
              "#7201a8"
             ],
             [
              0.3333333333333333,
              "#9c179e"
             ],
             [
              0.4444444444444444,
              "#bd3786"
             ],
             [
              0.5555555555555556,
              "#d8576b"
             ],
             [
              0.6666666666666666,
              "#ed7953"
             ],
             [
              0.7777777777777778,
              "#fb9f3a"
             ],
             [
              0.8888888888888888,
              "#fdca26"
             ],
             [
              1,
              "#f0f921"
             ]
            ],
            "type": "contour"
           }
          ],
          "contourcarpet": [
           {
            "colorbar": {
             "outlinewidth": 0,
             "ticks": ""
            },
            "type": "contourcarpet"
           }
          ],
          "heatmap": [
           {
            "colorbar": {
             "outlinewidth": 0,
             "ticks": ""
            },
            "colorscale": [
             [
              0,
              "#0d0887"
             ],
             [
              0.1111111111111111,
              "#46039f"
             ],
             [
              0.2222222222222222,
              "#7201a8"
             ],
             [
              0.3333333333333333,
              "#9c179e"
             ],
             [
              0.4444444444444444,
              "#bd3786"
             ],
             [
              0.5555555555555556,
              "#d8576b"
             ],
             [
              0.6666666666666666,
              "#ed7953"
             ],
             [
              0.7777777777777778,
              "#fb9f3a"
             ],
             [
              0.8888888888888888,
              "#fdca26"
             ],
             [
              1,
              "#f0f921"
             ]
            ],
            "type": "heatmap"
           }
          ],
          "heatmapgl": [
           {
            "colorbar": {
             "outlinewidth": 0,
             "ticks": ""
            },
            "colorscale": [
             [
              0,
              "#0d0887"
             ],
             [
              0.1111111111111111,
              "#46039f"
             ],
             [
              0.2222222222222222,
              "#7201a8"
             ],
             [
              0.3333333333333333,
              "#9c179e"
             ],
             [
              0.4444444444444444,
              "#bd3786"
             ],
             [
              0.5555555555555556,
              "#d8576b"
             ],
             [
              0.6666666666666666,
              "#ed7953"
             ],
             [
              0.7777777777777778,
              "#fb9f3a"
             ],
             [
              0.8888888888888888,
              "#fdca26"
             ],
             [
              1,
              "#f0f921"
             ]
            ],
            "type": "heatmapgl"
           }
          ],
          "histogram": [
           {
            "marker": {
             "pattern": {
              "fillmode": "overlay",
              "size": 10,
              "solidity": 0.2
             }
            },
            "type": "histogram"
           }
          ],
          "histogram2d": [
           {
            "colorbar": {
             "outlinewidth": 0,
             "ticks": ""
            },
            "colorscale": [
             [
              0,
              "#0d0887"
             ],
             [
              0.1111111111111111,
              "#46039f"
             ],
             [
              0.2222222222222222,
              "#7201a8"
             ],
             [
              0.3333333333333333,
              "#9c179e"
             ],
             [
              0.4444444444444444,
              "#bd3786"
             ],
             [
              0.5555555555555556,
              "#d8576b"
             ],
             [
              0.6666666666666666,
              "#ed7953"
             ],
             [
              0.7777777777777778,
              "#fb9f3a"
             ],
             [
              0.8888888888888888,
              "#fdca26"
             ],
             [
              1,
              "#f0f921"
             ]
            ],
            "type": "histogram2d"
           }
          ],
          "histogram2dcontour": [
           {
            "colorbar": {
             "outlinewidth": 0,
             "ticks": ""
            },
            "colorscale": [
             [
              0,
              "#0d0887"
             ],
             [
              0.1111111111111111,
              "#46039f"
             ],
             [
              0.2222222222222222,
              "#7201a8"
             ],
             [
              0.3333333333333333,
              "#9c179e"
             ],
             [
              0.4444444444444444,
              "#bd3786"
             ],
             [
              0.5555555555555556,
              "#d8576b"
             ],
             [
              0.6666666666666666,
              "#ed7953"
             ],
             [
              0.7777777777777778,
              "#fb9f3a"
             ],
             [
              0.8888888888888888,
              "#fdca26"
             ],
             [
              1,
              "#f0f921"
             ]
            ],
            "type": "histogram2dcontour"
           }
          ],
          "mesh3d": [
           {
            "colorbar": {
             "outlinewidth": 0,
             "ticks": ""
            },
            "type": "mesh3d"
           }
          ],
          "parcoords": [
           {
            "line": {
             "colorbar": {
              "outlinewidth": 0,
              "ticks": ""
             }
            },
            "type": "parcoords"
           }
          ],
          "pie": [
           {
            "automargin": true,
            "type": "pie"
           }
          ],
          "scatter": [
           {
            "fillpattern": {
             "fillmode": "overlay",
             "size": 10,
             "solidity": 0.2
            },
            "type": "scatter"
           }
          ],
          "scatter3d": [
           {
            "line": {
             "colorbar": {
              "outlinewidth": 0,
              "ticks": ""
             }
            },
            "marker": {
             "colorbar": {
              "outlinewidth": 0,
              "ticks": ""
             }
            },
            "type": "scatter3d"
           }
          ],
          "scattercarpet": [
           {
            "marker": {
             "colorbar": {
              "outlinewidth": 0,
              "ticks": ""
             }
            },
            "type": "scattercarpet"
           }
          ],
          "scattergeo": [
           {
            "marker": {
             "colorbar": {
              "outlinewidth": 0,
              "ticks": ""
             }
            },
            "type": "scattergeo"
           }
          ],
          "scattergl": [
           {
            "marker": {
             "colorbar": {
              "outlinewidth": 0,
              "ticks": ""
             }
            },
            "type": "scattergl"
           }
          ],
          "scattermapbox": [
           {
            "marker": {
             "colorbar": {
              "outlinewidth": 0,
              "ticks": ""
             }
            },
            "type": "scattermapbox"
           }
          ],
          "scatterpolar": [
           {
            "marker": {
             "colorbar": {
              "outlinewidth": 0,
              "ticks": ""
             }
            },
            "type": "scatterpolar"
           }
          ],
          "scatterpolargl": [
           {
            "marker": {
             "colorbar": {
              "outlinewidth": 0,
              "ticks": ""
             }
            },
            "type": "scatterpolargl"
           }
          ],
          "scatterternary": [
           {
            "marker": {
             "colorbar": {
              "outlinewidth": 0,
              "ticks": ""
             }
            },
            "type": "scatterternary"
           }
          ],
          "surface": [
           {
            "colorbar": {
             "outlinewidth": 0,
             "ticks": ""
            },
            "colorscale": [
             [
              0,
              "#0d0887"
             ],
             [
              0.1111111111111111,
              "#46039f"
             ],
             [
              0.2222222222222222,
              "#7201a8"
             ],
             [
              0.3333333333333333,
              "#9c179e"
             ],
             [
              0.4444444444444444,
              "#bd3786"
             ],
             [
              0.5555555555555556,
              "#d8576b"
             ],
             [
              0.6666666666666666,
              "#ed7953"
             ],
             [
              0.7777777777777778,
              "#fb9f3a"
             ],
             [
              0.8888888888888888,
              "#fdca26"
             ],
             [
              1,
              "#f0f921"
             ]
            ],
            "type": "surface"
           }
          ],
          "table": [
           {
            "cells": {
             "fill": {
              "color": "#EBF0F8"
             },
             "line": {
              "color": "white"
             }
            },
            "header": {
             "fill": {
              "color": "#C8D4E3"
             },
             "line": {
              "color": "white"
             }
            },
            "type": "table"
           }
          ]
         },
         "layout": {
          "annotationdefaults": {
           "arrowcolor": "#2a3f5f",
           "arrowhead": 0,
           "arrowwidth": 1
          },
          "autotypenumbers": "strict",
          "coloraxis": {
           "colorbar": {
            "outlinewidth": 0,
            "ticks": ""
           }
          },
          "colorscale": {
           "diverging": [
            [
             0,
             "#8e0152"
            ],
            [
             0.1,
             "#c51b7d"
            ],
            [
             0.2,
             "#de77ae"
            ],
            [
             0.3,
             "#f1b6da"
            ],
            [
             0.4,
             "#fde0ef"
            ],
            [
             0.5,
             "#f7f7f7"
            ],
            [
             0.6,
             "#e6f5d0"
            ],
            [
             0.7,
             "#b8e186"
            ],
            [
             0.8,
             "#7fbc41"
            ],
            [
             0.9,
             "#4d9221"
            ],
            [
             1,
             "#276419"
            ]
           ],
           "sequential": [
            [
             0,
             "#0d0887"
            ],
            [
             0.1111111111111111,
             "#46039f"
            ],
            [
             0.2222222222222222,
             "#7201a8"
            ],
            [
             0.3333333333333333,
             "#9c179e"
            ],
            [
             0.4444444444444444,
             "#bd3786"
            ],
            [
             0.5555555555555556,
             "#d8576b"
            ],
            [
             0.6666666666666666,
             "#ed7953"
            ],
            [
             0.7777777777777778,
             "#fb9f3a"
            ],
            [
             0.8888888888888888,
             "#fdca26"
            ],
            [
             1,
             "#f0f921"
            ]
           ],
           "sequentialminus": [
            [
             0,
             "#0d0887"
            ],
            [
             0.1111111111111111,
             "#46039f"
            ],
            [
             0.2222222222222222,
             "#7201a8"
            ],
            [
             0.3333333333333333,
             "#9c179e"
            ],
            [
             0.4444444444444444,
             "#bd3786"
            ],
            [
             0.5555555555555556,
             "#d8576b"
            ],
            [
             0.6666666666666666,
             "#ed7953"
            ],
            [
             0.7777777777777778,
             "#fb9f3a"
            ],
            [
             0.8888888888888888,
             "#fdca26"
            ],
            [
             1,
             "#f0f921"
            ]
           ]
          },
          "colorway": [
           "#636efa",
           "#EF553B",
           "#00cc96",
           "#ab63fa",
           "#FFA15A",
           "#19d3f3",
           "#FF6692",
           "#B6E880",
           "#FF97FF",
           "#FECB52"
          ],
          "font": {
           "color": "#2a3f5f"
          },
          "geo": {
           "bgcolor": "white",
           "lakecolor": "white",
           "landcolor": "#E5ECF6",
           "showlakes": true,
           "showland": true,
           "subunitcolor": "white"
          },
          "hoverlabel": {
           "align": "left"
          },
          "hovermode": "closest",
          "mapbox": {
           "style": "light"
          },
          "paper_bgcolor": "white",
          "plot_bgcolor": "#E5ECF6",
          "polar": {
           "angularaxis": {
            "gridcolor": "white",
            "linecolor": "white",
            "ticks": ""
           },
           "bgcolor": "#E5ECF6",
           "radialaxis": {
            "gridcolor": "white",
            "linecolor": "white",
            "ticks": ""
           }
          },
          "scene": {
           "xaxis": {
            "backgroundcolor": "#E5ECF6",
            "gridcolor": "white",
            "gridwidth": 2,
            "linecolor": "white",
            "showbackground": true,
            "ticks": "",
            "zerolinecolor": "white"
           },
           "yaxis": {
            "backgroundcolor": "#E5ECF6",
            "gridcolor": "white",
            "gridwidth": 2,
            "linecolor": "white",
            "showbackground": true,
            "ticks": "",
            "zerolinecolor": "white"
           },
           "zaxis": {
            "backgroundcolor": "#E5ECF6",
            "gridcolor": "white",
            "gridwidth": 2,
            "linecolor": "white",
            "showbackground": true,
            "ticks": "",
            "zerolinecolor": "white"
           }
          },
          "shapedefaults": {
           "line": {
            "color": "#2a3f5f"
           }
          },
          "ternary": {
           "aaxis": {
            "gridcolor": "white",
            "linecolor": "white",
            "ticks": ""
           },
           "baxis": {
            "gridcolor": "white",
            "linecolor": "white",
            "ticks": ""
           },
           "bgcolor": "#E5ECF6",
           "caxis": {
            "gridcolor": "white",
            "linecolor": "white",
            "ticks": ""
           }
          },
          "title": {
           "x": 0.05
          },
          "xaxis": {
           "automargin": true,
           "gridcolor": "white",
           "linecolor": "white",
           "ticks": "",
           "title": {
            "standoff": 15
           },
           "zerolinecolor": "white",
           "zerolinewidth": 2
          },
          "yaxis": {
           "automargin": true,
           "gridcolor": "white",
           "linecolor": "white",
           "ticks": "",
           "title": {
            "standoff": 15
           },
           "zerolinecolor": "white",
           "zerolinewidth": 2
          }
         }
        },
        "title": {
         "text": "3d TSNE Plot for Outliers"
        },
        "width": 900
       }
      },
      "text/html": [
       "<div>                            <div id=\"d0bd3fe3-097d-46e5-b080-a924c99b93ad\" class=\"plotly-graph-div\" style=\"height:800px; width:900px;\"></div>            <script type=\"text/javascript\">                require([\"plotly\"], function(Plotly) {                    window.PLOTLYENV=window.PLOTLYENV || {};                                    if (document.getElementById(\"d0bd3fe3-097d-46e5-b080-a924c99b93ad\")) {                    Plotly.newPlot(                        \"d0bd3fe3-097d-46e5-b080-a924c99b93ad\",                        [{\"customdata\":[[3.0],[null],[5.0],[null],[3.0],[3.0],[null],[1.0],[1.0],[2.0],[1.0],[1.0],[2.0],[1.0],[3.0],[5.0],[3.0],[2.0],[1.0],[null],[5.0],[null],[79.0],[5.0],[2.0],[null],[null],[null],[null],[null],[null],[null],[null],[null],[1.0],[null],[2.0],[null],[null],[null],[null],[null],[null],[null],[null],[null],[null],[null],[null],[null],[null],[4.0],[1.0],[null],[null],[1.0],[null],[1.0],[null],[null],[null],[2.0],[null],[null],[null],[null],[5.0],[null],[null],[null],[null],[null],[null],[null],[null],[null],[null],[1.0],[null],[null],[null],[null],[4.0],[null],[null],[null],[null],[null],[null],[1.0],[null],[null],[null],[null],[null],[null],[3.0],[null],[null],[null],[null],[null],[null],[null],[null],[2.0],[null],[null],[null],[null],[null],[null],[null],[null],[null],[null],[null],[null],[null],[null],[null],[null],[2.0],[null],[null],[null],[null],[null],[null],[null],[null],[2.0],[null],[5.0],[null],[null],[null],[null],[null],[8.0],[null],[null],[null],[2.0],[null],[null],[1.0],[null],[null],[2.0],[2.0],[2.0],[null],[null],[null],[null],[null],[2.0],[null],[null],[null],[null],[null],[null],[null],[null],[null],[null],[null],[null],[null],[null],[null],[null],[null],[null],[null],[null],[null],[null],[null],[null],[null],[null],[null],[null],[null],[null],[null],[1.0],[null],[null],[null],[null],[1.0],[null],[null],[null],[19.0],[3.0],[null],[null],[null],[null],[null],[null],[null],[null],[null],[null],[null],[null],[null],[null],[null],[null],[null],[null],[null],[null],[null],[null],[null],[null],[null],[2.0],[null],[null],[null],[null],[null],[null],[null],[null],[null],[null],[1.0],[2.0],[null],[null],[null],[null],[null],[1.0],[null],[null],[null],[null],[null],[null],[null],[null],[null],[null],[null],[null],[null],[null],[null],[null],[null],[null],[null],[1.0],[null],[2.0],[1.0],[null],[null],[null],[null],[null],[null],[null],[null],[null],[2.0],[null],[null],[null],[null],[null],[null],[null],[null],[null],[null],[1.0],[null],[null],[null],[null],[null],[null],[null],[null],[null],[null],[null],[1.0],[null],[null],[null],[null],[null],[null],[null],[null],[null],[null],[null],[1.0],[1.0],[null],[null],[null],[1.0],[null],[null],[null],[null],[null],[null],[null],[null],[null],[null],[null],[null],[null],[null],[null],[null],[null],[null],[null],[null],[null],[null],[null],[1.0],[null],[1.0],[2.0],[null],[null],[null],[null],[null],[2.0],[null],[null],[null],[null],[null],[null],[null],[null],[null],[null],[null],[null],[null],[null],[null],[null],[1.0],[null],[null],[null],[null],[null],[null],[null],[null],[null],[1.0],[null],[null],[null],[null],[null],[null],[null],[null],[null],[null],[null],[null],[null],[null],[null],[null],[null],[null],[null],[null],[null],[null],[null],[null],[null],[null],[null],[null],[null],[null],[null],[1.0],[null],[1.0],[null],[null],[null],[2.0],[2.0],[1.0],[3.0],[2.0],[3.0],[1.0],[1.0],[2.0],[4.0],[1.0],[2.0],[null],[6.0],[null],[null],[2.0],[null],[1.0],[1.0],[4.0],[1.0],[null],[1.0],[null],[2.0],[1.0],[1.0],[null],[null],[null],[null],[1.0],[null],[1.0],[1.0],[1.0],[null],[null],[1.0],[1.0],[null],[null],[null],[null],[null],[null],[null],[null],[2.0],[null],[2.0],[1.0],[2.0],[null],[null],[null],[null],[null],[null],[1.0],[1.0],[null],[null],[null],[null],[null],[null],[1.0],[null],[null],[null],[1.0],[null],[null],[4.0],[null],[null],[null],[null],[null],[null],[null],[null],[null],[null],[null],[null],[null],[null],[null],[null],[null],[null],[null],[null],[null],[null],[null],[1.0],[null],[1.0],[null],[null],[null],[null],[null],[null],[4.0],[null],[null],[null],[null],[null],[null],[null],[null],[null],[null],[1.0],[null],[null],[1.0],[null],[null],[null],[null],[null],[null],[null],[null],[1.0],[null],[null],[null],[null],[null],[null],[null],[null],[null],[null],[null],[null],[null],[null],[null],[null],[null],[null],[null],[null],[null],[2.0],[null],[null],[null],[null],[null],[null],[1.0],[null],[null],[null],[1.0],[null],[null],[null],[null],[null],[null],[null],[null],[null],[null],[null],[null],[1.0],[2.0],[null],[1.0],[2.0],[1.0],[6.0],[null],[1.0],[3.0],[2.0],[2.0],[2.0],[2.0],[null],[1.0],[null],[null],[null],[null],[3.0],[1.0],[1.0],[2.0],[null],[null],[null],[null],[1.0],[null],[6.0],[null],[null],[1.0],[null],[null],[null],[1.0],[1.0],[1.0],[null],[1.0],[null],[null],[1.0],[null],[1.0],[1.0],[null],[null],[null],[null],[null],[null],[2.0],[null],[null],[1.0],[1.0],[null],[null],[1.0],[null],[null],[null],[null],[null],[null],[1.0],[2.0],[2.0],[null],[null],[null],[null],[null],[1.0],[null],[null],[null],[1.0],[null],[null],[null],[null],[null],[null],[null],[null],[1.0],[null],[null],[null],[null],[null],[null],[null],[null],[null],[null],[null],[null],[null],[null],[null],[null],[null],[null],[null],[1.0],[null],[null],[null],[null],[null],[null],[null],[null],[null],[null],[null],[1.0],[1.0],[null],[1.0],[null],[1.0],[2.0],[null],[12.0],[2.0],[2.0],[3.0],[1.0],[76.0],[null],[null],[null],[null],[null],[null],[null],[null],[null],[null],[null],[null],[null],[null],[null],[null],[null],[null],[1.0],[1.0],[3.0],[null],[null],[null],[null],[null],[null],[null],[null],[null],[3.0],[null],[null],[null],[null],[null],[null],[null],[1.0],[null],[null],[null],[1.0],[null],[null],[null],[null],[null],[null],[null],[null],[null],[null],[null],[null],[null],[null],[null],[null],[null],[2.0],[null],[null],[null],[null],[null],[null],[null],[null],[null],[null],[null],[1.0],[null],[null],[null],[null],[null],[null],[null],[null],[null],[null],[null],[null],[1.0],[4.0],[null],[7.0],[null],[null],[1.0],[null],[null],[1.0],[1.0],[1.0],[null],[1.0],[null],[3.0],[null],[null],[null],[1.0],[null],[null],[null],[null],[1.0],[null],[null],[null],[4.0],[null],[null],[null],[null],[null],[null],[null],[null],[null],[null],[null],[null],[null],[2.0],[null],[2.0],[null],[null],[null],[1.0],[null],[null],[null],[null],[null],[null],[null],[null],[3.0],[null],[null],[2.0],[3.0],[null],[null],[null],[null],[null],[null],[null],[1.0],[null],[null],[null],[null],[null],[null],[null],[1.0],[null],[null],[null],[null],[null],[null],[null],[null],[null],[null],[null],[null],[1.0],[null],[null],[null],[null],[null],[null],[null],[null],[null],[null],[null],[null],[null],[null],[null],[null],[null],[null],[null],[null],[null],[null],[1.0],[null],[null],[null],[null],[null],[1.0],[null],[null],[null],[null],[null],[null],[null],[null],[null],[null],[null],[null],[null],[null],[null],[null],[null],[null],[null],[null],[10.0],[null],[1.0],[null],[null],[null],[null],[null],[null],[null],[null],[null],[null],[null],[null],[null],[null],[1.0],[null],[null],[null],[null],[null],[null],[2.0],[1.0],[1.0],[3.0],[3.0],[4.0],[2.0],[4.0],[2.0],[9.0],[5.0],[null],[2.0],[2.0],[5.0],[2.0],[1.0],[3.0],[null],[6.0],[1.0],[3.0],[null],[null],[2.0],[5.0],[null],[3.0],[3.0],[2.0],[null],[null],[1.0],[1.0],[null],[null],[4.0],[null],[null],[null],[null],[null],[null],[null],[6.0],[4.0],[3.0],[3.0],[null],[null],[null],[1.0],[null],[null],[1.0],[null],[null],[null],[null],[null],[null],[null],[3.0],[6.0],[null],[null],[null],[null],[1.0],[null],[4.0],[3.0],[null],[null],[null],[2.0],[1.0],[1.0],[null],[2.0],[null],[1.0],[null],[null],[null],[null],[null],[null],[null],[null],[null],[null],[null],[null],[null],[null],[null],[3.0],[1.0],[null],[null],[null],[null],[null],[null],[null],[null],[2.0],[4.0],[null],[null],[null],[null],[null],[null],[null],[null],[null],[null],[null],[2.0],[null],[null],[null],[null],[null],[null],[null],[null],[2.0],[6.0],[null],[null],[1.0],[null],[null],[null],[null],[1.0],[null],[8.0],[null],[null],[null],[2.0],[1.0],[null],[null],[null],[null],[null],[1.0],[null],[3.0],[null],[null],[null],[null],[null],[null],[null],[null],[null],[null],[null],[null],[null],[null],[null],[null],[null],[null],[null],[null],[null],[null],[null],[null],[null],[null],[null],[null],[null],[null],[null],[null],[null],[null],[3.0],[null],[null],[null],[null],[null],[null],[null],[null],[3.0],[null],[null],[2.0],[null],[null],[null],[null],[null],[null],[null],[null],[null],[2.0],[1.0],[null],[null],[null],[null],[null],[null],[null],[null],[null],[null],[null],[1.0],[null],[2.0],[1.0],[null],[null],[null],[null],[null],[null],[null],[1.0],[null],[null]],\"hovertemplate\":\"0=%{x}<br>1=%{y}<br>2=%{z}<br>Feature=%{customdata[0]}<br>Anomaly=%{marker.color}<extra></extra>\",\"legendgroup\":\"\",\"marker\":{\"color\":[0,1,0,0,0,0,0,0,0,0,0,1,1,0,0,0,0,1,1,0,0,0,0,0,0,0,0,0,0,0,0,0,0,0,0,1,1,0,0,0,0,0,0,0,0,1,1,0,0,0,0,0,0,0,0,0,0,0,0,0,0,0,0,0,0,0,0,0,0,0,0,0,0,0,0,0,0,1,0,0,0,0,0,0,0,0,0,0,0,0,0,0,0,0,0,0,0,0,0,0,0,0,0,0,0,0,0,0,0,0,0,0,0,0,0,0,0,0,0,1,0,0,0,0,0,0,0,1,0,0,0,0,1,0,0,0,0,0,0,0,0,0,0,0,0,0,0,0,0,0,0,0,0,0,0,0,0,1,0,0,0,0,1,0,0,0,0,0,0,0,0,0,0,1,0,0,0,0,0,1,0,0,0,0,0,0,0,0,0,0,0,0,0,0,1,0,0,0,0,0,0,0,0,0,0,0,1,1,0,0,1,0,0,0,0,0,0,0,1,0,0,0,0,0,0,1,0,0,0,0,0,0,1,0,0,0,0,0,0,0,0,0,0,0,0,0,0,0,0,0,1,0,0,0,0,0,0,0,0,0,0,0,0,0,0,0,0,0,0,0,0,0,0,0,0,0,0,0,0,0,0,0,0,0,0,0,0,0,0,0,0,0,0,0,0,0,0,0,0,0,0,0,0,0,0,0,0,0,0,0,0,0,0,0,1,0,0,0,0,0,0,0,0,0,0,0,0,0,0,0,0,0,0,0,0,0,0,0,0,0,0,0,0,0,0,0,0,0,0,1,0,0,1,0,0,0,0,0,0,0,0,0,0,0,0,0,0,0,0,0,0,0,0,0,0,0,0,0,0,0,0,0,0,0,0,0,0,0,0,0,0,0,0,0,0,0,0,0,0,0,0,0,0,0,0,0,0,0,0,0,0,0,0,0,0,0,0,0,0,0,0,0,0,0,0,0,0,0,0,0,0,0,0,0,0,0,0,0,0,0,0,0,0,0,0,0,0,0,0,0,0,0,0,0,0,0,0,0,0,0,0,0,0,0,0,0,0,0,0,0,0,0,0,0,0,0,0,0,0,0,0,0,0,0,0,0,0,0,0,1,0,0,0,0,0,0,0,0,0,0,0,0,0,0,0,0,0,1,0,0,1,0,0,0,0,0,0,0,0,0,0,0,0,0,0,0,0,1,0,0,0,0,0,0,0,0,0,0,0,0,0,0,0,0,0,0,0,0,0,0,0,0,0,0,0,0,0,0,0,0,0,0,0,0,0,0,0,0,0,0,0,0,0,0,0,0,0,0,0,0,0,0,0,0,0,0,0,0,0,0,0,0,0,0,0,0,0,0,0,0,0,0,0,0,0,0,1,0,0,0,0,0,0,0,0,0,0,0,0,0,0,0,0,0,0,0,0,0,0,0,0,0,0,0,0,0,0,0,0,0,0,0,0,0,0,0,0,0,0,0,0,0,0,0,0,0,0,0,0,0,0,1,0,0,0,0,0,0,0,0,0,0,0,0,1,0,0,0,0,0,0,0,0,0,0,0,0,0,0,0,0,0,0,0,0,0,0,0,0,0,0,0,0,0,1,0,0,0,0,0,0,0,0,0,0,0,0,0,0,0,0,0,0,0,0,1,0,0,0,0,0,0,0,0,0,0,0,0,0,0,1,0,0,0,0,0,0,0,0,0,0,1,0,0,0,0,0,0,0,0,0,0,0,0,0,0,0,1,0,0,0,0,0,0,0,0,0,1,0,0,0,0,0,0,0,0,0,0,0,0,1,0,0,0,0,0,0,0,0,0,0,0,0,0,0,0,0,0,0,0,0,0,0,0,1,0,0,0,0,0,0,0,0,0,0,0,0,0,0,0,0,0,0,0,0,0,0,0,0,0,0,0,0,0,0,0,0,0,0,0,0,0,0,0,0,0,0,0,0,0,0,0,0,0,0,0,0,0,0,0,0,0,0,0,0,0,0,0,0,0,0,0,0,0,0,0,0,0,0,0,0,0,0,0,0,0,0,0,0,0,0,0,0,0,0,0,0,0,0,0,0,0,0,0,0,1,0,1,0,0,0,0,0,0,0,0,0,0,0,0,0,0,0,0,0,0,0,0,0,0,0,0,0,0,0,0,0,0,0,0,0,0,0,0,0,0,0,0,0,0,0,0,0,0,0,0,1,0,1,0,0,0,0,0,1,0,1,0,0,0,0,0,0,0,0,0,0,0,0,0,0,0,0,0,0,0,0,0,0,0,0,0,0,0,0,0,0,0,0,0,0,0,0,0,0,1,0,0,0,0,0,0,0,0,0,0,0,0,0,0,0,0,0,0,0,0,0,0,0,1,0,0,0,0,0,0,1,1,0,0,0,0,0,0,0,0,0,0,0,0,0,0,1,1,0,0,0,0,0,1,0,1,0,0,0,0,0,0,0,0,0,0,0,1,0,0,0,0,0,0,0,0,0,0,1,0,0,0,0,0,0,0,1,0,0,0,0,0,0,0,0,0,0,0,0,0,0,0,0,0,0,0,0,0,1,0,0,0,0,0,0,0,0,0,0,0,0,0,0,0,0,0,0,0,0,0,0,0,0,0,0,0,0,0,0,0,0,0,0,0,0,0,0,0,0,0,0,0,0,0,0,0,0,0,0,0,0,0,0,0,0,0,0,0,0,0,0,0,0,0,0,0,0,0,0,0,0,0,0,0,0,0,0,0,0,0,0,0,0,0,0,0],\"coloraxis\":\"coloraxis\",\"opacity\":0.7,\"symbol\":\"circle\"},\"mode\":\"markers\",\"name\":\"\",\"scene\":\"scene\",\"showlegend\":false,\"x\":[-2.5519487857818604,6.2892165184021,0.3739320635795593,-1.2959494590759277,0.7919220924377441,-12.338541030883789,-2.122046947479248,-8.057714462280273,-4.1990437507629395,-9.12576675415039,-3.0777347087860107,4.469531059265137,7.0519537925720215,1.6780407428741455,-1.5418448448181152,0.30737656354904175,3.615692138671875,4.671701431274414,4.581004619598389,1.9784295558929443,-4.847546577453613,1.8434972763061523,1.0092217922210693,-15.433900833129883,-5.963728904724121,1.065172553062439,-0.4233139157295227,3.994891405105591,-0.6591506600379944,-3.2775871753692627,-4.037511825561523,-1.7041455507278442,-3.2421188354492188,1.079074740409851,-2.0481481552124023,5.1480231285095215,6.754622459411621,0.4539569914340973,-1.979111909866333,5.247716426849365,-0.5415416955947876,1.7516188621520996,1.6164817810058594,8.80008316040039,-4.043839454650879,7.050808429718018,5.830862998962402,4.201287269592285,0.2543153762817383,-0.38660523295402527,-0.4576603174209595,-0.8770716190338135,-2.67604398727417,-0.3685215413570404,0.8202123641967773,-0.03824705630540848,0.16887305676937103,0.08792208880186081,0.42851710319519043,0.8694764971733093,0.7859590649604797,3.4859189987182617,-0.5751034021377563,-1.8868671655654907,3.7632322311401367,6.511085033416748,1.7918612957000732,-16.494211196899414,-1.2703253030776978,-4.517972946166992,-9.979389190673828,2.891745090484619,2.852721929550171,-2.50632381439209,-9.546576499938965,-3.5789523124694824,3.7310984134674072,5.218080520629883,-4.343542575836182,-2.3327455520629883,0.6982775926589966,-2.2751574516296387,-1.359696388244629,-1.8673676252365112,-0.7785831093788147,-1.841660976409912,2.948289632797241,-3.1382014751434326,2.4953885078430176,2.445141553878784,0.4042859971523285,-0.25953739881515503,1.378767728805542,6.529214859008789,0.1703353375196457,-1.6428959369659424,-3.223679542541504,-3.0185422897338867,9.555689811706543,-0.11693059653043747,-2.664928674697876,7.514948844909668,7.556687355041504,2.21089243888855,2.45169997215271,1.3463852405548096,5.329021453857422,1.9660131931304932,2.5075912475585938,6.754049777984619,4.197341442108154,2.2049622535705566,0.7614338994026184,-0.8882959485054016,-15.288496017456055,-9.059433937072754,-5.903486728668213,-5.927889823913574,-14.1619234085083,5.586215496063232,0.8617579936981201,-1.0113112926483154,-6.527046203613281,-6.578815460205078,-3.0874667167663574,-5.19834041595459,3.7881832122802734,5.701836109161377,-4.238412380218506,-1.7553553581237793,5.137308120727539,-1.4446355104446411,5.952449321746826,1.647544503211975,2.900770425796509,6.560680866241455,7.758060455322266,6.574648857116699,6.627470016479492,-1.0282968282699585,8.91348934173584,-2.3167691230773926,0.9871705174446106,5.3233256340026855,0.056785255670547485,-0.8139233589172363,3.6044676303863525,0.196639746427536,0.3931531608104706,0.6364865303039551,-0.36728864908218384,4.1323957443237305,-0.6445019841194153,0.1729186475276947,6.484923362731934,-3.9353084564208984,-2.012040853500366,6.996989727020264,3.2770137786865234,-2.947301149368286,-2.5038905143737793,2.227229356765747,4.670078754425049,-4.125926494598389,-12.842181205749512,-3.606505870819092,1.9064525365829468,-0.06808176636695862,-4.12895393371582,0.8276761174201965,-4.379022598266602,8.364819526672363,3.130549907684326,4.185336589813232,9.511499404907227,-0.6965347528457642,5.298530578613281,4.226444721221924,-0.33381229639053345,5.549289703369141,5.237255096435547,-2.8251516819000244,2.8791744709014893,1.5688974857330322,-1.9700134992599487,-0.5285189151763916,0.34811607003211975,0.29186713695526123,0.3673853278160095,5.811005115509033,-3.5499048233032227,0.5613307356834412,-0.38964924216270447,8.862982749938965,3.89949369430542,0.1691453456878662,-15.945063591003418,-0.4581317901611328,0.4823376536369324,-1.1891988515853882,2.3428146839141846,-0.6997107267379761,3.9683306217193604,-6.125244617462158,-3.2762176990509033,-2.860640048980713,3.358474016189575,5.645235538482666,3.9334094524383545,2.388648271560669,-3.6377828121185303,-3.6759748458862305,-1.5719048976898193,0.005673420149832964,-1.6687945127487183,-9.822813987731934,-2.3823740482330322,1.8834387063980103,5.187953948974609,-0.9623886942863464,5.186855792999268,-4.9936652183532715,-4.150918006896973,-13.308655738830566,5.152759552001953,5.447861194610596,1.928156852722168,-0.41111722588539124,1.1200345754623413,-15.840851783752441,5.8440985679626465,-0.7447285056114197,4.094840049743652,6.325652599334717,1.0216457843780518,-0.8062357306480408,-5.453345775604248,6.550836086273193,8.041152000427246,0.1504088193178177,1.9160000085830688,-0.18736302852630615,0.5108482241630554,0.5574647784233093,2.414255142211914,0.0719786062836647,-1.8203262090682983,-3.260692834854126,4.947185516357422,2.1123483180999756,4.748490333557129,-1.5453342199325562,2.02294659614563,0.559330940246582,2.7920477390289307,-0.407959520816803,0.8298260569572449,1.9086015224456787,-1.692223072052002,1.514175295829773,0.8153272867202759,-4.3576812744140625,-0.38258299231529236,0.30890464782714844,-4.265625953674316,3.8887741565704346,0.4620348811149597,1.0971934795379639,0.1740283966064453,-15.022640228271484,-13.226027488708496,-16.785810470581055,-16.506349563598633,-14.553828239440918,-9.440176010131836,-14.795762062072754,-13.229833602905273,-16.769725799560547,-0.6691664457321167,2.9653940200805664,2.7188992500305176,-4.0657124519348145,-3.4909002780914307,2.763261079788208,-4.119274139404297,-7.927332401275635,-14.606817245483398,-3.1285576820373535,1.826520562171936,-2.7877211570739746,-2.493598461151123,-4.723862171173096,-7.9769697189331055,-3.9011735916137695,2.5164906978607178,-15.641271591186523,-4.187949180603027,-14.357335090637207,-1.6218559741973877,-0.07145482301712036,-2.1963460445404053,-0.1633775234222412,1.931838035583496,5.731888771057129,2.3874621391296387,6.889552116394043,3.098754644393921,-1.3496638536453247,-1.7621921300888062,2.936405658721924,3.3884615898132324,9.472518920898438,0.008102715015411377,4.32296895980835,3.1163604259490967,2.4536757469177246,5.408472061157227,4.170032501220703,3.813408613204956,-3.535491943359375,-1.3537349700927734,5.5951409339904785,-3.1421477794647217,8.37625503540039,4.198376655578613,-0.5558762550354004,0.6746870875358582,1.6185966730117798,3.004849910736084,-1.2553631067276,6.1197309494018555,9.018272399902344,5.185943126678467,-2.559950113296509,4.348745346069336,-0.03397573158144951,3.599308490753174,4.211430072784424,5.103931903839111,4.530367374420166,-0.5398265719413757,1.7860527038574219,-0.06584089994430542,2.755561590194702,-2.8731210231781006,-2.623445510864258,-3.3020265102386475,1.156205177307129,-2.246432065963745,6.835610866546631,-3.835970163345337,-4.153030872344971,4.675222396850586,-1.9594922065734863,-4.314895153045654,-1.4350913763046265,-2.8415720462799072,-4.099180698394775,-2.354020357131958,-3.410015821456909,3.6488277912139893,-16.062850952148438,-0.7023019194602966,2.676945447921753,-2.2044248580932617,-1.926819086074829,2.288541078567505,9.225871086120605,2.278174877166748,-0.254812628030777,2.8545525074005127,1.7971446514129639,2.4913628101348877,-0.040913451462984085,1.1374826431274414,1.5914002656936646,0.7540168166160583,-2.6454734802246094,1.9430502653121948,3.632565975189209,2.218939781188965,6.9735541343688965,4.875268936157227,-0.11901144683361053,7.693634986877441,-1.8871508836746216,-0.5586526989936829,-0.8799660801887512,3.4910643100738525,2.8094215393066406,0.822030782699585,-13.210268020629883,-5.316676616668701,-4.391327857971191,-3.5254018306732178,-2.3746442794799805,-0.1367100328207016,-5.113846302032471,1.276113510131836,2.7616543769836426,0.25104790925979614,-0.3645683228969574,-13.38480281829834,0.42669644951820374,-2.600952386856079,-5.963591575622559,-1.1012951135635376,-16.14143943786621,-0.0508764274418354,-2.9936747550964355,-0.3698868751525879,-1.0340430736541748,-1.3135124444961548,-2.188624382019043,1.3669648170471191,3.2007861137390137,2.4453704357147217,5.038837432861328,-2.8684544563293457,1.5138603448867798,2.527047872543335,3.1643385887145996,4.803183555603027,2.2340822219848633,-5.07966947555542,-1.232818365097046,-1.2159204483032227,-16.17141342163086,-6.040491104125977,-16.008636474609375,-0.3412899672985077,3.3496243953704834,-2.937432289123535,2.213543653488159,2.665847063064575,1.1660341024398804,3.0907576084136963,5.0348052978515625,0.6368446946144104,1.1994810104370117,5.358037948608398,6.142367839813232,9.148268699645996,7.90480899810791,4.881660461425781,3.9268534183502197,0.5887063145637512,7.80832576751709,0.07176873087882996,2.165663719177246,6.39640998840332,0.6398982405662537,-16.376689910888672,0.4495328366756439,-5.8930182456970215,3.712801218032837,4.255917072296143,-3.2970120906829834,1.5757036209106445,-1.3450616598129272,-3.421506404876709,-3.4141881465911865,-2.7167961597442627,-2.2734034061431885,-4.354058742523193,-4.229031085968018,-14.864119529724121,-2.724823474884033,1.046610951423645,-2.756068706512451,-6.008347988128662,1.9672682285308838,-0.565506100654602,-13.924478530883789,4.536120414733887,5.012726306915283,2.1747684478759766,-2.0300772190093994,4.386004447937012,0.6562036275863647,1.4480257034301758,-2.4821016788482666,2.2686567306518555,2.1981759071350098,2.9574973583221436,0.40669187903404236,-0.511160671710968,1.8151421546936035,5.784923076629639,2.9358596801757812,-2.463783025741577,1.2119126319885254,-5.397368907928467,0.9699209928512573,0.3249111771583557,-0.09436498582363129,4.459436416625977,-0.697557806968689,-16.038169860839844,-0.6881352066993713,3.526477098464966,6.6167521476745605,0.8553258776664734,3.63531756401062,4.3893280029296875,5.754228115081787,3.286851406097412,7.031151294708252,-14.945192337036133,-15.492795944213867,5.807514667510986,-4.684584140777588,1.5782800912857056,-14.073609352111816,-1.2051430940628052,-15.561624526977539,-0.5374016761779785,1.5071276426315308,3.3152692317962646,-4.31911563873291,-2.6178200244903564,-2.4841861724853516,-4.0068888664245605,2.328237771987915,2.8434832096099854,5.198277950286865,1.522120475769043,4.054234981536865,8.269935607910156,6.11558198928833,2.2024295330047607,3.182147264480591,3.444849967956543,5.029862880706787,1.2550418376922607,1.3305883407592773,4.726365566253662,-2.990480661392212,1.3337961435317993,-1.0675699710845947,-1.1713002920150757,-2.514071464538574,-2.988921642303467,8.48102855682373,2.6756503582000732,5.094686985015869,7.222924709320068,4.82140588760376,3.6645002365112305,9.146690368652344,-0.6200833916664124,-3.2440526485443115,4.677903652191162,0.7765085101127625,7.472029209136963,-0.20527765154838562,8.817633628845215,0.3648979067802429,0.7666501998901367,0.6340674161911011,8.191981315612793,0.5240691900253296,-0.3092002272605896,0.6712470650672913,-4.081009864807129,-2.6404428482055664,-1.1437267065048218,-9.88408374786377,-16.482887268066406,-4.592945098876953,-0.2745419144630432,1.7007533311843872,-4.4738569259643555,-3.543895721435547,-0.3327970504760742,5.015512466430664,2.991413116455078,7.333349227905273,2.455880641937256,-0.5158737301826477,4.282479286193848,0.4842880964279175,2.956425905227661,2.667696237564087,-12.526265144348145,-0.9667243361473083,0.12160982936620712,1.2920832633972168,-0.3934463560581207,-4.210592269897461,2.053035259246826,0.7660756707191467,3.934114694595337,4.178695201873779,6.509586811065674,-14.653807640075684,-14.408045768737793,-14.983277320861816,3.0503089427948,-1.420119047164917,-1.2590899467468262,-3.275226593017578,1.555609107017517,-0.3488234281539917,1.2870932817459106,-2.8964474201202393,6.7867841720581055,-2.709106206893921,0.43761536478996277,-3.270038604736328,-4.542605876922607,-3.117513418197632,0.06296849250793457,2.880368709564209,-1.819521188735962,-0.5493810176849365,1.036195993423462,-1.691961646080017,-2.5394394397735596,3.224785804748535,4.580893039703369,1.8665937185287476,0.47610214352607727,2.5639724731445312,1.6033995151519775,0.44709524512290955,1.7498235702514648,4.526582717895508,9.150525093078613,2.960930109024048,4.589508533477783,-2.236119508743286,-3.8586173057556152,-0.6938592195510864,3.6584441661834717,-0.10021264106035233,6.518664836883545,0.926637589931488,-0.8861274123191833,-0.9129961133003235,6.605301380157471,5.087512493133545,0.05044401064515114,5.124859809875488,-0.518513023853302,0.919704794883728,1.1872998476028442,0.1860746443271637,-0.9022271633148193,3.114239454269409,0.1731814444065094,-0.8221010565757751,-15.838635444641113,-4.343822002410889,-8.047863960266113,-3.431790590286255,-2.1636171340942383,-5.405089855194092,-0.11860296130180359,5.744720458984375,4.191950798034668,6.931246757507324,-5.401937484741211,2.4082281589508057,-1.7563012838363647,0.262477308511734,6.681631088256836,1.021101951599121,-16.300024032592773,-0.2928939163684845,0.5507745742797852,1.6617200374603271,-2.816638946533203,0.6267580389976501,3.4228131771087646,-2.472952365875244,-3.9552419185638428,-0.7413864135742188,-7.982215404510498,-9.933259010314941,-3.4807393550872803,-6.058905124664307,-4.930386066436768,-3.958132266998291,-1.9733219146728516,-6.002796173095703,-0.7034367918968201,-1.8876240253448486,-0.03958119824528694,3.8316688537597656,6.459283351898193,1.898279070854187,3.2763686180114746,3.1319007873535156,0.7852099537849426,1.9996623992919922,2.2869622707366943,0.8305310606956482,7.459900379180908,0.558986246585846,6.816120147705078,0.1413082331418991,-0.16286709904670715,-0.3715052604675293,-1.2465994358062744,-15.980435371398926,-3.434192657470703,-2.387939214706421,6.108498573303223,-1.7914586067199707,0.8052456378936768,6.402410984039307,-0.5979152321815491,4.338663101196289,-2.131469488143921,-0.11566358059644699,-0.4072480797767639,2.5075125694274902,-0.7217831015586853,2.1663596630096436,-2.8911406993865967,8.135201454162598,4.7054572105407715,-2.6620633602142334,4.4485931396484375,6.256768703460693,1.2242610454559326,-2.734232187271118,0.2616155445575714,-4.186668395996094,1.642189383506775,-3.0479156970977783,-0.8263764977455139,1.66584312915802,1.8515194654464722,-3.4026434421539307,-2.4619648456573486,2.1507461071014404,0.7637573480606079,4.180239677429199,6.700122833251953,-15.789381980895996,-3.6041316986083984,-1.0489336252212524,-3.502387523651123,-3.198453664779663,5.300983428955078,-2.5254011154174805,-4.263538360595703,-2.7147958278656006,-6.067131996154785,6.058516979217529,2.2958719730377197,-1.946228265762329,-3.226686477661133,-2.03599214553833,-2.517930030822754,-4.53865909576416,2.2409744262695312,0.8619721531867981,-4.6262969970703125,1.7760560512542725,-2.6071507930755615,-2.148773431777954,0.3167775273323059,-5.088278770446777,0.038287851959466934,2.401322364807129,0.6275060176849365,-5.561718940734863,5.785661220550537,-1.6811672449111938,1.9303420782089233,-2.072239398956299,0.26499804854393005,1.039568305015564,0.06699374318122864,4.8448286056518555,2.2241508960723877,1.898181676864624,-3.0580601692199707,-0.9504256248474121,3.505620241165161,1.783118724822998,-1.165726661682129,-1.5976688861846924,-2.2028398513793945,5.3934454917907715,1.3096972703933716,6.2880539894104,4.865110397338867,3.40012264251709,-2.199120283126831,6.302774906158447,4.055515289306641,4.311800479888916,8.334206581115723,-1.5868335962295532,0.0783173069357872,0.9884641766548157,-0.38839077949523926,-2.2636826038360596,0.4859524369239807,8.65131950378418,2.280287742614746,2.3466758728027344,1.8858428001403809,9.176520347595215,6.708306312561035,-0.036111339926719666,-2.7808170318603516,-0.6772858500480652,4.398254871368408,-0.09846872091293335,6.54599142074585,6.000113010406494,1.3533574342727661,-16.720203399658203,-12.655757904052734,-14.245528221130371,1.7675964832305908,-0.8279128074645996,-1.431520700454712,-0.018351232632994652,-4.626290321350098,-4.712050437927246,-1.052625060081482,-0.5879238843917847,-2.96006178855896,8.914045333862305,-2.314443588256836,5.952334403991699,1.4447935819625854,8.997170448303223,0.1057320088148117,4.973160266876221,0.3248714506626129,4.1941986083984375,6.321536540985107,5.068882465362549,-2.7241921424865723,-3.025348424911499,4.656129360198975,3.6246907711029053,-0.11703453958034515,2.8896372318267822,8.889796257019043,0.22742870450019836,0.5571750998497009,-1.3272426128387451,1.2369942665100098,9.050248146057129,9.553044319152832,1.6107208728790283,-1.6309049129486084,0.48060163855552673,0.9142922163009644,6.538235187530518,3.9377732276916504,3.3381733894348145,-0.04572251811623573,0.7676363587379456,-16.269681930541992,-16.43556022644043,-16.394176483154297,-5.225675106048584,-5.042984962463379,4.178046226501465,-5.028755187988281,1.4856044054031372,-4.714051246643066,-1.3393833637237549,-1.4939470291137695,1.0470314025878906,-1.89979088306427,-7.969875335693359,-3.5233383178710938,-2.3376965522766113,-1.8537184000015259,5.422806739807129,7.141201019287109,6.9962592124938965,4.402321815490723,3.3525969982147217,3.0871353149414062,-0.0928366407752037,7.321287155151367,-2.3171398639678955,0.7305856943130493,4.551088333129883,1.061733365058899,8.240368843078613,4.1960015296936035,4.3516435623168945,0.16564244031906128,6.415188312530518,-13.018200874328613,-3.2266297340393066,-14.46354866027832,-3.7039687633514404,2.26067852973938,-3.100670337677002,-4.104679584503174,-2.0667247772216797,8.03052043914795,5.770993709564209,1.8691562414169312,6.31343936920166,5.679349422454834,5.8407087326049805,-3.100545883178711,4.909780979156494,5.3303141593933105,-0.4643934369087219,1.1419532299041748,6.755618095397949,-4.298905849456787,5.904662609100342,1.1899549961090088,4.238251686096191,-4.8664069175720215,8.730942726135254,1.82626211643219,-2.134011745452881,6.425495147705078,2.4811384677886963,3.6460912227630615,2.054932117462158,3.991882562637329,-2.0812606811523438,-0.34642595052719116,8.623980522155762,5.573301315307617,3.6588010787963867,8.637396812438965,-0.6889714002609253,0.8406984210014343,0.8398900628089905,-3.276458263397217,-5.782926559448242,-16.410579681396484,-5.427162170410156,6.075367450714111,2.7969791889190674,-2.2854721546173096,4.5319318771362305,-12.65735149383545,0.4660690128803253,0.4407758116722107,2.502978801727295,-0.4200708270072937,-0.2773515284061432,-0.8392167091369629,-0.3458394408226013,-1.590646505355835,-13.382232666015625,-2.5446383953094482,-3.5346453189849854,7.724704265594482,6.088056564331055,1.1798450946807861,2.200167417526245,6.491934776306152,5.0224289894104,2.942138671875,-0.6706529259681702,2.2291994094848633,1.6944382190704346,-4.223783016204834,1.1779662370681763,-0.7172375321388245,-4.05004358291626,-1.3366074562072754,-3.1654551029205322,-1.2312957048416138,-0.5030713677406311,3.585212469100952,-4.187159061431885,-2.815973997116089,5.407776355743408,4.991631031036377,-1.2459365129470825,-3.3111014366149902,-1.3917850255966187,2.477733612060547,-2.9441213607788086,0.3721751272678375,8.290228843688965,1.6893278360366821,5.415062427520752,-1.189872145652771,-1.1692156791687012,3.56864857673645,1.9482307434082031,-1.829841136932373,0.49969789385795593,2.8561878204345703,-0.4609411954879761,-0.47059011459350586,-0.9194490909576416,0.6739996671676636,0.33842527866363525,7.858764171600342,2.9797556400299072,8.478828430175781,1.637762188911438,9.093812942504883,7.770229816436768,3.930407762527466,4.22905158996582,1.1535072326660156,-0.6684243083000183,1.1055893898010254,-2.6005964279174805,1.4620559215545654,5.387518882751465,-3.6720046997070312,-2.78183913230896,-12.804181098937988,-14.231823921203613,-1.1592769622802734,0.12372872978448868,-0.9982864856719971,-1.835300087928772,6.6356635093688965,5.754966735839844,1.6352975368499756,3.7606959342956543,5.062849044799805,-0.4370972812175751,-0.569301187992096,-0.5958022475242615,-2.8651838302612305,3.6939756870269775,0.7460445165634155,-0.21244359016418457,3.0745625495910645,-0.6119949817657471,-1.5909881591796875,4.76580286026001,-1.4185676574707031,2.242631673812866,-1.9464857578277588,-0.22588983178138733,-3.581655502319336,-0.9975453019142151,6.305296421051025,6.944342136383057,-0.6816606521606445,0.5680252909660339,0.6251131296157837,-5.732017517089844,4.205949306488037,-0.8977723717689514,-4.829355716705322,-3.1396825313568115,-2.2817978858947754,2.349156618118286,3.354567527770996,-0.017940130084753036,-3.684140205383301,2.213920831680298,4.045713424682617,5.842433452606201,-2.633023738861084,0.4624772369861603,-1.4215891361236572,-2.3952279090881348,3.183262825012207,3.998518705368042,-0.7625517845153809,3.42775821685791,-5.681248188018799,-5.107425689697266,-5.350766181945801,3.077312469482422,-1.3247849941253662,0.9645329713821411,-1.0197803974151611,3.127143383026123,-0.06938159465789795,2.0554332733154297,5.828186511993408,4.675389766693115,1.2388652563095093,-4.520684242248535,-4.1994099617004395,-3.011672019958496,1.9228204488754272,3.7221004962921143,-1.6091961860656738,-14.665020942687988,2.075137138366699,-4.2205634117126465,6.121619701385498,-4.063344955444336,-4.22428560256958,-4.011224269866943,-3.8829634189605713,-2.820876359939575,-0.5838627815246582,1.6717151403427124,6.124392509460449,0.1533246785402298,-2.9057841300964355,0.2851070463657379,-4.9794206619262695,-1.0049166679382324,-4.281341552734375,0.9073869585990906,-4.2050957679748535,-0.33067166805267334,1.6981449127197266,-5.648044586181641,-5.2464599609375,0.947902500629425,0.322765976190567,3.60432505607605,-0.5554448366165161,-1.5579637289047241,-4.188310623168945,0.9453368782997131,0.6177807450294495,-14.596441268920898,6.071049213409424,6.0996575355529785,1.6407110691070557,2.4183621406555176,2.213252305984497,0.9969472885131836,2.732253313064575,-4.199361801147461,3.4608287811279297,0.07127363979816437,-0.3113062083721161,9.552397727966309,2.1089935302734375,1.1583713293075562,3.0124669075012207,-3.1725285053253174,0.9988915324211121,8.020103454589844,-5.8060479164123535,-0.2504131495952606,-2.8961517810821533,0.7155654430389404,-1.4398462772369385,5.5864386558532715,2.0957984924316406,-1.1316320896148682,3.7128074169158936,1.2317726612091064,8.920737266540527,6.8944411277771,-3.8622567653656006,1.1174697875976562,1.8233884572982788,-3.504375457763672,-3.9941887855529785,0.3694796860218048,-0.06983236968517303,3.3369953632354736,-2.585531711578369,-2.6799490451812744,1.24772310256958,1.369120717048645,2.387054443359375,-0.35864970088005066,0.9128410816192627,-3.5536890029907227,2.5920395851135254,1.9503616094589233,8.482839584350586,0.21906791627407074,-1.198815107345581,0.9777630567550659,3.078423023223877,1.331831455230713,0.19144247472286224,1.188644528388977,2.4077954292297363,3.6216018199920654,-3.386550188064575,0.8420531153678894,4.2585062980651855,4.130398273468018,0.5079731345176697,1.957236886024475,-16.263830184936523,-13.342947006225586,-1.8429888486862183,-3.331094264984131,-4.3591389656066895,-2.0263304710388184,3.6068499088287354,-5.9634504318237305,-1.084027886390686,-1.761920690536499,0.5663540363311768,2.4583871364593506,-2.198812246322632,-3.8599612712860107,-1.3111605644226074,3.0805933475494385,0.21045680344104767,2.103780508041382,5.283653259277344,-0.0041807969100773335,-15.700035095214844,-2.8353042602539062,5.015741348266602,-0.8584644198417664],\"y\":[1.7258577346801758,-1.9802322387695312,6.580113887786865,0.4788758456707001,-0.09822974354028702,-3.4216647148132324,4.813526630401611,-2.944077968597412,-0.6261797547340393,-3.9917688369750977,9.56255054473877,0.13490082323551178,-3.6397416591644287,3.386089324951172,7.664750576019287,-3.4038121700286865,3.3090739250183105,-4.5776047706604,-0.7299165725708008,1.291552186012268,10.23847484588623,5.3584513664245605,3.138350009918213,-4.091711044311523,-8.016153335571289,-1.8072935342788696,3.5484421253204346,1.6013474464416504,3.4964420795440674,3.798724412918091,-1.689739465713501,8.950236320495605,7.320626258850098,-0.4047737717628479,8.752408981323242,-0.8554812669754028,-2.0291104316711426,10.507406234741211,11.936592102050781,2.8869526386260986,-0.4657110571861267,7.328488349914551,9.744717597961426,-2.447010040283203,12.53742504119873,-3.9752159118652344,0.4628017842769623,-1.390149712562561,7.370796203613281,10.721479415893555,-16.534269332885742,-17.764522552490234,7.353813171386719,-19.036714553833008,8.438471794128418,-20.60831069946289,-11.771851539611816,-12.216144561767578,-11.014872550964355,-8.678262710571289,-21.42561912536621,-9.829936981201172,-0.42555245757102966,10.410494804382324,-13.016264915466309,-4.167343616485596,-2.155641555786133,-2.4693102836608887,-0.8218574523925781,7.332977294921875,-3.630769729614258,4.556197643280029,3.3365120887756348,7.1018900871276855,-3.419171094894409,-2.8142876625061035,3.6819255352020264,0.9723525643348694,9.471423149108887,4.610507965087891,4.436769485473633,5.155142307281494,8.86329174041748,12.42741870880127,10.543356895446777,11.878296852111816,6.847988128662109,10.477745056152344,7.215855598449707,3.4399819374084473,-21.05953025817871,9.938904762268066,-23.142009735107422,-12.183941841125488,9.587881088256836,-1.9959144592285156,12.58919620513916,12.431352615356445,-1.0177640914916992,10.29834270477295,12.46667194366455,-3.8947715759277344,-1.12831449508667,5.957723617553711,4.216230869293213,-22.545263290405273,-3.191481113433838,-1.8405804634094238,-11.058523178100586,-0.6793984174728394,-13.630433082580566,-0.1971668303012848,-9.12047004699707,-16.49071502685547,-3.961705446243286,-3.9692137241363525,-8.625534057617188,-2.5154170989990234,-3.183393955230713,-1.4401758909225464,3.1206650733947754,1.048409342765808,-3.079073905944824,-2.8123576641082764,7.474035263061523,-7.438410758972168,3.512265205383301,0.19484759867191315,-2.000300407409668,3.9719927310943604,2.772368907928467,3.9896090030670166,-1.3871031999588013,9.25843620300293,6.439593315124512,-12.235688209533691,-2.8645074367523193,-0.9964454770088196,-15.795811653137207,-2.0094010829925537,-0.5899012684822083,4.963892459869385,-22.981660842895508,-3.193732976913452,-19.11857032775879,-15.184980392456055,-1.0617997646331787,7.470749378204346,-20.61916732788086,-10.050704002380371,-17.495357513427734,-8.998505592346191,-15.073123931884766,-19.422460556030273,-15.69143295288086,-3.6765213012695312,6.998644828796387,-3.1358580589294434,4.443027973175049,5.0323286056518555,3.4300377368927,4.979226112365723,-4.576931953430176,-0.5536996722221375,-3.366719961166382,7.098964214324951,4.096268653869629,4.1665239334106445,-0.571629524230957,5.455119609832764,-7.0221099853515625,-2.0131120681762695,-0.7404908537864685,1.297084093093872,-0.28115344047546387,11.09111213684082,-11.099845886230469,4.83410120010376,-19.775203704833984,0.7696039080619812,-14.643486022949219,-6.654680252075195,0.624914288520813,6.131477355957031,11.820791244506836,-16.12996482849121,0.13293755054473877,7.4861321449279785,0.15263310074806213,-8.988203048706055,12.544588088989258,-10.597426414489746,-15.637099266052246,-2.342268943786621,-1.4805026054382324,-5.463853359222412,-1.7102248668670654,3.1012227535247803,-1.9614087343215942,9.513214111328125,3.0165135860443115,1.7788666486740112,1.5103920698165894,-4.383756637573242,3.4508557319641113,0.659336507320404,-1.4022393226623535,-1.4440643787384033,0.5284634828567505,1.5582094192504883,1.3393447399139404,5.228667259216309,-1.781843900680542,-0.039133720099925995,0.5088373422622681,-3.5653679370880127,3.4810216426849365,4.516632556915283,-1.6303035020828247,4.773231506347656,1.6356674432754517,-7.484009265899658,-6.383812427520752,-5.76404333114624,1.0042203664779663,0.31103023886680603,2.601132869720459,1.6228681802749634,1.3225328922271729,-2.6074955463409424,0.20185823738574982,1.8297537565231323,-1.3941289186477661,-15.605225563049316,4.454921245574951,8.176580429077148,-6.536990165710449,-15.730700492858887,-0.1194085106253624,10.99233341217041,4.3073577880859375,8.997858047485352,9.65881061553955,8.20594310760498,-1.7725378274917603,9.268186569213867,11.749662399291992,3.108778476715088,-3.6955509185791016,-10.428553581237793,-0.7005163431167603,11.57894515991211,-8.529730796813965,-11.472160339355469,2.9543352127075195,-0.0235916618257761,-0.3245645761489868,-1.2622393369674683,3.771467447280884,0.18861345946788788,-9.666526794433594,-5.447351932525635,-14.726704597473145,-6.006766319274902,-7.0131402015686035,1.2213881015777588,-0.9302859306335449,-1.9245023727416992,-5.626987934112549,-1.4439698457717896,-3.4751975536346436,-1.7259681224822998,-2.349330186843872,-2.194683313369751,-4.225044250488281,-1.7553802728652954,-2.6321630477905273,-1.2167103290557861,3.83211612701416,3.190716028213501,-1.6404987573623657,-8.38940143585205,1.0869321823120117,1.6907469034194946,1.5396941900253296,-3.2257156372070312,-4.790356636047363,5.742013454437256,4.547027587890625,6.724771022796631,-2.585059642791748,-7.564787864685059,-2.8996784687042236,-7.680684566497803,2.1035001277923584,-3.9012255668640137,-0.6338855624198914,-2.6547718048095703,7.8590850830078125,9.358809471130371,4.933000564575195,7.4476237297058105,3.813061475753784,-11.383981704711914,6.379608154296875,-0.41488218307495117,-1.2063665390014648,1.482572078704834,11.705527305603027,6.816249370574951,-5.36985969543457,-0.45001551508903503,10.607818603515625,-7.460865497589111,0.4867066442966461,4.852274417877197,-7.985823631286621,1.1437026262283325,0.07908951491117477,7.650181293487549,-0.8881052136421204,-15.03456974029541,12.200478553771973,-1.9917473793029785,5.069575786590576,9.04109001159668,-1.7243163585662842,7.212669849395752,6.5194244384765625,-0.06324824690818787,-15.720111846923828,-0.14735610783100128,-3.260993480682373,-3.121042251586914,-1.2225172519683838,-12.81693172454834,0.6656838655471802,-9.0333251953125,-10.972512245178223,-1.1197937726974487,-17.806379318237305,-22.855937957763672,3.151320219039917,1.8771113157272339,6.708240509033203,4.341322422027588,5.131162643432617,4.071587562561035,-2.5639748573303223,-2.6711175441741943,1.1405010223388672,-1.0956904888153076,-4.574276924133301,3.9857490062713623,0.48048120737075806,3.999943494796753,6.716631889343262,5.422591686248779,0.5828683972358704,7.458410263061523,4.4048590660095215,-3.1606061458587646,-2.184682846069336,6.493563175201416,8.756343841552734,11.914438247680664,0.2987343370914459,-1.548444151878357,7.143567085266113,9.945079803466797,6.52677059173584,5.566891193389893,4.910398006439209,8.604898452758789,9.456467628479004,7.4513163566589355,5.1064372062683105,12.30199146270752,6.650372505187988,-0.813551127910614,4.351179122924805,-0.22622281312942505,-0.10626095533370972,-13.11563491821289,-2.915189743041992,10.41871166229248,-17.432064056396484,-16.506309509277344,-1.313482403755188,-6.411961078643799,-21.261497497558594,-5.860839366912842,-2.686371326446533,2.1053972244262695,-0.2850792706012726,4.825794696807861,-0.599534809589386,-8.592373847961426,-0.6963933706283569,0.129156231880188,9.610332489013672,2.826720714569092,-5.697763442993164,4.115258693695068,0.5687840580940247,-4.064617156982422,8.836197853088379,-2.960951089859009,7.793013572692871,9.771222114562988,4.18812894821167,-2.0084357261657715,8.279655456542969,10.512040138244629,-22.274709701538086,7.199261665344238,3.391608715057373,-14.600727081298828,10.990547180175781,6.973968982696533,1.6379274129867554,4.7102742195129395,1.6853917837142944,-1.7968930006027222,9.914938926696777,8.672150611877441,-1.984142780303955,-1.7063336372375488,-8.628896713256836,-3.2502386569976807,10.618853569030762,-1.826860785484314,8.533255577087402,4.740911960601807,8.328543663024902,8.218076705932617,4.858763217926025,-14.598161697387695,8.930309295654297,-23.104345321655273,-14.787261009216309,-10.121377944946289,-0.8625909686088562,-2.7243168354034424,-9.397258758544922,-0.2671583294868469,9.25163745880127,-3.6836111545562744,-12.357641220092773,-10.52149486541748,-11.992562294006348,-1.341239333152771,-2.753453493118286,2.845489025115967,-3.2413570880889893,1.7601327896118164,2.9651622772216797,9.559800148010254,4.619036674499512,-1.9787925481796265,-0.24695836007595062,5.261983871459961,-2.9198596477508545,5.702627658843994,-2.3887710571289062,5.572144508361816,-4.641536712646484,-6.813025951385498,-0.31054338812828064,-3.1648244857788086,-8.626298904418945,4.773728847503662,0.3009190857410431,-3.8639535903930664,3.614628791809082,-7.327919006347656,6.25248384475708,-2.2820591926574707,-0.411266028881073,7.140477180480957,7.923501491546631,13.099580764770508,8.227869033813477,2.8266336917877197,-0.7029711604118347,-20.490324020385742,10.419452667236328,5.1259446144104,-11.423354148864746,-1.694044828414917,-2.8833513259887695,7.709226608276367,-7.407534599304199,4.666224002838135,8.018159866333008,-18.878276824951172,1.079496145248413,9.756845474243164,-3.4369161128997803,-14.70579719543457,-2.485342264175415,-3.5083060264587402,-9.763313293457031,-2.6417291164398193,-10.477747917175293,-11.400764465332031,-9.673590660095215,-3.605010747909546,-4.598221778869629,-3.4739761352539062,-0.3268241286277771,-8.529155731201172,4.89634370803833,-5.187666416168213,-2.203476905822754,-3.367401361465454,6.685779094696045,3.8455162048339844,1.9552403688430786,-5.369889736175537,0.6569839715957642,-3.1208982467651367,-6.3880615234375,3.4622702598571777,-0.34176620841026306,2.907313108444214,5.571403503417969,1.3953447341918945,0.19448719918727875,-11.683919906616211,8.480438232421875,5.315276622772217,-0.5303137302398682,-14.593791007995605,7.472835540771484,5.97233772277832,-8.333550453186035,9.649279594421387,6.52910041809082,-0.26368623971939087,11.120942115783691,12.241683959960938,12.424705505371094,-1.7829922437667847,3.862508535385132,-14.763833045959473,-4.032506942749023,-14.375142097473145,-12.866539001464844,-0.8673543334007263,-15.94543170928955,12.593172073364258,-0.0020097256638109684,-21.955190658569336,-3.0740838050842285,-18.519432067871094,-0.9211182594299316,-10.869349479675293,-9.075543403625488,-10.040200233459473,-3.3041727542877197,-11.64100170135498,-13.856731414794922,-20.72768211364746,3.2665629386901855,2.9469153881073,-0.4398655891418457,-3.58972430229187,-1.6179453134536743,-7.604152679443359,7.521422386169434,4.555846691131592,-5.482952117919922,6.233980178833008,9.84993839263916,-10.916255950927734,-0.6380007863044739,-1.513909935951233,8.023216247558594,-19.186304092407227,-7.437864780426025,-21.46363639831543,-0.7056354880332947,2.5297954082489014,-3.154439687728882,7.956607818603516,-20.830299377441406,-0.9100704789161682,9.839198112487793,5.381221771240234,-10.317671775817871,-10.95553207397461,-13.27079963684082,-1.1070424318313599,-15.382104873657227,-4.68515682220459,-2.5246710777282715,-4.402341365814209,0.6834720969200134,3.781176805496216,-1.6116400957107544,5.801182270050049,1.3375838994979858,2.6723263263702393,6.622211933135986,0.7058770656585693,-2.2537682056427,-3.1476616859436035,5.71666955947876,5.081189155578613,9.614601135253906,10.164958953857422,-0.8983338475227356,3.9500865936279297,8.633624076843262,10.98041820526123,8.94296932220459,10.323529243469238,12.849991798400879,6.538136005401611,-14.108877182006836,8.439723014831543,10.607417106628418,7.38413667678833,7.357643127441406,-20.078432083129883,6.090139865875244,-8.229223251342773,-1.7029249668121338,7.727015972137451,-8.262774467468262,7.306276798248291,12.83639144897461,9.778630256652832,-3.1029903888702393,8.535038948059082,-2.5728542804718018,-22.16805648803711,8.199156761169434,9.853575706481934,-15.582758903503418,-14.754156112670898,9.195037841796875,-3.29866361618042,-15.216559410095215,-8.523014068603516,-8.052589416503906,-11.246753692626953,-15.972760200500488,-6.388718605041504,-5.6219305992126465,-15.720352172851562,-2.609715461730957,9.661218643188477,-3.351886749267578,6.588080406188965,3.9958484172821045,-6.792291164398193,9.163442611694336,-15.174596786499023,3.779165506362915,-2.451267957687378,-7.103261947631836,7.966230869293213,10.441590309143066,-12.039813995361328,-12.491897583007812,-22.706308364868164,-2.07354736328125,-14.759474754333496,-11.297050476074219,-22.623363494873047,4.266068458557129,3.185488700866699,-0.9137360453605652,0.9149928092956543,-3.7066972255706787,1.1597375869750977,-3.2728726863861084,-3.6086668968200684,7.026208400726318,-8.630343437194824,-8.56886100769043,7.878819465637207,8.76551342010498,-3.933248996734619,6.807253360748291,12.693109512329102,8.82277774810791,3.069467782974243,0.3096102774143219,3.463502883911133,-0.273639976978302,6.080479621887207,8.044447898864746,5.739893436431885,0.2955206334590912,9.145100593566895,-3.0823445320129395,8.031867027282715,-12.955406188964844,7.273322105407715,-13.240484237670898,-19.670515060424805,1.1784433126449585,-1.4024169445037842,5.769080638885498,8.840814590454102,-0.3255901336669922,11.7186861038208,-21.719215393066406,0.18815287947654724,9.848971366882324,-0.43542757630348206,10.456511497497559,6.813291072845459,10.889957427978516,8.001476287841797,-0.37419235706329346,8.79629898071289,9.19880485534668,-2.4099884033203125,-0.21957698464393616,4.894005298614502,4.044944763183594,-1.3453309535980225,6.418760776519775,2.205254077911377,7.529923915863037,-0.6314987540245056,2.776533603668213,7.606812953948975,1.8607780933380127,1.044738531112671,1.2249014377593994,-0.26000961661338806,7.068883895874023,4.467529773712158,4.039595603942871,3.2785236835479736,-2.4776885509490967,-3.7519118785858154,1.096472978591919,3.8946146965026855,-6.4264817237854,5.445742130279541,0.34351846575737,2.9172229766845703,-1.1170686483383179,5.054290771484375,-4.196159839630127,-0.5312080979347229,3.8014075756073,5.350910663604736,4.967989444732666,4.72438383102417,-3.119539737701416,5.189610958099365,3.683720111846924,7.154533386230469,-8.542303085327148,-2.1321041584014893,-0.23325015604496002,6.343398094177246,6.126988887786865,-6.827795505523682,3.862663507461548,-2.1141650676727295,8.580355644226074,-7.908616542816162,0.7408568263053894,4.0126824378967285,8.39749526977539,10.9638090133667,7.683094501495361,6.683611869812012,1.9006314277648926,1.6060090065002441,6.514775276184082,9.837990760803223,12.680335998535156,12.205774307250977,5.229757785797119,6.495593547821045,-0.10996127128601074,11.608996391296387,6.488875865936279,0.645851731300354,9.298762321472168,-15.333417892456055,0.7358512878417969,-5.278863430023193,12.587529182434082,-10.286925315856934,3.5080182552337646,1.7551496028900146,-3.1421048641204834,11.605635643005371,-19.891603469848633,7.495832443237305,9.438899993896484,10.537134170532227,5.862985134124756,-2.7105650901794434,1.4633969068527222,4.26689338684082,6.55940055847168,-1.6431570053100586,-2.355510950088501,-12.819451332092285,8.382007598876953,-5.616529941558838,-10.483831405639648,-19.295650482177734,-2.0343892574310303,-15.404048919677734,-8.363484382629395,-1.7827510833740234,-3.6182641983032227,-5.042220592498779,3.791171073913574,10.658101081848145,7.569029331207275,7.647305965423584,-6.39513635635376,-7.051271438598633,1.1887173652648926,9.575348854064941,5.23541259765625,-0.5846983194351196,-2.887779951095581,-11.549745559692383,8.93615436553955,-0.23380881547927856,6.599679946899414,-7.307539939880371,4.112614154815674,-0.5046838521957397,-10.31003189086914,-8.504182815551758,5.369128227233887,-2.620180130004883,-10.671351432800293,-7.013948917388916,6.379088878631592,-0.46115022897720337,-0.6785863041877747,-20.307910919189453,-21.263721466064453,9.953886032104492,-21.949995040893555,-1.1935731172561646,-1.026312232017517,-22.845266342163086,12.106453895568848,8.744903564453125,-0.52333664894104,-4.167653560638428,-13.275779724121094,-6.81026029586792,-19.681800842285156,-22.45639991760254,-0.9144499897956848,-1.1630550622940063,-0.9260509610176086,10.03719711303711,-6.832733631134033,0.459888219833374,8.736888885498047,-1.0275180339813232,8.291619300842285,-3.2714946269989014,3.9337756633758545,2.961822986602783,0.9940938949584961,-3.264475107192993,9.686444282531738,-2.5675547122955322,9.030919075012207,-14.90632438659668,0.1331661194562912,-0.17276358604431152,-1.1840791702270508,6.649659156799316,7.003600120544434,-20.25884246826172,-3.9925894737243652,12.091323852539062,8.191692352294922,1.1731948852539062,-22.602994918823242,-2.2378926277160645,-13.628740310668945,-13.820537567138672,-5.546019554138184,-15.792844772338867,-3.0683271884918213,-2.4804978370666504,-2.3889946937561035,2.1278436183929443,4.151341915130615,-2.440981864929199,-0.5390747785568237,5.299194812774658,-0.13633383810520172,-9.865314483642578,6.549026966094971,-15.460933685302734,0.04883898049592972,-11.463356018066406,5.129709243774414,-1.6553122997283936,-8.647696495056152,-18.693944931030273,8.370793342590332,-2.272730827331543,-7.764451503753662,-1.275839924812317,2.689905881881714,4.332706451416016,-7.812849998474121,-1.1704894304275513,9.104446411132812,10.370718002319336,0.2366061806678772,4.600039482116699,-0.9903395771980286,8.759025573730469,-6.461158752441406,11.88546085357666,-18.25875473022461,-1.4468677043914795,-8.800875663757324,-2.530259609222412,-2.734684467315674,-18.229143142700195,-10.304845809936523,-10.317944526672363,5.091402053833008,-8.626517295837402,-1.315487027168274,-7.173094272613525,-15.352620124816895,6.3658623695373535,6.477227687835693,-7.5732903480529785,-3.6161646842956543,-19.994140625,8.69721508026123,5.017427921295166,6.780807018280029,-17.592857360839844,-17.079118728637695,-14.030402183532715,-6.140092372894287,-3.2220346927642822,6.575162410736084,9.684948921203613,-0.7682375311851501,-10.073221206665039,9.500190734863281,8.473369598388672,-3.5582263469696045,-7.332240581512451,-6.51448917388916,-17.365488052368164,-2.1998040676116943,-2.1304609775543213,1.3304942846298218,3.450223684310913,6.814379692077637,2.532456874847412,1.5023187398910522,2.8323466777801514,1.1697893142700195,5.690331935882568,-1.5496891736984253,8.068596839904785,1.8480374813079834,1.36411452293396,1.3852331638336182,1.4681098461151123,5.148656368255615,8.809280395507812,4.8888654708862305,9.425446510314941,10.172121047973633,0.22015365958213806,8.092668533325195,-8.698739051818848,11.957573890686035,8.265527725219727,5.757647514343262,9.843846321105957,11.838358879089355,10.721170425415039,7.533926486968994,11.20585823059082,11.175505638122559,-17.533573150634766,9.36668872833252,7.093813896179199,-3.6398801803588867,6.879213333129883,0.4579918384552002,-23.260425567626953,0.03134573623538017,-2.8527722358703613,-13.265496253967285,-10.360737800598145,-1.9323599338531494,-17.903175354003906,-1.9885289669036865,5.559784889221191,1.9072283506393433,-0.4392493665218353,7.226826190948486,4.601536750793457,-2.968783140182495,-2.991608142852783,4.22593879699707,4.081301212310791,-6.040816307067871,11.854541778564453,-12.381235122680664,0.7537329792976379,-22.295026779174805,0.040255121886730194,-8.500362396240234,11.301252365112305,-16.596826553344727,-18.86227798461914,11.012460708618164,-1.745686411857605,-9.495109558105469,-13.448908805847168,-6.6156415939331055,-14.48034381866455,-3.251107931137085,-0.6775797605514526,1.5712708234786987,-1.793235421180725,9.012282371520996,1.3865530490875244,2.1111719608306885,1.0763472318649292,-1.5458803176879883,-2.8275372982025146,1.69813072681427,0.018200181424617767,1.2382146120071411,-2.8903675079345703,3.1172444820404053,3.493931531906128,-5.93719482421875,10.022268295288086,-2.3213417530059814,0.6552454829216003,1.2362607717514038,-4.4632415771484375,7.761714935302734,4.520992279052734,-1.1698474884033203,-1.4331148862838745,5.6057305335998535,0.024899788200855255,6.80963659286499,4.110476970672607,-1.1993882656097412,-0.5101027488708496,1.3748103380203247,-1.1843185424804688,-3.2113263607025146,10.009504318237305,8.508660316467285,1.682117223739624,-2.5231027603149414,-0.7160336971282959,3.5720574855804443,2.042104959487915,-4.350718975067139,4.189610481262207,-0.022848324850201607,-4.572358131408691,1.2173972129821777,-7.760431289672852,-4.569417476654053,0.32001572847366333,0.9644690155982971,3.5554723739624023,8.94908618927002,-4.628236293792725,2.741722345352173,3.3336403369903564,-0.10444026440382004,2.5323524475097656,3.335850238800049,-7.710665225982666,7.224269390106201,5.239838123321533,3.817617416381836,4.457335948944092,-0.6773101687431335,5.698464393615723,9.601140022277832,1.5708686113357544,8.702712059020996,6.075929164886475,-8.458345413208008,-1.3558928966522217,-8.436418533325195,4.2191548347473145,5.446766376495361,-6.659805774688721,8.418867111206055,6.184210300445557,1.604580283164978,2.9205989837646484,4.303502082824707,8.612251281738281,8.060442924499512,5.2573676109313965,3.948204278945923,-2.1090524196624756,0.26107996702194214,-10.083816528320312,8.059846878051758,6.389850616455078,3.4404566287994385,8.84762954711914,6.584692001342773,-2.103726863861084,-5.433043479919434,5.920652389526367,9.687729835510254,-1.0329848527908325,4.413531303405762,6.771708011627197,-0.6030506491661072,12.582982063293457,7.507584095001221,-2.5764713287353516,-7.9625468254089355,-20.284927368164062,9.11658000946045,-2.1048970222473145,11.974754333496094,-3.971933126449585,-0.7945774793624878,8.378629684448242,5.257800102233887,-4.869777679443359,-2.225792169570923,-4.132599830627441,12.564545631408691,7.151276588439941,6.660223960876465,10.483890533447266,12.761265754699707,8.606184959411621,0.31380149722099304,-2.0805084705352783,11.988807678222656,12.397997856140137,9.403483390808105,-8.397725105285645,2.889657735824585,-14.050935745239258,9.039209365844727,12.295059204101562,-11.186141967773438,8.203396797180176,0.4627964198589325,-11.542600631713867,-5.937458038330078,9.297255516052246,-8.63168716430664,7.8167548179626465,7.451061248779297,-21.839130401611328,-8.795186996459961,-1.9445267915725708,10.477945327758789,-8.803199768066406,-10.382726669311523,-10.289992332458496,-0.4245833158493042,-1.1687664985656738,-2.265899181365967,-3.2917873859405518,0.9112612009048462,9.718700408935547,8.191447257995605,8.887402534484863,3.2753794193267822,-3.226482629776001,-0.25857892632484436,3.9696033000946045,7.256250381469727,4.666840076446533,8.796126365661621,12.46663761138916,12.111392974853516,5.972765922546387,8.445137977600098,8.684957504272461,-11.084522247314453,-0.8028261661529541,-3.7047641277313232,10.9557466506958,-2.950778007507324,-5.9583330154418945],\"z\":[2.7881968021392822,-13.386903762817383,-7.730499267578125,0.3814474940299988,-4.3334503173828125,2.3973662853240967,-3.21286940574646,3.5731306076049805,5.6897969245910645,4.531996250152588,-1.8674675226211548,-9.353172302246094,-14.699344635009766,-11.25347900390625,-4.514715194702148,0.9476475119590759,-12.054064750671387,-13.446636199951172,-12.815366744995117,-10.45738410949707,-0.6762123107910156,-11.274259567260742,-6.894198894500732,5.605656623840332,1.66371750831604,-2.1877806186676025,-9.354726791381836,-13.010375022888184,-6.91403865814209,1.200898289680481,2.222987651824951,-6.061073303222656,-5.548731327056885,-4.1088433265686035,-7.926924228668213,-13.149206161499023,-15.164971351623535,6.373692512512207,-4.339062690734863,-6.520265579223633,7.20087194442749,-8.390411376953125,-1.6833661794662476,9.91688060760498,1.311147689819336,-14.750066757202148,-11.319653511047363,10.842164039611816,9.337897300720215,7.093831539154053,-3.638380289077759,-3.252890110015869,-6.197943210601807,-2.458862781524658,-9.237386703491211,-1.1800487041473389,-4.106890678405762,-4.069716930389404,-3.4862115383148193,-2.691687822341919,-0.2517278492450714,-1.0613179206848145,7.1226911544799805,1.354532241821289,-1.7234511375427246,7.552487850189209,-3.647988796234131,6.248326301574707,8.519908905029297,-1.9860992431640625,3.831207036972046,-8.151841163635254,-11.887611389160156,-5.176978588104248,3.5533063411712646,0.7215587496757507,-7.106506824493408,-13.641809463500977,-2.3386270999908447,-2.314107894897461,-12.8535737991333,-3.2165327072143555,-1.9272252321243286,0.08379612863063812,-9.400371551513672,-0.580521821975708,7.937706470489502,1.8721911907196045,-8.015518188476562,0.7600279450416565,-0.7315753102302551,-3.813577651977539,0.8337316513061523,1.0131254196166992,-5.387587070465088,5.754292964935303,-5.948487758636475,-5.898316383361816,10.675910949707031,6.572580337524414,0.31132879853248596,8.371513366699219,7.158790111541748,6.466917991638184,-8.226211547851562,1.4463781118392944,6.104995250701904,-4.707864761352539,-2.2748494148254395,6.4174370765686035,-1.4287062883377075,3.6225180625915527,-3.0456039905548096,-3.9093573093414307,5.833310127258301,4.553714275360107,1.7540431022644043,3.443912982940674,4.429422855377197,-13.796148300170898,-1.9711103439331055,-3.0499682426452637,4.877898216247559,5.061525821685791,-1.116708755493164,4.618743419647217,-6.036497116088867,-11.89688491821289,2.315654754638672,6.74384069442749,-6.076617240905762,6.380852222442627,-14.128737449645996,10.921411514282227,7.101110458374023,1.0500340461730957,7.556609153747559,6.310296535491943,1.1108938455581665,5.13391637802124,9.319087028503418,3.872051477432251,0.8832056522369385,6.102904319763184,-1.6942617893218994,-4.263111591339111,10.094437599182129,4.637775897979736,-0.39121076464653015,-3.3108456134796143,-2.9326791763305664,0.07585635036230087,-3.9576704502105713,-1.9058613777160645,0.9789751172065735,0.32719969749450684,-7.369081974029541,-14.809175491333008,-5.607928276062012,4.344123840332031,-7.171074390411377,-2.611532688140869,-13.44621467590332,5.610071182250977,3.0121657848358154,0.8657219409942627,-11.812164306640625,4.511927127838135,5.801475524902344,-2.703289747238159,1.7315096855163574,8.20910930633545,-11.614912986755371,-14.439539909362793,11.065665245056152,-4.250295639038086,-0.2576709985733032,-5.744424343109131,-1.3391013145446777,-13.592503547668457,-0.715828537940979,1.5540010929107666,-12.124446868896484,-4.101372718811035,-6.01511287689209,-4.129045486450195,-6.630132675170898,4.610215663909912,-6.6429762840271,1.8604615926742554,0.9136483669281006,-3.4136924743652344,-4.140432357788086,9.996797561645508,-13.76051139831543,-0.3547614812850952,6.149593830108643,-8.85385799407959,0.8500317335128784,-1.6550958156585693,-13.160855293273926,-5.175612449645996,-12.227139472961426,4.432069778442383,1.0390814542770386,3.1177635192871094,-13.291352272033691,-12.502251625061035,-11.88215160369873,-10.318123817443848,-0.4857308268547058,5.034361839294434,5.403105735778809,-2.707104444503784,-3.317443370819092,3.7498939037323,-7.231609344482422,-11.657156944274902,-12.795604705810547,-3.6836612224578857,-7.219665050506592,4.617676258087158,1.6817588806152344,4.4801554679870605,-8.287476539611816,-8.797036170959473,-8.26280403137207,-4.561582088470459,-2.4538989067077637,6.204249382019043,5.7452473640441895,-4.478100776672363,-11.026464462280273,0.9978235363960266,-2.366913080215454,0.8431809544563293,4.464529991149902,1.0166352987289429,7.914658546447754,6.894176006317139,1.6365858316421509,-9.786282539367676,-6.806350231170654,-0.5470911264419556,-9.772536277770996,5.938924312591553,-6.0285162925720215,0.995841920375824,6.164973735809326,-2.408623456954956,-13.926826477050781,-5.943565368652344,-1.4352835416793823,-3.6881158351898193,-12.17356014251709,-1.2871191501617432,-5.44826078414917,2.8398118019104004,-3.288835287094116,-3.1872024536132812,-3.404353141784668,3.8626275062561035,-4.447179317474365,-0.613720715045929,1.7379497289657593,-14.159512519836426,-1.2989652156829834,-2.091473340988159,-0.3988231122493744,4.829897880554199,3.534219264984131,5.892811298370361,5.789638996124268,4.559613227844238,4.662712574005127,4.695337295532227,3.0410938262939453,6.055522441864014,6.240787982940674,-12.173175811767578,-9.739019393920898,1.968794345855713,-1.1289077997207642,-9.372200012207031,-1.6820671558380127,4.327016353607178,5.119275093078613,-5.808608055114746,-5.8975300788879395,-5.401167869567871,7.307100296020508,4.605148792266846,3.54179310798645,1.835985541343689,-8.589471817016602,5.581629753112793,5.855626583099365,4.481621265411377,-4.66145133972168,-1.4427094459533691,3.740678310394287,-7.6168060302734375,-0.35902661085128784,0.09187129139900208,7.535358905792236,6.533106803894043,3.424717664718628,-8.743507385253906,-0.7858972549438477,-7.8206071853637695,2.30361008644104,10.97747802734375,6.686017036437988,1.5132731199264526,-12.834186553955078,1.8918448686599731,2.1397016048431396,-13.492889404296875,4.179359436035156,-0.887868344783783,8.622325897216797,-0.11429835855960846,0.1142587959766388,8.22562313079834,-7.368431568145752,-5.768677711486816,0.48070013523101807,9.113202095031738,7.162595748901367,7.67440128326416,0.634381115436554,9.777194023132324,6.054543495178223,8.239679336547852,11.049416542053223,-4.233251571655273,3.9125542640686035,0.12059859186410904,-0.3863244652748108,11.257525444030762,-3.390333414077759,1.0105270147323608,-9.702260971069336,-9.07903003692627,0.08761969208717346,-3.9773976802825928,4.952180862426758,-0.9013494253158569,7.054886817932129,-13.792153358459473,-1.2504171133041382,2.1761727333068848,-13.449285507202148,6.978491306304932,4.951060771942139,6.34705114364624,0.061207640916109085,-0.6097056269645691,2.590196371078491,-4.749436378479004,-6.798369884490967,5.6714067459106445,4.925140857696533,7.773708343505859,2.130505084991455,-4.33144474029541,3.8513126373291016,10.501419067382812,-8.301615715026855,-3.8184375762939453,-7.993844985961914,-4.7228569984436035,1.959526538848877,-10.176790237426758,11.146108627319336,-8.437578201293945,-12.647968292236328,-4.425650596618652,0.11959764361381531,3.9971940517425537,0.9971855282783508,6.6309285163879395,5.055243968963623,-4.272143840789795,7.518999099731445,1.370609164237976,-3.5227181911468506,-3.552964687347412,9.847872734069824,1.21381413936615,-0.06681772321462631,4.4372076988220215,2.848681688308716,5.24681282043457,4.47109842300415,-6.352830410003662,1.6913325786590576,1.8935115337371826,-4.530162334442139,-11.960249900817871,-5.423734188079834,-8.776542663574219,4.5165228843688965,3.621954917907715,6.929560661315918,4.456243515014648,-4.022137641906738,6.26265811920166,-7.268259525299072,-1.737653136253357,4.8440117835998535,5.139682769775391,-2.210721969604492,-7.7055182456970215,0.3528078496456146,8.325544357299805,0.5304766297340393,-0.7383831739425659,3.773084878921509,-0.057968854904174805,-2.9605026245117188,-8.636598587036133,-12.993844985961914,-9.656935691833496,-1.0552258491516113,-4.003765106201172,5.324037075042725,6.453994274139404,1.7220669984817505,5.639461040496826,-4.929074764251709,9.385811805725098,3.063735008239746,2.276939630508423,9.943753242492676,-6.734005928039551,-8.092609405517578,-0.7364135980606079,10.885581016540527,1.3027721643447876,-0.5773312449455261,1.4960728883743286,10.887528419494629,7.660491943359375,0.5185765624046326,4.297617435455322,-1.09401273727417,8.660263061523438,-4.131032466888428,-2.395127058029175,0.8491277694702148,-1.2651610374450684,5.817627429962158,-7.084589004516602,2.9880990982055664,-8.914634704589844,-8.03134822845459,-1.887335181236267,-3.508638381958008,5.453835964202881,4.231505870819092,5.878477096557617,8.033920288085938,-2.552001476287842,2.345031976699829,-0.446657657623291,5.233628749847412,1.5335479974746704,-4.0498857498168945,8.462348937988281,1.7314342260360718,-2.953425407409668,3.1162075996398926,4.345414161682129,-7.681532382965088,2.250802755355835,7.314856052398682,6.469551086425781,4.708845615386963,9.083023071289062,9.99577808380127,1.2381829023361206,4.430189609527588,2.3296332359313965,8.744107246398926,-1.287812352180481,6.974985599517822,-11.616592407226562,0.14530381560325623,-11.56318473815918,7.760959148406982,9.80867862701416,4.616032123565674,-13.047696113586426,-0.31147149205207825,-2.394503593444824,4.571873188018799,6.754308223724365,6.041181564331055,-4.137037754058838,9.3560791015625,7.085113525390625,-3.4713239669799805,9.47381591796875,-0.7609598636627197,0.11519107967615128,-1.1163660287857056,-14.806199073791504,5.256847858428955,6.006349563598633,-12.901260375976562,2.0094153881073,-10.5396089553833,4.866761207580566,5.609106540679932,6.074701309204102,-4.254771709442139,-2.3018956184387207,-8.601118087768555,3.8169021606445312,2.8626868724823,8.170513153076172,1.6838167905807495,-12.303656578063965,8.277623176574707,-6.216668128967285,-4.963190078735352,-14.231372833251953,8.32071590423584,0.5049782991409302,4.724647521972656,-8.818367958068848,9.896344184875488,-0.7381831407546997,-11.347476959228516,-4.378086566925049,1.1529077291488647,-5.53267765045166,-6.175696849822998,7.637362480163574,6.399653434753418,-4.378080368041992,-5.930379390716553,8.389592170715332,-0.8814292550086975,-0.42762139439582825,8.117109298706055,-0.9194226861000061,-1.774031400680542,10.887887954711914,-3.6811363697052,-5.919452667236328,-12.06563949584961,0.16648750007152557,7.402331829071045,-2.2725682258605957,9.047401428222656,-3.849050283432007,-3.0113816261291504,-3.3123891353607178,9.103293418884277,-4.037665843963623,-4.312188625335693,-0.6771778464317322,4.967244625091553,-2.9873762130737305,7.930570125579834,3.7764487266540527,5.617609977722168,4.5902099609375,-7.617669582366943,-1.4848459959030151,1.5936859846115112,2.5751078128814697,-3.717149257659912,-0.4424092769622803,8.841915130615234,6.954328536987305,9.738486289978027,-1.8522909879684448,1.4986636638641357,-0.1761263906955719,8.740320205688477,2.3808703422546387,2.4233486652374268,-7.405089855194092,-0.5488318204879761,0.5952238440513611,-9.69949722290039,3.3547523021698,-2.420652151107788,-3.752573013305664,-1.6187468767166138,10.861980438232422,0.6054458618164062,5.28758430480957,4.502934455871582,5.562619209289551,-13.526655197143555,-6.763421535491943,4.90709924697876,2.6430585384368896,-10.174437522888184,-8.003689765930176,-10.388776779174805,3.2978458404541016,-15.062021255493164,8.403396606445312,-11.777650833129883,4.628391742706299,-2.0703916549682617,-1.434446096420288,1.1593111753463745,-1.3605868816375732,-7.874947547912598,7.494664192199707,5.375969886779785,1.1091196537017822,0.8361443877220154,6.763552665710449,-1.1119059324264526,10.201217651367188,6.4198713302612305,-7.8756537437438965,-8.392340660095215,-0.8502897024154663,-5.741019248962402,1.047084093093872,10.415844917297363,9.170536994934082,1.0788097381591797,-1.5402867794036865,1.8803043365478516,6.760346412658691,8.929301261901855,5.692829132080078,6.56809139251709,0.9973654747009277,6.778090000152588,7.027041912078857,0.7817506790161133,-0.43251916766166687,5.914745330810547,6.036921977996826,-4.401580810546875,-2.5011229515075684,-1.7692158222198486,-3.9236955642700195,-3.8513145446777344,1.433674693107605,-0.3968797028064728,-4.182989120483398,6.2016425132751465,-1.7967090606689453,4.444889545440674,-6.008133888244629,7.3017191886901855,4.522240161895752,-7.8543782234191895,0.08605029433965683,-11.980791091918945,-15.023175239562988,4.575693607330322,9.703588485717773,1.3545196056365967,-4.069730758666992,1.1885178089141846,1.349611759185791,6.4538140296936035,-4.185853958129883,-4.077957630157471,1.3395915031433105,-4.8974833488464355,-10.445540428161621,-10.187294006347656,2.9692420959472656,0.30707108974456787,-8.971951484680176,4.455554008483887,3.8042359352111816,0.7161954045295715,1.7183642387390137,1.9350732564926147,-0.5556975603103638,-7.905357360839844,3.1292059421539307,-4.292185306549072,0.4036951959133148,-9.773371696472168,-12.006905555725098,6.2207183837890625,-5.335659027099609,9.59174633026123,-7.872997760772705,-9.786420822143555,-4.418797492980957,3.847942590713501,11.00014877319336,7.396326065063477,-9.661666870117188,1.327414631843567,-0.8100140690803528,-4.286077499389648,-1.8424464464187622,-10.62238597869873,6.079564571380615,2.8519723415374756,2.116946220397949,5.949929714202881,-5.9880876541137695,0.4186050593852997,6.169306755065918,-8.619990348815918,4.67185115814209,-7.726741313934326,8.211766242980957,-4.2874860763549805,3.4566123485565186,7.293973445892334,10.4847993850708,3.124948263168335,7.906655788421631,4.9403300285339355,-5.443978786468506,-7.8121490478515625,-14.5265474319458,-10.445343971252441,-2.1375386714935303,-9.913278579711914,5.850058555603027,-8.894089698791504,-6.197693347930908,-5.137845993041992,-11.382223129272461,-10.18860149383545,4.202948570251465,-6.081395626068115,-11.914713859558105,2.5867271423339844,-6.474315643310547,-13.402752876281738,5.586492538452148,-1.0554977655410767,-4.918069839477539,1.6563096046447754,2.630399227142334,-12.299429893493652,-2.8717048168182373,2.306095838546753,4.296142578125,4.435767650604248,-12.93544864654541,-11.174233436584473,-6.752317428588867,4.257780075073242,-3.3351259231567383,8.201014518737793,3.2184605598449707,-11.575045585632324,-8.509293556213379,1.8823697566986084,-3.6469035148620605,2.5728392601013184,-7.124579429626465,-4.247825622558594,4.507017612457275,5.580723762512207,-5.106049060821533,-9.054040908813477,1.7235296964645386,-10.103116989135742,6.562628269195557,10.335005760192871,2.4659337997436523,4.792369365692139,-9.691497802734375,-5.848918914794922,-13.779862403869629,0.16697268187999725,-1.8063613176345825,0.8036625385284424,-7.765664577484131,-9.419111251831055,7.993964195251465,7.600257873535156,-5.931753635406494,-0.5554951429367065,-11.425880432128906,5.486606121063232,0.8363985419273376,-14.522649765014648,2.366582155227661,0.3540346026420593,1.6200882196426392,-2.9329781532287598,-13.2949857711792,9.276188850402832,-5.961533546447754,-0.8644217848777771,9.58258056640625,-7.904624938964844,-7.7197465896606445,-11.95095157623291,9.696039199829102,-3.108983278274536,-0.1347646862268448,8.091263771057129,10.449593544006348,6.628039360046387,-4.233558177947998,2.8253612518310547,0.5740537643432617,-0.7577211260795593,-1.4356721639633179,-14.61623764038086,0.6541565656661987,-1.9246026277542114,6.297558784484863,2.9298105239868164,4.957086086273193,-7.516531467437744,-9.732102394104004,-4.452346324920654,-7.1754984855651855,1.6431763172149658,1.7088570594787598,-10.075822830200195,-7.912994861602783,2.39190936088562,9.324090003967285,7.6173624992370605,0.32087692618370056,10.78342342376709,9.670780181884766,-1.399317979812622,2.2291088104248047,4.168301105499268,4.55305814743042,1.6348785161972046,1.3686769008636475,1.991046667098999,0.9391339421272278,-0.6450655460357666,1.328315019607544,-4.25103759765625,8.520378112792969,9.242616653442383,-1.4936821460723877,0.02933606505393982,-7.8801727294921875,0.8049607872962952,10.754396438598633,10.673054695129395,0.6650261282920837,-0.33620384335517883,10.769095420837402,0.3338596820831299,7.572690963745117,-1.6160917282104492,1.2721703052520752,-1.9919946193695068,0.736332356929779,6.030185699462891,6.396566867828369,5.887024402618408,-0.6982302069664001,4.503495693206787,-12.095337867736816,0.41739174723625183,-4.719673156738281,-2.574009418487549,7.083451747894287,6.589537143707275,-9.947142601013184,2.6812124252319336,4.389142990112305,-1.7663277387619019,7.1447834968566895,-6.079589366912842,-0.38590681552886963,6.873769283294678,6.6607818603515625,11.115334510803223,6.860767364501953,8.093179702758789,-0.73255455493927,8.20428466796875,-4.377852439880371,10.28892707824707,4.631136894226074,0.4094010293483734,8.03377628326416,-1.4297696352005005,-1.3114852905273438,-0.371690034866333,0.6684252619743347,3.0480756759643555,0.21911592781543732,4.524669170379639,-2.1862878799438477,-8.2655029296875,7.4819111824035645,5.540101051330566,-5.350860595703125,7.896212577819824,1.1904767751693726,8.076089859008789,0.3425590395927429,5.635341644287109,0.20101678371429443,4.912292957305908,5.360564231872559,1.5501110553741455,-2.0499937534332275,4.985748767852783,-14.96035385131836,1.781111240386963,-14.606475830078125,-10.798632621765137,-7.587418079376221,1.792635440826416,8.85315227508545,5.255964756011963,1.3769806623458862,6.189697742462158,-2.8513741493225098,10.170494079589844,4.989947319030762,2.026660919189453,-6.024892807006836,-2.857013702392578,8.643159866333008,1.7160513401031494,9.614535331726074,9.672978401184082,-2.8984549045562744,-3.6888816356658936,-3.692993402481079,4.681293964385986,1.778967261314392,5.624229907989502,1.627996802330017,0.24068893492221832,7.030953884124756,-0.5144035816192627,1.599560022354126,2.930579423904419,-1.2161592245101929,10.734724998474121,2.4038174152374268,7.994064807891846,-3.1885781288146973,-3.5161685943603516,-4.320472717285156,1.6051766872406006,3.6047728061676025,-0.2478361576795578,-1.7667237520217896,7.380977153778076,1.4516521692276,11.167789459228516,4.719046115875244,7.042357921600342,2.2549540996551514,1.2230653762817383,-2.9059126377105713,-4.662486553192139,-3.4084548950195312,-1.501141905784607,-1.6451928615570068,-4.231112480163574,5.468011856079102,-8.881575584411621,-3.015796661376953,-10.657142639160156,-10.254318237304688,-13.731890678405762,-0.33722615242004395,1.6047749519348145,-8.284683227539062,-7.353663444519043,-8.720442771911621,5.091904640197754,-4.091783046722412,1.935075044631958,3.422574043273926,6.234664440155029,8.357996940612793,10.211954116821289,1.609880805015564,-7.0684661865234375,-9.663532257080078,-6.6598639488220215,-1.8541300296783447,-0.6305537223815918,6.473654747009277,8.971529960632324,7.630706310272217,7.607616424560547,-3.0393459796905518,5.719575881958008,-11.115406036376953,8.71435832977295,7.963080883026123,8.725648880004883,1.4612497091293335,10.036262512207031,7.564995288848877,-1.6211674213409424,-0.8198411464691162,-2.2402641773223877,-2.662550926208496,-2.124373435974121,-2.8749992847442627,-7.528179168701172,-14.349815368652344,-6.175286769866943,-4.2382612228393555,2.673985719680786,4.448065280914307,5.706236839294434,4.626658916473389,-0.3945654034614563,-0.6101789474487305,1.1365402936935425,-10.131362915039062,0.9399166107177734,4.132798671722412,1.3638765811920166,7.713980674743652,-3.907064914703369,-2.274843692779541,3.8404996395111084,10.059541702270508,-3.2634360790252686,-4.334856033325195,1.2369780540466309,-4.405218601226807,7.33274507522583,-12.602239608764648,-2.8863704204559326,-9.843365669250488,-4.254057884216309,-9.663518905639648,-2.1652657985687256,-4.984799861907959,-14.648263931274414,-14.709527015686035,-5.197053909301758,-3.8838932514190674,-7.6382222175598145,2.9890787601470947,-7.558873176574707,-7.600154399871826,1.5678187608718872,-4.625314235687256,6.738494873046875,-11.83957576751709,-9.075071334838867,1.5765799283981323,-0.7594247460365295,-6.86238431930542,-11.490458488464355,-12.380119323730469,-2.8622002601623535,-6.900807857513428,-7.504069805145264,-3.5789387226104736,-11.909270286560059,-12.669811248779297,-8.88455581665039,-9.712115287780762,3.002021312713623,-0.8269652724266052,-2.201580286026001,-11.238875389099121,6.12031364440918,-2.894867420196533,-6.802526473999023,-11.323420524597168,1.8372859954833984,-10.696239471435547,-10.63039493560791,-13.44842529296875,-2.285615921020508,1.9355119466781616,1.4770277738571167,5.8913421630859375,-11.15764331817627,-6.0960693359375,-6.061803817749023,5.373419284820557,-13.506925582885742,4.406810760498047,-10.153007507324219,5.443244457244873,4.389465808868408,1.8486673831939697,-5.988663673400879,-6.236135482788086,-9.228371620178223,-1.428586721420288,-10.569445610046387,-2.564732313156128,-5.655710697174072,-7.69086217880249,0.37749168276786804,7.336729526519775,1.9813834428787231,-2.722431182861328,1.9781326055526733,4.694431304931641,-3.9529759883880615,1.500375747680664,-2.317472219467163,-10.896344184875488,-6.119614601135254,-12.289328575134277,4.822710990905762,-2.0724782943725586,-0.3364209532737732,-12.087883949279785,2.418027877807617,4.580081462860107,-10.096441268920898,1.4618747234344482,10.166207313537598,7.562859535217285,-13.120384216308594,-8.024837493896484,7.802664756774902,2.254854917526245,2.3122916221618652,-2.6229403018951416,6.390392303466797,10.670190811157227,-0.4216792583465576,8.525076866149902,8.901649475097656,-6.0401740074157715,9.596390724182129,7.7750139236450195,1.688411831855774,-1.1768258810043335,2.936973810195923,0.5727234482765198,-4.008516311645508,6.770578861236572,3.2083394527435303,1.4897894859313965,-6.411045074462891,1.4242396354675293,10.08344841003418,7.847252368927002,1.2108604907989502,-11.30915641784668,0.027444804087281227,1.9907983541488647,1.7839640378952026,10.667963027954102,-1.7853000164031982,9.219884872436523,-0.3740173280239105,0.2224862277507782,-0.971412718296051,-1.9413461685180664,0.8449692726135254,-4.318150997161865,-0.8922895789146423,0.514567494392395,-2.241338014602661,-8.646809577941895,8.733146667480469,-3.6954634189605713,0.9442813992500305,11.070697784423828,-0.5607398748397827,9.909234046936035,4.622226715087891,0.24548302590847015,-1.2753875255584717,9.865409851074219,1.9411498308181763,-2.8319664001464844,-0.8087714314460754,-0.8532710075378418,-0.3753306567668915,2.920321226119995,5.700925350189209,3.589053153991699,0.6395840048789978,-1.7592960596084595,-0.17456796765327454,-2.010824680328369,-6.174965858459473,2.94541072845459,7.651764392852783,6.758216857910156,-9.886353492736816,-7.937438011169434,1.751425862312317,1.0414669513702393,-7.114834308624268,-8.553275108337402,5.401342391967773,10.423078536987305,-0.2684105336666107,1.3688265085220337,6.00899076461792,3.532543897628784,5.8090338706970215,-0.36841464042663574],\"type\":\"scatter3d\"}],                        {\"template\":{\"data\":{\"histogram2dcontour\":[{\"type\":\"histogram2dcontour\",\"colorbar\":{\"outlinewidth\":0,\"ticks\":\"\"},\"colorscale\":[[0.0,\"#0d0887\"],[0.1111111111111111,\"#46039f\"],[0.2222222222222222,\"#7201a8\"],[0.3333333333333333,\"#9c179e\"],[0.4444444444444444,\"#bd3786\"],[0.5555555555555556,\"#d8576b\"],[0.6666666666666666,\"#ed7953\"],[0.7777777777777778,\"#fb9f3a\"],[0.8888888888888888,\"#fdca26\"],[1.0,\"#f0f921\"]]}],\"choropleth\":[{\"type\":\"choropleth\",\"colorbar\":{\"outlinewidth\":0,\"ticks\":\"\"}}],\"histogram2d\":[{\"type\":\"histogram2d\",\"colorbar\":{\"outlinewidth\":0,\"ticks\":\"\"},\"colorscale\":[[0.0,\"#0d0887\"],[0.1111111111111111,\"#46039f\"],[0.2222222222222222,\"#7201a8\"],[0.3333333333333333,\"#9c179e\"],[0.4444444444444444,\"#bd3786\"],[0.5555555555555556,\"#d8576b\"],[0.6666666666666666,\"#ed7953\"],[0.7777777777777778,\"#fb9f3a\"],[0.8888888888888888,\"#fdca26\"],[1.0,\"#f0f921\"]]}],\"heatmap\":[{\"type\":\"heatmap\",\"colorbar\":{\"outlinewidth\":0,\"ticks\":\"\"},\"colorscale\":[[0.0,\"#0d0887\"],[0.1111111111111111,\"#46039f\"],[0.2222222222222222,\"#7201a8\"],[0.3333333333333333,\"#9c179e\"],[0.4444444444444444,\"#bd3786\"],[0.5555555555555556,\"#d8576b\"],[0.6666666666666666,\"#ed7953\"],[0.7777777777777778,\"#fb9f3a\"],[0.8888888888888888,\"#fdca26\"],[1.0,\"#f0f921\"]]}],\"heatmapgl\":[{\"type\":\"heatmapgl\",\"colorbar\":{\"outlinewidth\":0,\"ticks\":\"\"},\"colorscale\":[[0.0,\"#0d0887\"],[0.1111111111111111,\"#46039f\"],[0.2222222222222222,\"#7201a8\"],[0.3333333333333333,\"#9c179e\"],[0.4444444444444444,\"#bd3786\"],[0.5555555555555556,\"#d8576b\"],[0.6666666666666666,\"#ed7953\"],[0.7777777777777778,\"#fb9f3a\"],[0.8888888888888888,\"#fdca26\"],[1.0,\"#f0f921\"]]}],\"contourcarpet\":[{\"type\":\"contourcarpet\",\"colorbar\":{\"outlinewidth\":0,\"ticks\":\"\"}}],\"contour\":[{\"type\":\"contour\",\"colorbar\":{\"outlinewidth\":0,\"ticks\":\"\"},\"colorscale\":[[0.0,\"#0d0887\"],[0.1111111111111111,\"#46039f\"],[0.2222222222222222,\"#7201a8\"],[0.3333333333333333,\"#9c179e\"],[0.4444444444444444,\"#bd3786\"],[0.5555555555555556,\"#d8576b\"],[0.6666666666666666,\"#ed7953\"],[0.7777777777777778,\"#fb9f3a\"],[0.8888888888888888,\"#fdca26\"],[1.0,\"#f0f921\"]]}],\"surface\":[{\"type\":\"surface\",\"colorbar\":{\"outlinewidth\":0,\"ticks\":\"\"},\"colorscale\":[[0.0,\"#0d0887\"],[0.1111111111111111,\"#46039f\"],[0.2222222222222222,\"#7201a8\"],[0.3333333333333333,\"#9c179e\"],[0.4444444444444444,\"#bd3786\"],[0.5555555555555556,\"#d8576b\"],[0.6666666666666666,\"#ed7953\"],[0.7777777777777778,\"#fb9f3a\"],[0.8888888888888888,\"#fdca26\"],[1.0,\"#f0f921\"]]}],\"mesh3d\":[{\"type\":\"mesh3d\",\"colorbar\":{\"outlinewidth\":0,\"ticks\":\"\"}}],\"scatter\":[{\"fillpattern\":{\"fillmode\":\"overlay\",\"size\":10,\"solidity\":0.2},\"type\":\"scatter\"}],\"parcoords\":[{\"type\":\"parcoords\",\"line\":{\"colorbar\":{\"outlinewidth\":0,\"ticks\":\"\"}}}],\"scatterpolargl\":[{\"type\":\"scatterpolargl\",\"marker\":{\"colorbar\":{\"outlinewidth\":0,\"ticks\":\"\"}}}],\"bar\":[{\"error_x\":{\"color\":\"#2a3f5f\"},\"error_y\":{\"color\":\"#2a3f5f\"},\"marker\":{\"line\":{\"color\":\"#E5ECF6\",\"width\":0.5},\"pattern\":{\"fillmode\":\"overlay\",\"size\":10,\"solidity\":0.2}},\"type\":\"bar\"}],\"scattergeo\":[{\"type\":\"scattergeo\",\"marker\":{\"colorbar\":{\"outlinewidth\":0,\"ticks\":\"\"}}}],\"scatterpolar\":[{\"type\":\"scatterpolar\",\"marker\":{\"colorbar\":{\"outlinewidth\":0,\"ticks\":\"\"}}}],\"histogram\":[{\"marker\":{\"pattern\":{\"fillmode\":\"overlay\",\"size\":10,\"solidity\":0.2}},\"type\":\"histogram\"}],\"scattergl\":[{\"type\":\"scattergl\",\"marker\":{\"colorbar\":{\"outlinewidth\":0,\"ticks\":\"\"}}}],\"scatter3d\":[{\"type\":\"scatter3d\",\"line\":{\"colorbar\":{\"outlinewidth\":0,\"ticks\":\"\"}},\"marker\":{\"colorbar\":{\"outlinewidth\":0,\"ticks\":\"\"}}}],\"scattermapbox\":[{\"type\":\"scattermapbox\",\"marker\":{\"colorbar\":{\"outlinewidth\":0,\"ticks\":\"\"}}}],\"scatterternary\":[{\"type\":\"scatterternary\",\"marker\":{\"colorbar\":{\"outlinewidth\":0,\"ticks\":\"\"}}}],\"scattercarpet\":[{\"type\":\"scattercarpet\",\"marker\":{\"colorbar\":{\"outlinewidth\":0,\"ticks\":\"\"}}}],\"carpet\":[{\"aaxis\":{\"endlinecolor\":\"#2a3f5f\",\"gridcolor\":\"white\",\"linecolor\":\"white\",\"minorgridcolor\":\"white\",\"startlinecolor\":\"#2a3f5f\"},\"baxis\":{\"endlinecolor\":\"#2a3f5f\",\"gridcolor\":\"white\",\"linecolor\":\"white\",\"minorgridcolor\":\"white\",\"startlinecolor\":\"#2a3f5f\"},\"type\":\"carpet\"}],\"table\":[{\"cells\":{\"fill\":{\"color\":\"#EBF0F8\"},\"line\":{\"color\":\"white\"}},\"header\":{\"fill\":{\"color\":\"#C8D4E3\"},\"line\":{\"color\":\"white\"}},\"type\":\"table\"}],\"barpolar\":[{\"marker\":{\"line\":{\"color\":\"#E5ECF6\",\"width\":0.5},\"pattern\":{\"fillmode\":\"overlay\",\"size\":10,\"solidity\":0.2}},\"type\":\"barpolar\"}],\"pie\":[{\"automargin\":true,\"type\":\"pie\"}]},\"layout\":{\"autotypenumbers\":\"strict\",\"colorway\":[\"#636efa\",\"#EF553B\",\"#00cc96\",\"#ab63fa\",\"#FFA15A\",\"#19d3f3\",\"#FF6692\",\"#B6E880\",\"#FF97FF\",\"#FECB52\"],\"font\":{\"color\":\"#2a3f5f\"},\"hovermode\":\"closest\",\"hoverlabel\":{\"align\":\"left\"},\"paper_bgcolor\":\"white\",\"plot_bgcolor\":\"#E5ECF6\",\"polar\":{\"bgcolor\":\"#E5ECF6\",\"angularaxis\":{\"gridcolor\":\"white\",\"linecolor\":\"white\",\"ticks\":\"\"},\"radialaxis\":{\"gridcolor\":\"white\",\"linecolor\":\"white\",\"ticks\":\"\"}},\"ternary\":{\"bgcolor\":\"#E5ECF6\",\"aaxis\":{\"gridcolor\":\"white\",\"linecolor\":\"white\",\"ticks\":\"\"},\"baxis\":{\"gridcolor\":\"white\",\"linecolor\":\"white\",\"ticks\":\"\"},\"caxis\":{\"gridcolor\":\"white\",\"linecolor\":\"white\",\"ticks\":\"\"}},\"coloraxis\":{\"colorbar\":{\"outlinewidth\":0,\"ticks\":\"\"}},\"colorscale\":{\"sequential\":[[0.0,\"#0d0887\"],[0.1111111111111111,\"#46039f\"],[0.2222222222222222,\"#7201a8\"],[0.3333333333333333,\"#9c179e\"],[0.4444444444444444,\"#bd3786\"],[0.5555555555555556,\"#d8576b\"],[0.6666666666666666,\"#ed7953\"],[0.7777777777777778,\"#fb9f3a\"],[0.8888888888888888,\"#fdca26\"],[1.0,\"#f0f921\"]],\"sequentialminus\":[[0.0,\"#0d0887\"],[0.1111111111111111,\"#46039f\"],[0.2222222222222222,\"#7201a8\"],[0.3333333333333333,\"#9c179e\"],[0.4444444444444444,\"#bd3786\"],[0.5555555555555556,\"#d8576b\"],[0.6666666666666666,\"#ed7953\"],[0.7777777777777778,\"#fb9f3a\"],[0.8888888888888888,\"#fdca26\"],[1.0,\"#f0f921\"]],\"diverging\":[[0,\"#8e0152\"],[0.1,\"#c51b7d\"],[0.2,\"#de77ae\"],[0.3,\"#f1b6da\"],[0.4,\"#fde0ef\"],[0.5,\"#f7f7f7\"],[0.6,\"#e6f5d0\"],[0.7,\"#b8e186\"],[0.8,\"#7fbc41\"],[0.9,\"#4d9221\"],[1,\"#276419\"]]},\"xaxis\":{\"gridcolor\":\"white\",\"linecolor\":\"white\",\"ticks\":\"\",\"title\":{\"standoff\":15},\"zerolinecolor\":\"white\",\"automargin\":true,\"zerolinewidth\":2},\"yaxis\":{\"gridcolor\":\"white\",\"linecolor\":\"white\",\"ticks\":\"\",\"title\":{\"standoff\":15},\"zerolinecolor\":\"white\",\"automargin\":true,\"zerolinewidth\":2},\"scene\":{\"xaxis\":{\"backgroundcolor\":\"#E5ECF6\",\"gridcolor\":\"white\",\"linecolor\":\"white\",\"showbackground\":true,\"ticks\":\"\",\"zerolinecolor\":\"white\",\"gridwidth\":2},\"yaxis\":{\"backgroundcolor\":\"#E5ECF6\",\"gridcolor\":\"white\",\"linecolor\":\"white\",\"showbackground\":true,\"ticks\":\"\",\"zerolinecolor\":\"white\",\"gridwidth\":2},\"zaxis\":{\"backgroundcolor\":\"#E5ECF6\",\"gridcolor\":\"white\",\"linecolor\":\"white\",\"showbackground\":true,\"ticks\":\"\",\"zerolinecolor\":\"white\",\"gridwidth\":2}},\"shapedefaults\":{\"line\":{\"color\":\"#2a3f5f\"}},\"annotationdefaults\":{\"arrowcolor\":\"#2a3f5f\",\"arrowhead\":0,\"arrowwidth\":1},\"geo\":{\"bgcolor\":\"white\",\"landcolor\":\"#E5ECF6\",\"subunitcolor\":\"white\",\"showland\":true,\"showlakes\":true,\"lakecolor\":\"white\"},\"title\":{\"x\":0.05},\"mapbox\":{\"style\":\"light\"}}},\"scene\":{\"domain\":{\"x\":[0.0,1.0],\"y\":[0.0,1.0]},\"xaxis\":{\"title\":{\"text\":\"0\"}},\"yaxis\":{\"title\":{\"text\":\"1\"}},\"zaxis\":{\"title\":{\"text\":\"2\"}}},\"coloraxis\":{\"colorbar\":{\"title\":{\"text\":\"Anomaly\"}},\"colorscale\":[[0.0,\"#0d0887\"],[0.1111111111111111,\"#46039f\"],[0.2222222222222222,\"#7201a8\"],[0.3333333333333333,\"#9c179e\"],[0.4444444444444444,\"#bd3786\"],[0.5555555555555556,\"#d8576b\"],[0.6666666666666666,\"#ed7953\"],[0.7777777777777778,\"#fb9f3a\"],[0.8888888888888888,\"#fdca26\"],[1.0,\"#f0f921\"]]},\"legend\":{\"tracegroupgap\":0},\"title\":{\"text\":\"3d TSNE Plot for Outliers\"},\"height\":800,\"width\":900},                        {\"responsive\": true}                    ).then(function(){\n",
       "                            \n",
       "var gd = document.getElementById('d0bd3fe3-097d-46e5-b080-a924c99b93ad');\n",
       "var x = new MutationObserver(function (mutations, observer) {{\n",
       "        var display = window.getComputedStyle(gd).display;\n",
       "        if (!display || display === 'none') {{\n",
       "            console.log([gd, 'removed!']);\n",
       "            Plotly.purge(gd);\n",
       "            observer.disconnect();\n",
       "        }}\n",
       "}});\n",
       "\n",
       "// Listen for the removal of the full notebook cells\n",
       "var notebookContainer = gd.closest('#notebook-container');\n",
       "if (notebookContainer) {{\n",
       "    x.observe(notebookContainer, {childList: true});\n",
       "}}\n",
       "\n",
       "// Listen for the clearing of the current output cell\n",
       "var outputEl = gd.closest('.output');\n",
       "if (outputEl) {{\n",
       "    x.observe(outputEl, {childList: true});\n",
       "}}\n",
       "\n",
       "                        })                };                });            </script>        </div>"
      ]
     },
     "metadata": {},
     "output_type": "display_data"
    }
   ],
   "source": [
    "plot_model(iforest, plot = 'tsne')"
   ]
  },
  {
   "cell_type": "code",
   "execution_count": 25,
   "id": "32ef5ef1",
   "metadata": {},
   "outputs": [
    {
     "data": {
      "text/html": [
       "<div>\n",
       "<style scoped>\n",
       "    .dataframe tbody tr th:only-of-type {\n",
       "        vertical-align: middle;\n",
       "    }\n",
       "\n",
       "    .dataframe tbody tr th {\n",
       "        vertical-align: top;\n",
       "    }\n",
       "\n",
       "    .dataframe thead th {\n",
       "        text-align: right;\n",
       "    }\n",
       "</style>\n",
       "<table border=\"1\" class=\"dataframe\">\n",
       "  <thead>\n",
       "    <tr style=\"text-align: right;\">\n",
       "      <th></th>\n",
       "      <th>Cantidad boletas</th>\n",
       "      <th>TotalUnidades</th>\n",
       "      <th>TotalCompraPesos</th>\n",
       "      <th>PromoDay</th>\n",
       "      <th>Si</th>\n",
       "      <th>TotalPromos</th>\n",
       "      <th>Anomaly</th>\n",
       "      <th>Anomaly_Score</th>\n",
       "    </tr>\n",
       "  </thead>\n",
       "  <tbody>\n",
       "    <tr>\n",
       "      <th>0</th>\n",
       "      <td>3</td>\n",
       "      <td>10</td>\n",
       "      <td>286860</td>\n",
       "      <td>2</td>\n",
       "      <td>2</td>\n",
       "      <td>4</td>\n",
       "      <td>0</td>\n",
       "      <td>-0.136919</td>\n",
       "    </tr>\n",
       "    <tr>\n",
       "      <th>4</th>\n",
       "      <td>3</td>\n",
       "      <td>15</td>\n",
       "      <td>919191</td>\n",
       "      <td>1</td>\n",
       "      <td>6</td>\n",
       "      <td>7</td>\n",
       "      <td>0</td>\n",
       "      <td>-0.158264</td>\n",
       "    </tr>\n",
       "    <tr>\n",
       "      <th>5</th>\n",
       "      <td>3</td>\n",
       "      <td>4</td>\n",
       "      <td>837822</td>\n",
       "      <td>2</td>\n",
       "      <td>2</td>\n",
       "      <td>4</td>\n",
       "      <td>0</td>\n",
       "      <td>-0.118960</td>\n",
       "    </tr>\n",
       "    <tr>\n",
       "      <th>7</th>\n",
       "      <td>1</td>\n",
       "      <td>15</td>\n",
       "      <td>1885951</td>\n",
       "      <td>3</td>\n",
       "      <td>4</td>\n",
       "      <td>7</td>\n",
       "      <td>0</td>\n",
       "      <td>-0.071269</td>\n",
       "    </tr>\n",
       "    <tr>\n",
       "      <th>8</th>\n",
       "      <td>1</td>\n",
       "      <td>6</td>\n",
       "      <td>241558</td>\n",
       "      <td>1</td>\n",
       "      <td>0</td>\n",
       "      <td>1</td>\n",
       "      <td>0</td>\n",
       "      <td>-0.157343</td>\n",
       "    </tr>\n",
       "    <tr>\n",
       "      <th>...</th>\n",
       "      <td>...</td>\n",
       "      <td>...</td>\n",
       "      <td>...</td>\n",
       "      <td>...</td>\n",
       "      <td>...</td>\n",
       "      <td>...</td>\n",
       "      <td>...</td>\n",
       "      <td>...</td>\n",
       "    </tr>\n",
       "    <tr>\n",
       "      <th>5782</th>\n",
       "      <td>2</td>\n",
       "      <td>7</td>\n",
       "      <td>757815</td>\n",
       "      <td>1</td>\n",
       "      <td>2</td>\n",
       "      <td>3</td>\n",
       "      <td>0</td>\n",
       "      <td>-0.174754</td>\n",
       "    </tr>\n",
       "    <tr>\n",
       "      <th>5784</th>\n",
       "      <td>1</td>\n",
       "      <td>1</td>\n",
       "      <td>75230</td>\n",
       "      <td>1</td>\n",
       "      <td>0</td>\n",
       "      <td>1</td>\n",
       "      <td>0</td>\n",
       "      <td>-0.166418</td>\n",
       "    </tr>\n",
       "    <tr>\n",
       "      <th>5790</th>\n",
       "      <td>2</td>\n",
       "      <td>5</td>\n",
       "      <td>214043</td>\n",
       "      <td>0</td>\n",
       "      <td>4</td>\n",
       "      <td>4</td>\n",
       "      <td>0</td>\n",
       "      <td>-0.188240</td>\n",
       "    </tr>\n",
       "    <tr>\n",
       "      <th>5800</th>\n",
       "      <td>1</td>\n",
       "      <td>5</td>\n",
       "      <td>432904</td>\n",
       "      <td>0</td>\n",
       "      <td>2</td>\n",
       "      <td>2</td>\n",
       "      <td>0</td>\n",
       "      <td>-0.204601</td>\n",
       "    </tr>\n",
       "    <tr>\n",
       "      <th>5846</th>\n",
       "      <td>1</td>\n",
       "      <td>1</td>\n",
       "      <td>696373</td>\n",
       "      <td>1</td>\n",
       "      <td>0</td>\n",
       "      <td>1</td>\n",
       "      <td>0</td>\n",
       "      <td>-0.127151</td>\n",
       "    </tr>\n",
       "  </tbody>\n",
       "</table>\n",
       "<p>1151 rows × 8 columns</p>\n",
       "</div>"
      ],
      "text/plain": [
       "      Cantidad boletas  TotalUnidades  TotalCompraPesos  PromoDay  Si  \\\n",
       "0                    3             10            286860         2   2   \n",
       "4                    3             15            919191         1   6   \n",
       "5                    3              4            837822         2   2   \n",
       "7                    1             15           1885951         3   4   \n",
       "8                    1              6            241558         1   0   \n",
       "...                ...            ...               ...       ...  ..   \n",
       "5782                 2              7            757815         1   2   \n",
       "5784                 1              1             75230         1   0   \n",
       "5790                 2              5            214043         0   4   \n",
       "5800                 1              5            432904         0   2   \n",
       "5846                 1              1            696373         1   0   \n",
       "\n",
       "      TotalPromos  Anomaly  Anomaly_Score  \n",
       "0               4        0      -0.136919  \n",
       "4               7        0      -0.158264  \n",
       "5               4        0      -0.118960  \n",
       "7               7        0      -0.071269  \n",
       "8               1        0      -0.157343  \n",
       "...           ...      ...            ...  \n",
       "5782            3        0      -0.174754  \n",
       "5784            1        0      -0.166418  \n",
       "5790            4        0      -0.188240  \n",
       "5800            2        0      -0.204601  \n",
       "5846            1        0      -0.127151  \n",
       "\n",
       "[1151 rows x 8 columns]"
      ]
     },
     "execution_count": 25,
     "metadata": {},
     "output_type": "execute_result"
    }
   ],
   "source": [
    "iforest_results[(iforest_results['Anomaly']==0)&(iforest_results['Anomaly_Score']<0)]"
   ]
  },
  {
   "cell_type": "code",
   "execution_count": 11,
   "id": "c5587c81",
   "metadata": {},
   "outputs": [
    {
     "name": "stdout",
     "output_type": "stream",
     "text": [
      "Transformation Pipeline and Model Successfully Saved\n"
     ]
    },
    {
     "data": {
      "text/plain": [
       "(Pipeline(memory=None,\n",
       "          steps=[('dtypes',\n",
       "                  DataTypes_Auto_infer(categorical_features=[],\n",
       "                                       display_types=True, features_todrop=[],\n",
       "                                       id_columns=[], ml_usecase='regression',\n",
       "                                       numerical_features=['Cantidad boletas',\n",
       "                                                           'PromoDay'],\n",
       "                                       target='UNSUPERVISED_DUMMY_TARGET',\n",
       "                                       time_features=[])),\n",
       "                 ('imputer',\n",
       "                  Simple_Imputer(categorical_strategy='most frequent',\n",
       "                                 fill_value_categorical=No...\n",
       "                 ('fix_perfect', 'passthrough'),\n",
       "                 ('clean_names', Clean_Colum_Names()),\n",
       "                 ('feature_select', 'passthrough'), ('fix_multi', 'passthrough'),\n",
       "                 ('dfs', 'passthrough'), ('pca', 'passthrough'),\n",
       "                 ['trained_model',\n",
       "                  IForest(behaviour='new', bootstrap=False, contamination=0.05,\n",
       "     max_features=1.0, max_samples='auto', n_estimators=100, n_jobs=-1,\n",
       "     random_state=8734, verbose=0)]],\n",
       "          verbose=False),\n",
       " 'C:\\\\Users\\\\ext_jmcampor\\\\Desktop\\\\Falabella\\\\virtualEnvs\\\\ProyectoAnomalyDetection\\\\Models\\\\anomalydetectionV1allVariables.pkl')"
      ]
     },
     "execution_count": 11,
     "metadata": {},
     "output_type": "execute_result"
    }
   ],
   "source": [
    "save_model(iforest,pathModels+'\\\\anomalydetectionV1allVariables')"
   ]
  },
  {
   "cell_type": "code",
   "execution_count": 17,
   "id": "35817823",
   "metadata": {},
   "outputs": [
    {
     "name": "stdout",
     "output_type": "stream",
     "text": [
      "Transformation Pipeline and Model Successfully Saved\n"
     ]
    },
    {
     "data": {
      "text/plain": [
       "(Pipeline(memory=None,\n",
       "          steps=[('dtypes',\n",
       "                  DataTypes_Auto_infer(categorical_features=[],\n",
       "                                       display_types=True, features_todrop=[],\n",
       "                                       id_columns=[], ml_usecase='regression',\n",
       "                                       numerical_features=['Cantidad boletas',\n",
       "                                                           'PromoDay'],\n",
       "                                       target='UNSUPERVISED_DUMMY_TARGET',\n",
       "                                       time_features=[])),\n",
       "                 ('imputer',\n",
       "                  Simple_Imputer(categorical_strategy='most frequent',\n",
       "                                 fill_value_categorical=No...\n",
       "                 ('fix_perfect', 'passthrough'),\n",
       "                 ('clean_names', Clean_Colum_Names()),\n",
       "                 ('feature_select', 'passthrough'), ('fix_multi', 'passthrough'),\n",
       "                 ('dfs', 'passthrough'), ('pca', 'passthrough'),\n",
       "                 ['trained_model',\n",
       "                  IForest(behaviour='new', bootstrap=False, contamination=0.05,\n",
       "     max_features=1.0, max_samples='auto', n_estimators=100, n_jobs=-1,\n",
       "     random_state=4386, verbose=0)]],\n",
       "          verbose=False),\n",
       " 'C:\\\\Users\\\\ext_jmcampor\\\\Desktop\\\\Falabella\\\\virtualEnvs\\\\ProyectoAnomalyDetection\\\\Models\\\\anomalydetectionV2.pkl')"
      ]
     },
     "execution_count": 17,
     "metadata": {},
     "output_type": "execute_result"
    }
   ],
   "source": [
    "save_model(iforest,pathModels+'\\\\anomalydetectionV2')"
   ]
  },
  {
   "cell_type": "code",
   "execution_count": null,
   "id": "3e7539f4",
   "metadata": {},
   "outputs": [],
   "source": []
  }
 ],
 "metadata": {
  "kernelspec": {
   "display_name": "Python 3 (ipykernel)",
   "language": "python",
   "name": "python3"
  },
  "language_info": {
   "codemirror_mode": {
    "name": "ipython",
    "version": 3
   },
   "file_extension": ".py",
   "mimetype": "text/x-python",
   "name": "python",
   "nbconvert_exporter": "python",
   "pygments_lexer": "ipython3",
   "version": "3.8.15"
  }
 },
 "nbformat": 4,
 "nbformat_minor": 5
}
